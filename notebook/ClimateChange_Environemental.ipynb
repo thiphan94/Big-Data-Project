{
  "nbformat": 4,
  "nbformat_minor": 0,
  "metadata": {
    "colab": {
      "name": "ClimateChange_Environemental.ipynb",
      "provenance": [],
      "collapsed_sections": []
    },
    "kernelspec": {
      "name": "python3",
      "display_name": "Python 3"
    },
    "language_info": {
      "name": "python"
    }
  },
  "cells": [
    {
      "cell_type": "markdown",
      "source": [
        "IMPORTING AND LOADING DATA"
      ],
      "metadata": {
        "id": "IE76uWWYdx1x"
      }
    },
    {
      "cell_type": "code",
      "source": [
        "# utilities\n",
        "import re\n",
        "import numpy as np\n",
        "import pandas as pd\n",
        "import sqlite3 as sq3\n",
        "# plotting\n",
        "import seaborn as sns\n",
        "from wordcloud import WordCloud\n",
        "import matplotlib.pyplot as plt\n",
        "# nltk\n",
        "from nltk.stem import WordNetLemmatizer\n",
        "from nltk.corpus import stopwords\n",
        "!pip install -q wordcloud\n",
        "import wordcloud\n",
        "\n",
        "import nltk\n",
        "nltk.download('stopwords')\n",
        "nltk.download('wordnet')\n",
        "nltk.download('punkt')\n",
        "nltk.download('averaged_perceptron_tagger') \n",
        "from nltk.tokenize import word_tokenize\n",
        "# sklearn\n",
        "from sklearn.svm import LinearSVC\n",
        "from sklearn.naive_bayes import BernoulliNB\n",
        "from sklearn.linear_model import LogisticRegression\n",
        "from sklearn.model_selection import train_test_split\n",
        "from sklearn.feature_extraction.text import TfidfVectorizer\n",
        "from sklearn.metrics import confusion_matrix, classification_report\n",
        "import pandas as pd\n",
        "from termcolor import colored"
      ],
      "metadata": {
        "colab": {
          "base_uri": "https://localhost:8080/"
        },
        "id": "VtR_p4DuoToS",
        "outputId": "cbb1c528-a30d-409c-d443-2a7398510869"
      },
      "execution_count": 1,
      "outputs": [
        {
          "output_type": "stream",
          "name": "stdout",
          "text": [
            "[nltk_data] Downloading package stopwords to /root/nltk_data...\n",
            "[nltk_data]   Unzipping corpora/stopwords.zip.\n",
            "[nltk_data] Downloading package wordnet to /root/nltk_data...\n",
            "[nltk_data]   Unzipping corpora/wordnet.zip.\n",
            "[nltk_data] Downloading package punkt to /root/nltk_data...\n",
            "[nltk_data]   Unzipping tokenizers/punkt.zip.\n",
            "[nltk_data] Downloading package averaged_perceptron_tagger to\n",
            "[nltk_data]     /root/nltk_data...\n",
            "[nltk_data]   Unzipping taggers/averaged_perceptron_tagger.zip.\n"
          ]
        }
      ]
    },
    {
      "cell_type": "code",
      "source": [
        "from google.colab import drive\n",
        "drive.mount('/content/drive')"
      ],
      "metadata": {
        "colab": {
          "base_uri": "https://localhost:8080/"
        },
        "id": "eK_4QQILoX-X",
        "outputId": "c7a7e11b-634f-48c4-8f69-c00f9a2a098a"
      },
      "execution_count": 2,
      "outputs": [
        {
          "output_type": "stream",
          "name": "stdout",
          "text": [
            "Drive already mounted at /content/drive; to attempt to forcibly remount, call drive.mount(\"/content/drive\", force_remount=True).\n"
          ]
        }
      ]
    },
    {
      "cell_type": "code",
      "source": [
        "path = '/content/drive/MyDrive/Colab Notebooks/Sentiment.db'\n",
        "con = sq3.Connection(path)\n",
        "query = \"\"\"\n",
        "SELECT *\n",
        "FROM climatechange;\n",
        "\"\"\"\n",
        "dataset = pd.read_sql(query, con)\n",
        "dataset.columns = ['sentiment','text', 'tweet_Id']\n",
        "dataset = dataset.iloc[1:]\n",
        "dataset.index = range(len(dataset))\n",
        "dataset.head()"
      ],
      "metadata": {
        "colab": {
          "base_uri": "https://localhost:8080/",
          "height": 206
        },
        "id": "6tgSC7rYoZWs",
        "outputId": "0fda41f1-44c1-4470-af93-0d1086aba69e"
      },
      "execution_count": 48,
      "outputs": [
        {
          "output_type": "execute_result",
          "data": {
            "text/plain": [
              "  sentiment                                               text  \\\n",
              "0        -1  @tiniebeany climate change is an interesting h...   \n",
              "1         1  RT @NatGeoChannel: Watch #BeforeTheFlood right...   \n",
              "2         1  Fabulous! Leonardo #DiCaprio's film on #climat...   \n",
              "3         1  RT @Mick_Fanning: Just watched this amazing do...   \n",
              "4         2  RT @cnalive: Pranita Biswasi, a Lutheran from ...   \n",
              "\n",
              "             tweet_Id  \n",
              "0  792927353886371840  \n",
              "1  793124211518832641  \n",
              "2  793124402388832256  \n",
              "3  793124635873275904  \n",
              "4  793125156185137153  "
            ],
            "text/html": [
              "\n",
              "  <div id=\"df-53d8f08e-f546-4b88-8c72-92f315823189\">\n",
              "    <div class=\"colab-df-container\">\n",
              "      <div>\n",
              "<style scoped>\n",
              "    .dataframe tbody tr th:only-of-type {\n",
              "        vertical-align: middle;\n",
              "    }\n",
              "\n",
              "    .dataframe tbody tr th {\n",
              "        vertical-align: top;\n",
              "    }\n",
              "\n",
              "    .dataframe thead th {\n",
              "        text-align: right;\n",
              "    }\n",
              "</style>\n",
              "<table border=\"1\" class=\"dataframe\">\n",
              "  <thead>\n",
              "    <tr style=\"text-align: right;\">\n",
              "      <th></th>\n",
              "      <th>sentiment</th>\n",
              "      <th>text</th>\n",
              "      <th>tweet_Id</th>\n",
              "    </tr>\n",
              "  </thead>\n",
              "  <tbody>\n",
              "    <tr>\n",
              "      <th>0</th>\n",
              "      <td>-1</td>\n",
              "      <td>@tiniebeany climate change is an interesting h...</td>\n",
              "      <td>792927353886371840</td>\n",
              "    </tr>\n",
              "    <tr>\n",
              "      <th>1</th>\n",
              "      <td>1</td>\n",
              "      <td>RT @NatGeoChannel: Watch #BeforeTheFlood right...</td>\n",
              "      <td>793124211518832641</td>\n",
              "    </tr>\n",
              "    <tr>\n",
              "      <th>2</th>\n",
              "      <td>1</td>\n",
              "      <td>Fabulous! Leonardo #DiCaprio's film on #climat...</td>\n",
              "      <td>793124402388832256</td>\n",
              "    </tr>\n",
              "    <tr>\n",
              "      <th>3</th>\n",
              "      <td>1</td>\n",
              "      <td>RT @Mick_Fanning: Just watched this amazing do...</td>\n",
              "      <td>793124635873275904</td>\n",
              "    </tr>\n",
              "    <tr>\n",
              "      <th>4</th>\n",
              "      <td>2</td>\n",
              "      <td>RT @cnalive: Pranita Biswasi, a Lutheran from ...</td>\n",
              "      <td>793125156185137153</td>\n",
              "    </tr>\n",
              "  </tbody>\n",
              "</table>\n",
              "</div>\n",
              "      <button class=\"colab-df-convert\" onclick=\"convertToInteractive('df-53d8f08e-f546-4b88-8c72-92f315823189')\"\n",
              "              title=\"Convert this dataframe to an interactive table.\"\n",
              "              style=\"display:none;\">\n",
              "        \n",
              "  <svg xmlns=\"http://www.w3.org/2000/svg\" height=\"24px\"viewBox=\"0 0 24 24\"\n",
              "       width=\"24px\">\n",
              "    <path d=\"M0 0h24v24H0V0z\" fill=\"none\"/>\n",
              "    <path d=\"M18.56 5.44l.94 2.06.94-2.06 2.06-.94-2.06-.94-.94-2.06-.94 2.06-2.06.94zm-11 1L8.5 8.5l.94-2.06 2.06-.94-2.06-.94L8.5 2.5l-.94 2.06-2.06.94zm10 10l.94 2.06.94-2.06 2.06-.94-2.06-.94-.94-2.06-.94 2.06-2.06.94z\"/><path d=\"M17.41 7.96l-1.37-1.37c-.4-.4-.92-.59-1.43-.59-.52 0-1.04.2-1.43.59L10.3 9.45l-7.72 7.72c-.78.78-.78 2.05 0 2.83L4 21.41c.39.39.9.59 1.41.59.51 0 1.02-.2 1.41-.59l7.78-7.78 2.81-2.81c.8-.78.8-2.07 0-2.86zM5.41 20L4 18.59l7.72-7.72 1.47 1.35L5.41 20z\"/>\n",
              "  </svg>\n",
              "      </button>\n",
              "      \n",
              "  <style>\n",
              "    .colab-df-container {\n",
              "      display:flex;\n",
              "      flex-wrap:wrap;\n",
              "      gap: 12px;\n",
              "    }\n",
              "\n",
              "    .colab-df-convert {\n",
              "      background-color: #E8F0FE;\n",
              "      border: none;\n",
              "      border-radius: 50%;\n",
              "      cursor: pointer;\n",
              "      display: none;\n",
              "      fill: #1967D2;\n",
              "      height: 32px;\n",
              "      padding: 0 0 0 0;\n",
              "      width: 32px;\n",
              "    }\n",
              "\n",
              "    .colab-df-convert:hover {\n",
              "      background-color: #E2EBFA;\n",
              "      box-shadow: 0px 1px 2px rgba(60, 64, 67, 0.3), 0px 1px 3px 1px rgba(60, 64, 67, 0.15);\n",
              "      fill: #174EA6;\n",
              "    }\n",
              "\n",
              "    [theme=dark] .colab-df-convert {\n",
              "      background-color: #3B4455;\n",
              "      fill: #D2E3FC;\n",
              "    }\n",
              "\n",
              "    [theme=dark] .colab-df-convert:hover {\n",
              "      background-color: #434B5C;\n",
              "      box-shadow: 0px 1px 3px 1px rgba(0, 0, 0, 0.15);\n",
              "      filter: drop-shadow(0px 1px 2px rgba(0, 0, 0, 0.3));\n",
              "      fill: #FFFFFF;\n",
              "    }\n",
              "  </style>\n",
              "\n",
              "      <script>\n",
              "        const buttonEl =\n",
              "          document.querySelector('#df-53d8f08e-f546-4b88-8c72-92f315823189 button.colab-df-convert');\n",
              "        buttonEl.style.display =\n",
              "          google.colab.kernel.accessAllowed ? 'block' : 'none';\n",
              "\n",
              "        async function convertToInteractive(key) {\n",
              "          const element = document.querySelector('#df-53d8f08e-f546-4b88-8c72-92f315823189');\n",
              "          const dataTable =\n",
              "            await google.colab.kernel.invokeFunction('convertToInteractive',\n",
              "                                                     [key], {});\n",
              "          if (!dataTable) return;\n",
              "\n",
              "          const docLinkHtml = 'Like what you see? Visit the ' +\n",
              "            '<a target=\"_blank\" href=https://colab.research.google.com/notebooks/data_table.ipynb>data table notebook</a>'\n",
              "            + ' to learn more about interactive tables.';\n",
              "          element.innerHTML = '';\n",
              "          dataTable['output_type'] = 'display_data';\n",
              "          await google.colab.output.renderOutput(dataTable, element);\n",
              "          const docLink = document.createElement('div');\n",
              "          docLink.innerHTML = docLinkHtml;\n",
              "          element.appendChild(docLink);\n",
              "        }\n",
              "      </script>\n",
              "    </div>\n",
              "  </div>\n",
              "  "
            ]
          },
          "metadata": {},
          "execution_count": 48
        }
      ]
    },
    {
      "cell_type": "markdown",
      "source": [
        "EXPLORATORY DATA ANALYSIS"
      ],
      "metadata": {
        "id": "DW4bTgu2d-rK"
      }
    },
    {
      "cell_type": "code",
      "source": [
        "dataset.info()"
      ],
      "metadata": {
        "colab": {
          "base_uri": "https://localhost:8080/"
        },
        "id": "VSXiD08tJFca",
        "outputId": "d61c81be-bb95-4e79-f724-641751456363"
      },
      "execution_count": 4,
      "outputs": [
        {
          "output_type": "stream",
          "name": "stdout",
          "text": [
            "<class 'pandas.core.frame.DataFrame'>\n",
            "RangeIndex: 43943 entries, 0 to 43942\n",
            "Data columns (total 3 columns):\n",
            " #   Column             Non-Null Count  Dtype \n",
            "---  ------             --------------  ----- \n",
            " 0   airline_sentiment  43943 non-null  object\n",
            " 1   text               43943 non-null  object\n",
            " 2   tweet_Id           43943 non-null  object\n",
            "dtypes: object(3)\n",
            "memory usage: 1.0+ MB\n"
          ]
        }
      ]
    },
    {
      "cell_type": "code",
      "source": [
        "print('Three types of sentiments possible: ', dataset['sentiment'].unique())\n",
        "sentiment_distribution = sns.countplot(x = \"sentiment\", data = dataset)"
      ],
      "metadata": {
        "colab": {
          "base_uri": "https://localhost:8080/",
          "height": 297
        },
        "id": "es2hXFv6JGO4",
        "outputId": "6c007eb5-8572-4b84-87be-f42fb29b7ec4"
      },
      "execution_count": 38,
      "outputs": [
        {
          "output_type": "stream",
          "name": "stdout",
          "text": [
            "Three types of sentiments possible:  ['-1' '1' '2' '0']\n"
          ]
        },
        {
          "output_type": "display_data",
          "data": {
            "text/plain": [
              "<Figure size 432x288 with 1 Axes>"
            ],
            "image/png": "[encoded data removed]"
          },
          "metadata": {
            "needs_background": "light"
          }
        }
      ]
    },
    {
      "cell_type": "markdown",
      "source": [
        "DATA PREPROCESSING"
      ],
      "metadata": {
        "id": "XP2x5aOS-Hcf"
      }
    },
    {
      "cell_type": "code",
      "source": [
        "#dataset['airline_sentiment'].replace((0, 1, -1), ('neutral', 'positive', 'negative'),  inplace = True)\n",
        "#dataset['airline_sentiment'].replace('None', 0, inplace = True)\n",
        "dataset.sentiment.fillna(' ',inplace=True)\n",
        "dataset['sentiment'].value_counts()\n",
        "#dataset['text'].head()"
      ],
      "metadata": {
        "colab": {
          "base_uri": "https://localhost:8080/"
        },
        "id": "sgXvEE1p-KWw",
        "outputId": "f75f843e-9901-4c5d-f6dd-ca16af9cedb0"
      },
      "execution_count": 6,
      "outputs": [
        {
          "output_type": "execute_result",
          "data": {
            "text/plain": [
              "1     22962\n",
              "2      9276\n",
              "0      7715\n",
              "-1     3990\n",
              "Name: airline_sentiment, dtype: int64"
            ]
          },
          "metadata": {},
          "execution_count": 6
        }
      ]
    },
    {
      "cell_type": "code",
      "source": [
        "#dataset['text'] = dataset['text'].str.replace('RT', '')\n",
        "data_text = dataset['text']\n",
        "data_text.head()"
      ],
      "metadata": {
        "colab": {
          "base_uri": "https://localhost:8080/"
        },
        "id": "LPfa58I_-NeN",
        "outputId": "4c53dbcf-e430-4105-f402-612ea76e2639"
      },
      "execution_count": 7,
      "outputs": [
        {
          "output_type": "execute_result",
          "data": {
            "text/plain": [
              "0    @tiniebeany climate change is an interesting h...\n",
              "1    RT @NatGeoChannel: Watch #BeforeTheFlood right...\n",
              "2    Fabulous! Leonardo #DiCaprio's film on #climat...\n",
              "3    RT @Mick_Fanning: Just watched this amazing do...\n",
              "4    RT @cnalive: Pranita Biswasi, a Lutheran from ...\n",
              "Name: text, dtype: object"
            ]
          },
          "metadata": {},
          "execution_count": 7
        }
      ]
    },
    {
      "cell_type": "code",
      "source": [
        "sns.distplot(dataset.text.str.len())\n",
        "plt.show()"
      ],
      "metadata": {
        "colab": {
          "base_uri": "https://localhost:8080/",
          "height": 334
        },
        "id": "K_r2PwpHkPWG",
        "outputId": "4f41c380-b230-43d1-c3b5-78dd9dce4a63"
      },
      "execution_count": 8,
      "outputs": [
        {
          "output_type": "stream",
          "name": "stderr",
          "text": [
            "/usr/local/lib/python3.7/dist-packages/seaborn/distributions.py:2619: FutureWarning: `distplot` is a deprecated function and will be removed in a future version. Please adapt your code to use either `displot` (a figure-level function with similar flexibility) or `histplot` (an axes-level function for histograms).\n",
            "  warnings.warn(msg, FutureWarning)\n"
          ]
        },
        {
          "output_type": "display_data",
          "data": {
            "text/plain": [
              "<Figure size 432x288 with 1 Axes>"
            ],
            "image/png": "[encoded data removed]"
          },
          "metadata": {
            "needs_background": "light"
          }
        }
      ]
    },
    {
      "cell_type": "code",
      "source": [
        "dataset.text.str.len().describe()"
      ],
      "metadata": {
        "id": "4kVtXO71kaZr",
        "colab": {
          "base_uri": "https://localhost:8080/"
        },
        "outputId": "d64a394e-62ca-40aa-8e25-e22ae008f2bb"
      },
      "execution_count": 9,
      "outputs": [
        {
          "output_type": "execute_result",
          "data": {
            "text/plain": [
              "count    43943.000000\n",
              "mean       122.813395\n",
              "std         24.717884\n",
              "min          7.000000\n",
              "25%        111.000000\n",
              "50%        133.000000\n",
              "75%        140.000000\n",
              "max        623.000000\n",
              "Name: text, dtype: float64"
            ]
          },
          "metadata": {},
          "execution_count": 9
        }
      ]
    },
    {
      "cell_type": "code",
      "source": [
        "dataset.sentiment.str.len().describe()"
      ],
      "metadata": {
        "colab": {
          "base_uri": "https://localhost:8080/"
        },
        "id": "OfWNsxKz-gdz",
        "outputId": "0aa1ef8a-03cc-4a60-e019-9708bbbedecf"
      },
      "execution_count": 10,
      "outputs": [
        {
          "output_type": "execute_result",
          "data": {
            "text/plain": [
              "count    43943.000000\n",
              "mean         1.090799\n",
              "std          0.287327\n",
              "min          1.000000\n",
              "25%          1.000000\n",
              "50%          1.000000\n",
              "75%          1.000000\n",
              "max          2.000000\n",
              "Name: airline_sentiment, dtype: float64"
            ]
          },
          "metadata": {},
          "execution_count": 10
        }
      ]
    },
    {
      "cell_type": "code",
      "source": [
        "STOPWORDS=stopwords.words('english')\n",
        "STOPWORDS[:5]"
      ],
      "metadata": {
        "colab": {
          "base_uri": "https://localhost:8080/"
        },
        "id": "8N-jVDNr-RoV",
        "outputId": "de6634d5-b44f-4d77-9d99-532a19405d72"
      },
      "execution_count": 11,
      "outputs": [
        {
          "output_type": "execute_result",
          "data": {
            "text/plain": [
              "['i', 'me', 'my', 'myself', 'we']"
            ]
          },
          "metadata": {},
          "execution_count": 11
        }
      ]
    },
    {
      "cell_type": "code",
      "source": [
        "def cleaning_stopwords(text):\n",
        "    return \" \".join([word for word in str(text).split() if word not in STOPWORDS])\n",
        "data_text = data_text.apply(lambda text: cleaning_stopwords(text))\n",
        "data_text.head()"
      ],
      "metadata": {
        "id": "8eqVXQfk-rPE",
        "colab": {
          "base_uri": "https://localhost:8080/"
        },
        "outputId": "efd9c977-c7d1-445f-e152-0be6b8737bf0"
      },
      "execution_count": 12,
      "outputs": [
        {
          "output_type": "execute_result",
          "data": {
            "text/plain": [
              "0    @tiniebeany climate change interesting hustle ...\n",
              "1    RT @NatGeoChannel: Watch #BeforeTheFlood right...\n",
              "2    Fabulous! Leonardo #DiCaprio's film #climate c...\n",
              "3    RT @Mick_Fanning: Just watched amazing documen...\n",
              "4    RT @cnalive: Pranita Biswasi, Lutheran Odisha,...\n",
              "Name: text, dtype: object"
            ]
          },
          "metadata": {},
          "execution_count": 12
        }
      ]
    },
    {
      "cell_type": "code",
      "source": [
        "import string\n",
        "english_punctuations = string.punctuation\n",
        "punctuations_list = english_punctuations\n",
        "def cleaning_punctuations(text):\n",
        "    translator = str.maketrans('', '', punctuations_list)\n",
        "    return text.translate(translator)\n",
        "data_text = data_text.apply(lambda x: cleaning_punctuations(x))\n",
        "data_text.head()"
      ],
      "metadata": {
        "id": "b2OqSMHL_Kfa",
        "colab": {
          "base_uri": "https://localhost:8080/"
        },
        "outputId": "5872bc44-7e16-4ad3-f03b-47fa89dc1181"
      },
      "execution_count": 13,
      "outputs": [
        {
          "output_type": "execute_result",
          "data": {
            "text/plain": [
              "0    tiniebeany climate change interesting hustle g...\n",
              "1    RT NatGeoChannel Watch BeforeTheFlood right he...\n",
              "2    Fabulous Leonardo DiCaprios film climate chang...\n",
              "3    RT MickFanning Just watched amazing documentar...\n",
              "4    RT cnalive Pranita Biswasi Lutheran Odisha giv...\n",
              "Name: text, dtype: object"
            ]
          },
          "metadata": {},
          "execution_count": 13
        }
      ]
    },
    {
      "cell_type": "code",
      "source": [
        "def cleaning_repeating_char(text):\n",
        "    return re.sub(r'(.)1+', r'1', text)\n",
        "data_text = data_text.apply(lambda x: cleaning_repeating_char(x))\n",
        "data_text.head()"
      ],
      "metadata": {
        "id": "GxEIcNyh_OOY",
        "colab": {
          "base_uri": "https://localhost:8080/"
        },
        "outputId": "526b26b6-6c7b-40f8-dd31-b2f944160de2"
      },
      "execution_count": 14,
      "outputs": [
        {
          "output_type": "execute_result",
          "data": {
            "text/plain": [
              "0    tiniebeany climate change interesting hustle g...\n",
              "1    RT NatGeoChannel Watch BeforeTheFlood right he...\n",
              "2    Fabulous Leonardo DiCaprios film climate chang...\n",
              "3    RT MickFanning Just watched amazing documentar...\n",
              "4    RT cnalive Pranita Biswasi Lutheran Odisha giv...\n",
              "Name: text, dtype: object"
            ]
          },
          "metadata": {},
          "execution_count": 14
        }
      ]
    },
    {
      "cell_type": "code",
      "source": [
        "def cleaning_URLs(data):\n",
        "    return re.sub('((www.[^s]+)|(https?://[^s]+))',' ',data)\n",
        "data_text = data_text.apply(lambda x: cleaning_URLs(x))\n",
        "data_text.head()"
      ],
      "metadata": {
        "id": "9m2GTswG_Qm9",
        "colab": {
          "base_uri": "https://localhost:8080/"
        },
        "outputId": "0721cd6a-1daf-42b4-ef0f-4aa3d3080de1"
      },
      "execution_count": 15,
      "outputs": [
        {
          "output_type": "execute_result",
          "data": {
            "text/plain": [
              "0    tiniebeany climate change interesting hustle g...\n",
              "1    RT NatGeoChannel Watch BeforeTheFlood right he...\n",
              "2    Fabulous Leonardo DiCaprios film climate chang...\n",
              "3    RT MickFanning Just watched amazing documentar...\n",
              "4    RT cnalive Pranita Biswasi Lutheran Odisha giv...\n",
              "Name: text, dtype: object"
            ]
          },
          "metadata": {},
          "execution_count": 15
        }
      ]
    },
    {
      "cell_type": "code",
      "source": [
        "def cleaning_numbers(data):\n",
        "    return re.sub('[0-9]+', '', data)\n",
        "data_text = data_text.apply(lambda x: cleaning_numbers(x))\n",
        "data_text.head()"
      ],
      "metadata": {
        "id": "Qpdjj96r_Sqi",
        "colab": {
          "base_uri": "https://localhost:8080/"
        },
        "outputId": "3cdcca40-53b7-4f47-caf4-227f950840c7"
      },
      "execution_count": 16,
      "outputs": [
        {
          "output_type": "execute_result",
          "data": {
            "text/plain": [
              "0    tiniebeany climate change interesting hustle g...\n",
              "1    RT NatGeoChannel Watch BeforeTheFlood right he...\n",
              "2    Fabulous Leonardo DiCaprios film climate chang...\n",
              "3    RT MickFanning Just watched amazing documentar...\n",
              "4    RT cnalive Pranita Biswasi Lutheran Odisha giv...\n",
              "Name: text, dtype: object"
            ]
          },
          "metadata": {},
          "execution_count": 16
        }
      ]
    },
    {
      "cell_type": "code",
      "source": [
        "st = nltk.PorterStemmer()\n",
        "def stemming_on_text(data):\n",
        "    text = [st.stem(word) for word in data]\n",
        "    return data\n",
        "data_text = data_text.apply(lambda x: stemming_on_text(x))\n",
        "data_text.head()"
      ],
      "metadata": {
        "id": "HGRF1bgf_Wmz",
        "colab": {
          "base_uri": "https://localhost:8080/"
        },
        "outputId": "10a36b19-4ce3-4401-cc9c-9ce179af62d4"
      },
      "execution_count": 17,
      "outputs": [
        {
          "output_type": "execute_result",
          "data": {
            "text/plain": [
              "0    tiniebeany climate change interesting hustle g...\n",
              "1    RT NatGeoChannel Watch BeforeTheFlood right he...\n",
              "2    Fabulous Leonardo DiCaprios film climate chang...\n",
              "3    RT MickFanning Just watched amazing documentar...\n",
              "4    RT cnalive Pranita Biswasi Lutheran Odisha giv...\n",
              "Name: text, dtype: object"
            ]
          },
          "metadata": {},
          "execution_count": 17
        }
      ]
    },
    {
      "cell_type": "code",
      "source": [
        "lm = nltk.WordNetLemmatizer()\n",
        "def lemmatizer_on_text(data):\n",
        "    text = [lm.lemmatize(word) for word in data]\n",
        "    return data\n",
        "data_text = data_text.apply(lambda x: lemmatizer_on_text(x))\n",
        "data_text.head()"
      ],
      "metadata": {
        "id": "b8wSKphl_XuI",
        "colab": {
          "base_uri": "https://localhost:8080/"
        },
        "outputId": "c4b09a2b-47c3-4a00-bc36-354b5aa6a958"
      },
      "execution_count": 18,
      "outputs": [
        {
          "output_type": "execute_result",
          "data": {
            "text/plain": [
              "0    tiniebeany climate change interesting hustle g...\n",
              "1    RT NatGeoChannel Watch BeforeTheFlood right he...\n",
              "2    Fabulous Leonardo DiCaprios film climate chang...\n",
              "3    RT MickFanning Just watched amazing documentar...\n",
              "4    RT cnalive Pranita Biswasi Lutheran Odisha giv...\n",
              "Name: text, dtype: object"
            ]
          },
          "metadata": {},
          "execution_count": 18
        }
      ]
    },
    {
      "cell_type": "code",
      "source": [
        "#def tokenize(d):\n",
        "    #return word_tokenize(d)\n",
        "\n",
        "#dataset['final_text'] = data_text.apply(tokenize)\n",
        "#dataset.final_text.head()"
      ],
      "metadata": {
        "id": "amCMsYPlkslC"
      },
      "execution_count": 19,
      "outputs": []
    },
    {
      "cell_type": "code",
      "source": [
        "#for i in range(len(dataset)):\n",
        "    #dataset['final_text'][i] = \" \".join(dataset['final_text'][i])"
      ],
      "metadata": {
        "id": "bmWAODhMnhLI"
      },
      "execution_count": 20,
      "outputs": []
    },
    {
      "cell_type": "code",
      "source": [
        "#X_train = dataset.final_text\n",
        "X_train = data_text\n",
        "X_train.head()"
      ],
      "metadata": {
        "id": "teW5ZsZbp3pL",
        "colab": {
          "base_uri": "https://localhost:8080/"
        },
        "outputId": "929ccbf2-b7d3-4304-d7ea-5ffa46e08139"
      },
      "execution_count": 21,
      "outputs": [
        {
          "output_type": "execute_result",
          "data": {
            "text/plain": [
              "0    tiniebeany climate change interesting hustle g...\n",
              "1    RT NatGeoChannel Watch BeforeTheFlood right he...\n",
              "2    Fabulous Leonardo DiCaprios film climate chang...\n",
              "3    RT MickFanning Just watched amazing documentar...\n",
              "4    RT cnalive Pranita Biswasi Lutheran Odisha giv...\n",
              "Name: text, dtype: object"
            ]
          },
          "metadata": {},
          "execution_count": 21
        }
      ]
    },
    {
      "cell_type": "code",
      "source": [
        "dataset.info"
      ],
      "metadata": {
        "colab": {
          "base_uri": "https://localhost:8080/"
        },
        "id": "Ytojdf5X8eiw",
        "outputId": "7f2bee28-32dc-4639-cbc6-453454c28925"
      },
      "execution_count": 22,
      "outputs": [
        {
          "output_type": "execute_result",
          "data": {
            "text/plain": [
              "<bound method DataFrame.info of       airline_sentiment                                               text  \\\n",
              "0                    -1  @tiniebeany climate change is an interesting h...   \n",
              "1                     1  RT @NatGeoChannel: Watch #BeforeTheFlood right...   \n",
              "2                     1  Fabulous! Leonardo #DiCaprio's film on #climat...   \n",
              "3                     1  RT @Mick_Fanning: Just watched this amazing do...   \n",
              "4                     2  RT @cnalive: Pranita Biswasi, a Lutheran from ...   \n",
              "...                 ...                                                ...   \n",
              "43938                 1  Dear @realDonaldTrump,\\nYeah right. Human Medi...   \n",
              "43939                 1  What will your respective parties do to preven...   \n",
              "43940                 2  RT @MikkiL: UN Poll Shows Climate Change Is th...   \n",
              "43941                 0  RT @taehbeingextra: i still can$q$t believe th...   \n",
              "43942                 1  @Likeabat77 @zachhaller \\n\\nThe wealthy + foss...   \n",
              "\n",
              "                 tweet_Id  \n",
              "0      792927353886371840  \n",
              "1      793124211518832641  \n",
              "2      793124402388832256  \n",
              "3      793124635873275904  \n",
              "4      793125156185137153  \n",
              "...                   ...  \n",
              "43938  791307031919550464  \n",
              "43939  791316857403936768  \n",
              "43940  791357509101621249  \n",
              "43941  791390042136641537  \n",
              "43942  791401610308038656  \n",
              "\n",
              "[43943 rows x 3 columns]>"
            ]
          },
          "metadata": {},
          "execution_count": 22
        }
      ]
    },
    {
      "cell_type": "markdown",
      "source": [
        "MACHINE LEARNING"
      ],
      "metadata": {
        "id": "I8rQDevJepS6"
      }
    },
    {
      "cell_type": "code",
      "source": [
        "train_X, test_X, y_train, y_test = train_test_split(X_train, dataset['sentiment'], test_size=0.2, \n",
        "                                                    random_state=42, shuffle=True)\n",
        "\n",
        "print(f'Number of training examples: {len(train_X)}')\n",
        "print(f'Number of testing examples: {len(test_X)}')"
      ],
      "metadata": {
        "id": "zV-_U5z__m4H",
        "colab": {
          "base_uri": "https://localhost:8080/"
        },
        "outputId": "598ec288-3acd-41ba-f2bc-aa4944ce5e15"
      },
      "execution_count": 23,
      "outputs": [
        {
          "output_type": "stream",
          "name": "stdout",
          "text": [
            "Number of training examples: 35154\n",
            "Number of testing examples: 8789\n"
          ]
        }
      ]
    },
    {
      "cell_type": "code",
      "source": [
        "vectoriser = TfidfVectorizer(ngram_range=(1,2), max_features=500000)\n",
        "vectoriser.fit(train_X)\n",
        "print(f'Vectoriser fitted.')\n",
        "print('No. of feature_words: ', len(vectoriser.get_feature_names()))"
      ],
      "metadata": {
        "id": "xZ-jP-1fEg74",
        "colab": {
          "base_uri": "https://localhost:8080/"
        },
        "outputId": "57877934-7181-436c-969b-d4ff7bbb1b26"
      },
      "execution_count": 24,
      "outputs": [
        {
          "output_type": "stream",
          "name": "stdout",
          "text": [
            "Vectoriser fitted.\n",
            "No. of feature_words:  294915\n"
          ]
        },
        {
          "output_type": "stream",
          "name": "stderr",
          "text": [
            "/usr/local/lib/python3.7/dist-packages/sklearn/utils/deprecation.py:87: FutureWarning: Function get_feature_names is deprecated; get_feature_names is deprecated in 1.0 and will be removed in 1.2. Please use get_feature_names_out instead.\n",
            "  warnings.warn(msg, category=FutureWarning)\n"
          ]
        }
      ]
    },
    {
      "cell_type": "code",
      "source": [
        "from sklearn.feature_extraction.text import CountVectorizer\n",
        "c = CountVectorizer(analyzer = 'word')\n",
        "#X_c = c.fit_transform(X)"
      ],
      "metadata": {
        "id": "V7dgSClFIlJi"
      },
      "execution_count": 25,
      "outputs": []
    },
    {
      "cell_type": "code",
      "source": [
        "X_train = c.fit_transform(train_X)\n",
        "X_test  = c.transform(test_X)\n",
        "print(f'Data Transformed.')"
      ],
      "metadata": {
        "id": "5X9WQagrEa5E",
        "colab": {
          "base_uri": "https://localhost:8080/"
        },
        "outputId": "c4bbc768-8a6e-44d7-ec7d-198596f21a3c"
      },
      "execution_count": 26,
      "outputs": [
        {
          "output_type": "stream",
          "name": "stdout",
          "text": [
            "Data Transformed.\n"
          ]
        }
      ]
    },
    {
      "cell_type": "code",
      "source": [
        "from sklearn.linear_model import LogisticRegression\n",
        "from sklearn.neighbors import KNeighborsClassifier\n",
        "from sklearn.svm import SVC, LinearSVC, NuSVC\n",
        "from sklearn.tree import DecisionTreeClassifier\n",
        "from sklearn.ensemble import RandomForestClassifier, AdaBoostClassifier, GradientBoostingClassifier\n",
        "from sklearn.naive_bayes import GaussianNB\n",
        "from sklearn.discriminant_analysis import LinearDiscriminantAnalysis\n",
        "from sklearn.discriminant_analysis import QuadraticDiscriminantAnalysis\n",
        "from sklearn.metrics import accuracy_score\n",
        "from sklearn.naive_bayes import MultinomialNB\n",
        "from sklearn.naive_bayes import (\n",
        "    BernoulliNB,\n",
        "    ComplementNB,\n",
        "    MultinomialNB,\n",
        ")\n",
        "from sklearn.neighbors import KNeighborsClassifier\n",
        "from sklearn.tree import DecisionTreeClassifier\n",
        "from sklearn.ensemble import RandomForestClassifier, AdaBoostClassifier\n",
        "from sklearn.linear_model import LogisticRegression\n",
        "from sklearn.neural_network import MLPClassifier\n",
        "from sklearn.discriminant_analysis import QuadraticDiscriminantAnalysis\n",
        "from xgboost import XGBClassifier\n",
        "from sklearn.ensemble import GradientBoostingClassifier"
      ],
      "metadata": {
        "id": "O5BaeTJABoif"
      },
      "execution_count": 27,
      "outputs": []
    },
    {
      "cell_type": "code",
      "source": [
        "model_params = {'random_state':50}\n",
        "LR =  LogisticRegression(**model_params,solver='liblinear')\n",
        "KN = KNeighborsClassifier()\n",
        "SVC = SVC(**model_params)\n",
        "Tree = DecisionTreeClassifier()\n",
        "Forest = RandomForestClassifier(**model_params)\n",
        "Ada = AdaBoostClassifier(**model_params)\n",
        "Gau = GaussianNB()\n",
        "BNB = BernoulliNB(alpha=2)\n",
        "MNB = MultinomialNB()\n",
        "CNB = ComplementNB()\n",
        "#MLP = MLPClassifier(**model_params)"
      ],
      "metadata": {
        "id": "xmDyRAqHBk7R"
      },
      "execution_count": 28,
      "outputs": []
    },
    {
      "cell_type": "code",
      "source": [
        "dataset = dataset.fillna(value=np.nan)\n",
        "a = BNB.fit(X_train, y_train)\n",
        "b = LR.fit(X_train, y_train)\n",
        "#c = KN.fit(X_train, y_train)\n",
        "#d = SVC.fit(X_train, y_train)\n",
        "#e = Tree.fit(X_train, y_train)\n",
        "#f = Forest.fit(X_train, y_train)\n",
        "#g = Ada.fit(X_train, y_train)\n",
        "j = MNB.fit(X_train, y_train)\n",
        "h = CNB.fit(X_train, y_train)\n",
        "#i = MLP.fit(X_train, y_train)"
      ],
      "metadata": {
        "id": "sQCSqbOmBrZV"
      },
      "execution_count": 29,
      "outputs": []
    },
    {
      "cell_type": "code",
      "source": [
        "print(\"Train Accuracy using BernoulliNB: \", BNB.score(X_train, y_train))\n",
        "pred_BNB = a.predict(X_test)\n",
        "accuracy = accuracy_score(y_test, pred_BNB)\n",
        "print(\"Test Accuracy using BernoulliNB: \", accuracy)\n",
        "\n",
        "print(\"Train Accuracy using Logistic Regression: \", LR.score(X_train, y_train))\n",
        "pred_LR = b.predict(X_test)\n",
        "accuracy = accuracy_score(pred_LR, y_test)\n",
        "print(\"Accuracy using Logistic Regression: \", accuracy)\n",
        "\n",
        "#print(KN.score(X_train, y_train))\n",
        "#pred = c.predict(X_test)\n",
        "#accuracy = accuracy_score(pred, y_test)\n",
        "#print(\"Accuracy using KNeighbors: \", accuracy)\n",
        "\n",
        "#print(SVC.score(X_train, y_train))\n",
        "#pred = d.predict(X_test)\n",
        "#accuracy = accuracy_score(pred, y_test)\n",
        "#print(\"Accuracy using Support Vector Classifier: \", accuracy)\n",
        "\n",
        "#print(Tree.score(X_train, y_train))\n",
        "#pred = e.predict(X_test)\n",
        "#accuracy = accuracy_score(pred, y_test)\n",
        "#print(\"Accuracy using Decision Tree: \", accuracy)\n",
        "\n",
        "#print(Forest.score(X_train, y_train))\n",
        "#pred = f.predict(X_test)\n",
        "#accuracy = accuracy_score(pred, y_test)\n",
        "#print(\"Accuracy using Random Forest: \", accuracy)\n",
        "\n",
        "#print(Ada.score(X_train, y_train))\n",
        "#pred = g.predict(X_test)\n",
        "#accuracy = accuracy_score(pred, y_test)\n",
        "#print(\"Accuracy using AdaBoost: \", accuracy)\n",
        "\n",
        "print(\"Train Accuracy using MultimonialNB: \", MNB.score(X_train, y_train))\n",
        "pred_MNB = j.predict(X_test)\n",
        "accuracy = accuracy_score(pred_MNB, y_test)\n",
        "print(\"Accuracy using MultinomialNB: \", accuracy)\n",
        "\n",
        "print(\"Train Accuracy using ComplementNB: \", CNB.score(X_train, y_train))\n",
        "pred_CNB = h.predict(X_test)\n",
        "accuracy = accuracy_score(pred_CNB, y_test)\n",
        "print(\"Accuracy using ComplementNB: \", accuracy)\n",
        "\n",
        "#print(MLP.score(X_train, y_train))\n",
        "#pred = i.predict(X_test)\n",
        "#accuracy = accuracy_score(pred, y_test)\n",
        "#print(\"Accuracy using MLP Classifier: \", accuracy)\n",
        "\n",
        "#print(xgb.score(X_train, y_train))\n",
        "#pred = l.predict(X_test)\n",
        "#accuracy = accuracy_score(pred, y_test)\n",
        "#print(\"Accuracy using XGBClassifier: \", accuracy)"
      ],
      "metadata": {
        "id": "47QiNlx_Keye",
        "colab": {
          "base_uri": "https://localhost:8080/"
        },
        "outputId": "b0709078-5888-40d5-9493-b3a8a9987118"
      },
      "execution_count": 30,
      "outputs": [
        {
          "output_type": "stream",
          "name": "stdout",
          "text": [
            "Train Accuracy using BernoulliNB:  0.5700347044433066\n",
            "Test Accuracy using BernoulliNB:  0.5324837865513711\n",
            "Train Accuracy using Logistic Regression:  0.9510724241907038\n",
            "Accuracy using Logistic Regression:  0.7385368073728524\n",
            "Train Accuracy using MultimonialNB:  0.847641804631052\n",
            "Accuracy using MultinomialNB:  0.6839230856752759\n",
            "Train Accuracy using ComplementNB:  0.91426295727371\n",
            "Accuracy using ComplementNB:  0.7212424621686199\n"
          ]
        }
      ]
    },
    {
      "cell_type": "code",
      "source": [
        "cr = classification_report(y_test, pred_LR)\n",
        "\n",
        "print(\"Classification Report:\\n----------------------\\n\", cr)\n",
        "\n",
        "cm = confusion_matrix(y_test,pred_LR)\n",
        "\n",
        "\n",
        "# plot confusion matrix \n",
        "plt.figure(figsize=(8,6))\n",
        "sentiment_classes = ['Negative', 'Neutral', 'Positive', 'News', ]\n",
        "sns.heatmap(cm, cmap=plt.cm.Blues, annot=True, fmt='d', \n",
        "            xticklabels=sentiment_classes,\n",
        "            yticklabels=sentiment_classes)\n",
        "plt.title('Confusion matrix', fontsize=16)\n",
        "plt.xlabel('Actual label', fontsize=12)\n",
        "plt.ylabel('Predicted label', fontsize=12)\n",
        "plt.show()\n"
      ],
      "metadata": {
        "colab": {
          "base_uri": "https://localhost:8080/",
          "height": 639
        },
        "id": "Ecu3hlIwSyMs",
        "outputId": "6bc38a51-0d30-4fe8-a747-6df8c84be6c1"
      },
      "execution_count": 36,
      "outputs": [
        {
          "output_type": "stream",
          "name": "stdout",
          "text": [
            "Classification Report:\n",
            "----------------------\n",
            "               precision    recall  f1-score   support\n",
            "\n",
            "          -1       0.76      0.52      0.61       784\n",
            "           0       0.62      0.48      0.54      1582\n",
            "           1       0.75      0.87      0.81      4514\n",
            "           2       0.77      0.74      0.76      1909\n",
            "\n",
            "    accuracy                           0.74      8789\n",
            "   macro avg       0.72      0.65      0.68      8789\n",
            "weighted avg       0.73      0.74      0.73      8789\n",
            "\n"
          ]
        },
        {
          "output_type": "display_data",
          "data": {
            "text/plain": [
              "<Figure size 576x432 with 2 Axes>"
            ],
            "image/png": "[encoded data removed]"
          },
          "metadata": {
            "needs_background": "light"
          }
        }
      ]
    },
    {
      "cell_type": "markdown",
      "source": [
        "LEXICON VADER"
      ],
      "metadata": {
        "id": "kMhxgpEpe8Hp"
      }
    },
    {
      "cell_type": "code",
      "source": [
        "import nltk\n",
        "nltk.download('vader_lexicon')\n",
        "from nltk.sentiment.vader import SentimentIntensityAnalyzer"
      ],
      "metadata": {
        "colab": {
          "base_uri": "https://localhost:8080/"
        },
        "id": "3cGm2Ei7yT-q",
        "outputId": "b7470034-8cd8-485b-ea68-a4f841e5dbfc"
      },
      "execution_count": 32,
      "outputs": [
        {
          "output_type": "stream",
          "name": "stdout",
          "text": [
            "[nltk_data] Downloading package vader_lexicon to /root/nltk_data...\n"
          ]
        },
        {
          "output_type": "stream",
          "name": "stderr",
          "text": [
            "/usr/local/lib/python3.7/dist-packages/nltk/twitter/__init__.py:20: UserWarning: The twython library has not been installed. Some functionality from the twitter package will not be available.\n",
            "  warnings.warn(\"The twython library has not been installed. \"\n"
          ]
        }
      ]
    },
    {
      "cell_type": "code",
      "source": [
        "analyzer = SentimentIntensityAnalyzer()\n",
        "scores = [analyzer.polarity_scores(tweet)['compound'] for tweet in dataset['text'].values.tolist()]\n",
        "#len(scores) = len(dataset)\n",
        "dataset['bef_sentiment'] = scores"
      ],
      "metadata": {
        "id": "HUlQRJsAyZvj"
      },
      "execution_count": 50,
      "outputs": []
    },
    {
      "cell_type": "code",
      "source": [
        "dataset.loc[dataset['bef_sentiment'] == 0, 'final_sentiment'] = 0\n",
        "dataset.loc[dataset['bef_sentiment'] > 0, 'final_sentiment'] = 1\n",
        "dataset.loc[dataset['bef_sentiment'] < 0, 'final_sentiment'] = -1\n",
        "\n",
        "#dataset['sentiment'].replace(2, 0, inplace = True)\n",
        "\n",
        "dataset['sentiment'] = dataset['sentiment'].astype(int)\n",
        "dataset.head()"
      ],
      "metadata": {
        "colab": {
          "base_uri": "https://localhost:8080/",
          "height": 206
        },
        "id": "gAKR_sZAycJu",
        "outputId": "98a919af-3849-4f49-d886-37799de028af"
      },
      "execution_count": 51,
      "outputs": [
        {
          "output_type": "execute_result",
          "data": {
            "text/plain": [
              "   sentiment                                               text  \\\n",
              "0         -1  @tiniebeany climate change is an interesting h...   \n",
              "1          1  RT @NatGeoChannel: Watch #BeforeTheFlood right...   \n",
              "2          1  Fabulous! Leonardo #DiCaprio's film on #climat...   \n",
              "3          1  RT @Mick_Fanning: Just watched this amazing do...   \n",
              "4          2  RT @cnalive: Pranita Biswasi, a Lutheran from ...   \n",
              "\n",
              "             tweet_Id  bef_sentiment  final_sentiment  \n",
              "0  792927353886371840         0.6428              1.0  \n",
              "1  793124211518832641         0.0000              0.0  \n",
              "2  793124402388832256         0.8544              1.0  \n",
              "3  793124635873275904         0.6705              1.0  \n",
              "4  793125156185137153        -0.2732             -1.0  "
            ],
            "text/html": [
              "\n",
              "  <div id=\"df-3829470e-a421-4eaf-acfc-75fdb7e7fd9f\">\n",
              "    <div class=\"colab-df-container\">\n",
              "      <div>\n",
              "<style scoped>\n",
              "    .dataframe tbody tr th:only-of-type {\n",
              "        vertical-align: middle;\n",
              "    }\n",
              "\n",
              "    .dataframe tbody tr th {\n",
              "        vertical-align: top;\n",
              "    }\n",
              "\n",
              "    .dataframe thead th {\n",
              "        text-align: right;\n",
              "    }\n",
              "</style>\n",
              "<table border=\"1\" class=\"dataframe\">\n",
              "  <thead>\n",
              "    <tr style=\"text-align: right;\">\n",
              "      <th></th>\n",
              "      <th>sentiment</th>\n",
              "      <th>text</th>\n",
              "      <th>tweet_Id</th>\n",
              "      <th>bef_sentiment</th>\n",
              "      <th>final_sentiment</th>\n",
              "    </tr>\n",
              "  </thead>\n",
              "  <tbody>\n",
              "    <tr>\n",
              "      <th>0</th>\n",
              "      <td>-1</td>\n",
              "      <td>@tiniebeany climate change is an interesting h...</td>\n",
              "      <td>792927353886371840</td>\n",
              "      <td>0.6428</td>\n",
              "      <td>1.0</td>\n",
              "    </tr>\n",
              "    <tr>\n",
              "      <th>1</th>\n",
              "      <td>1</td>\n",
              "      <td>RT @NatGeoChannel: Watch #BeforeTheFlood right...</td>\n",
              "      <td>793124211518832641</td>\n",
              "      <td>0.0000</td>\n",
              "      <td>0.0</td>\n",
              "    </tr>\n",
              "    <tr>\n",
              "      <th>2</th>\n",
              "      <td>1</td>\n",
              "      <td>Fabulous! Leonardo #DiCaprio's film on #climat...</td>\n",
              "      <td>793124402388832256</td>\n",
              "      <td>0.8544</td>\n",
              "      <td>1.0</td>\n",
              "    </tr>\n",
              "    <tr>\n",
              "      <th>3</th>\n",
              "      <td>1</td>\n",
              "      <td>RT @Mick_Fanning: Just watched this amazing do...</td>\n",
              "      <td>793124635873275904</td>\n",
              "      <td>0.6705</td>\n",
              "      <td>1.0</td>\n",
              "    </tr>\n",
              "    <tr>\n",
              "      <th>4</th>\n",
              "      <td>2</td>\n",
              "      <td>RT @cnalive: Pranita Biswasi, a Lutheran from ...</td>\n",
              "      <td>793125156185137153</td>\n",
              "      <td>-0.2732</td>\n",
              "      <td>-1.0</td>\n",
              "    </tr>\n",
              "  </tbody>\n",
              "</table>\n",
              "</div>\n",
              "      <button class=\"colab-df-convert\" onclick=\"convertToInteractive('df-3829470e-a421-4eaf-acfc-75fdb7e7fd9f')\"\n",
              "              title=\"Convert this dataframe to an interactive table.\"\n",
              "              style=\"display:none;\">\n",
              "        \n",
              "  <svg xmlns=\"http://www.w3.org/2000/svg\" height=\"24px\"viewBox=\"0 0 24 24\"\n",
              "       width=\"24px\">\n",
              "    <path d=\"M0 0h24v24H0V0z\" fill=\"none\"/>\n",
              "    <path d=\"M18.56 5.44l.94 2.06.94-2.06 2.06-.94-2.06-.94-.94-2.06-.94 2.06-2.06.94zm-11 1L8.5 8.5l.94-2.06 2.06-.94-2.06-.94L8.5 2.5l-.94 2.06-2.06.94zm10 10l.94 2.06.94-2.06 2.06-.94-2.06-.94-.94-2.06-.94 2.06-2.06.94z\"/><path d=\"M17.41 7.96l-1.37-1.37c-.4-.4-.92-.59-1.43-.59-.52 0-1.04.2-1.43.59L10.3 9.45l-7.72 7.72c-.78.78-.78 2.05 0 2.83L4 21.41c.39.39.9.59 1.41.59.51 0 1.02-.2 1.41-.59l7.78-7.78 2.81-2.81c.8-.78.8-2.07 0-2.86zM5.41 20L4 18.59l7.72-7.72 1.47 1.35L5.41 20z\"/>\n",
              "  </svg>\n",
              "      </button>\n",
              "      \n",
              "  <style>\n",
              "    .colab-df-container {\n",
              "      display:flex;\n",
              "      flex-wrap:wrap;\n",
              "      gap: 12px;\n",
              "    }\n",
              "\n",
              "    .colab-df-convert {\n",
              "      background-color: #E8F0FE;\n",
              "      border: none;\n",
              "      border-radius: 50%;\n",
              "      cursor: pointer;\n",
              "      display: none;\n",
              "      fill: #1967D2;\n",
              "      height: 32px;\n",
              "      padding: 0 0 0 0;\n",
              "      width: 32px;\n",
              "    }\n",
              "\n",
              "    .colab-df-convert:hover {\n",
              "      background-color: #E2EBFA;\n",
              "      box-shadow: 0px 1px 2px rgba(60, 64, 67, 0.3), 0px 1px 3px 1px rgba(60, 64, 67, 0.15);\n",
              "      fill: #174EA6;\n",
              "    }\n",
              "\n",
              "    [theme=dark] .colab-df-convert {\n",
              "      background-color: #3B4455;\n",
              "      fill: #D2E3FC;\n",
              "    }\n",
              "\n",
              "    [theme=dark] .colab-df-convert:hover {\n",
              "      background-color: #434B5C;\n",
              "      box-shadow: 0px 1px 3px 1px rgba(0, 0, 0, 0.15);\n",
              "      filter: drop-shadow(0px 1px 2px rgba(0, 0, 0, 0.3));\n",
              "      fill: #FFFFFF;\n",
              "    }\n",
              "  </style>\n",
              "\n",
              "      <script>\n",
              "        const buttonEl =\n",
              "          document.querySelector('#df-3829470e-a421-4eaf-acfc-75fdb7e7fd9f button.colab-df-convert');\n",
              "        buttonEl.style.display =\n",
              "          google.colab.kernel.accessAllowed ? 'block' : 'none';\n",
              "\n",
              "        async function convertToInteractive(key) {\n",
              "          const element = document.querySelector('#df-3829470e-a421-4eaf-acfc-75fdb7e7fd9f');\n",
              "          const dataTable =\n",
              "            await google.colab.kernel.invokeFunction('convertToInteractive',\n",
              "                                                     [key], {});\n",
              "          if (!dataTable) return;\n",
              "\n",
              "          const docLinkHtml = 'Like what you see? Visit the ' +\n",
              "            '<a target=\"_blank\" href=https://colab.research.google.com/notebooks/data_table.ipynb>data table notebook</a>'\n",
              "            + ' to learn more about interactive tables.';\n",
              "          element.innerHTML = '';\n",
              "          dataTable['output_type'] = 'display_data';\n",
              "          await google.colab.output.renderOutput(dataTable, element);\n",
              "          const docLink = document.createElement('div');\n",
              "          docLink.innerHTML = docLinkHtml;\n",
              "          element.appendChild(docLink);\n",
              "        }\n",
              "      </script>\n",
              "    </div>\n",
              "  </div>\n",
              "  "
            ]
          },
          "metadata": {},
          "execution_count": 51
        }
      ]
    },
    {
      "cell_type": "code",
      "source": [
        "from sklearn.metrics import accuracy_score\n",
        "\n",
        "y_act = dataset['sentiment'].values\n",
        "y_pred = dataset['final_sentiment'].values\n",
        "\n",
        "accuracy_score(y_act, y_pred)"
      ],
      "metadata": {
        "colab": {
          "base_uri": "https://localhost:8080/"
        },
        "id": "Ni2y_pBiy3j8",
        "outputId": "6ade9b68-d6bf-416d-e949-f9325554ddde"
      },
      "execution_count": 52,
      "outputs": [
        {
          "output_type": "execute_result",
          "data": {
            "text/plain": [
              "0.27883849532348726"
            ]
          },
          "metadata": {},
          "execution_count": 52
        }
      ]
    },
    {
      "cell_type": "code",
      "source": [
        "cr = classification_report(y_act, y_pred)\n",
        "\n",
        "print(\"Classification Report:\\n----------------------\\n\", cr)\n",
        "\n",
        "cm = confusion_matrix(y_test,pred_LR)\n",
        "\n",
        "\n",
        "# plot confusion matrix \n",
        "plt.figure(figsize=(8,6))\n",
        "sentiment_classes = ['Negative', 'Neutral', 'Positive', 'News']\n",
        "sns.heatmap(cm, cmap=plt.cm.Blues, annot=True, fmt='d', \n",
        "            xticklabels=sentiment_classes,\n",
        "            yticklabels=sentiment_classes)\n",
        "plt.title('Confusion matrix', fontsize=16)\n",
        "plt.xlabel('Actual label', fontsize=12)\n",
        "plt.ylabel('Predicted label', fontsize=12)\n",
        "plt.show()\n"
      ],
      "metadata": {
        "colab": {
          "base_uri": "https://localhost:8080/",
          "height": 765
        },
        "id": "FRb_BdHvqq0s",
        "outputId": "cc1103d0-c4fc-4763-a02b-c222519d4ef6"
      },
      "execution_count": 54,
      "outputs": [
        {
          "output_type": "stream",
          "name": "stderr",
          "text": [
            "/usr/local/lib/python3.7/dist-packages/sklearn/metrics/_classification.py:1318: UndefinedMetricWarning: Precision and F-score are ill-defined and being set to 0.0 in labels with no predicted samples. Use `zero_division` parameter to control this behavior.\n",
            "  _warn_prf(average, modifier, msg_start, len(result))\n",
            "/usr/local/lib/python3.7/dist-packages/sklearn/metrics/_classification.py:1318: UndefinedMetricWarning: Precision and F-score are ill-defined and being set to 0.0 in labels with no predicted samples. Use `zero_division` parameter to control this behavior.\n",
            "  _warn_prf(average, modifier, msg_start, len(result))\n",
            "/usr/local/lib/python3.7/dist-packages/sklearn/metrics/_classification.py:1318: UndefinedMetricWarning: Precision and F-score are ill-defined and being set to 0.0 in labels with no predicted samples. Use `zero_division` parameter to control this behavior.\n",
            "  _warn_prf(average, modifier, msg_start, len(result))\n"
          ]
        },
        {
          "output_type": "stream",
          "name": "stdout",
          "text": [
            "Classification Report:\n",
            "----------------------\n",
            "               precision    recall  f1-score   support\n",
            "\n",
            "          -1       0.11      0.47      0.18      3990\n",
            "           0       0.18      0.25      0.21      7715\n",
            "           1       0.52      0.37      0.43     22962\n",
            "           2       0.00      0.00      0.00      9276\n",
            "\n",
            "    accuracy                           0.28     43943\n",
            "   macro avg       0.20      0.27      0.20     43943\n",
            "weighted avg       0.31      0.28      0.28     43943\n",
            "\n"
          ]
        },
        {
          "output_type": "display_data",
          "data": {
            "text/plain": [
              "<Figure size 576x432 with 2 Axes>"
            ],
            "image/png": "[encoded data removed]"
          },
          "metadata": {
            "needs_background": "light"
          }
        }
      ]
    }
  ]
}