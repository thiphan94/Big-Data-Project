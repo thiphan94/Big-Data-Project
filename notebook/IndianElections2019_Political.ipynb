{
  "nbformat": 4,
  "nbformat_minor": 0,
  "metadata": {
    "colab": {
      "name": "IndianElections2019_Political.ipynb",
      "provenance": [],
      "collapsed_sections": []
    },
    "kernelspec": {
      "name": "python3",
      "display_name": "Python 3"
    },
    "language_info": {
      "name": "python"
    }
  },
  "cells": [
    {
      "cell_type": "markdown",
      "source": [
        "IMPORTING AND LOADING DATA"
      ],
      "metadata": {
        "id": "3y4HwL2zdv8y"
      }
    },
    {
      "cell_type": "code",
      "execution_count": 1,
      "metadata": {
        "colab": {
          "base_uri": "https://localhost:8080/"
        },
        "id": "Hno1inGq91R7",
        "outputId": "b3367ab1-0593-424e-d9c6-32ad25d072ac"
      },
      "outputs": [
        {
          "output_type": "stream",
          "name": "stdout",
          "text": [
            "[nltk_data] Downloading package stopwords to /root/nltk_data...\n",
            "[nltk_data]   Unzipping corpora/stopwords.zip.\n",
            "[nltk_data] Downloading package wordnet to /root/nltk_data...\n",
            "[nltk_data]   Unzipping corpora/wordnet.zip.\n",
            "[nltk_data] Downloading package punkt to /root/nltk_data...\n",
            "[nltk_data]   Unzipping tokenizers/punkt.zip.\n",
            "[nltk_data] Downloading package averaged_perceptron_tagger to\n",
            "[nltk_data]     /root/nltk_data...\n",
            "[nltk_data]   Unzipping taggers/averaged_perceptron_tagger.zip.\n"
          ]
        }
      ],
      "source": [
        "# utilities\n",
        "import re\n",
        "import numpy as np\n",
        "import pandas as pd\n",
        "import sqlite3 as sq3\n",
        "# plotting\n",
        "import seaborn as sns\n",
        "from wordcloud import WordCloud\n",
        "import matplotlib.pyplot as plt\n",
        "# nltk\n",
        "from nltk.stem import WordNetLemmatizer\n",
        "from nltk.corpus import stopwords\n",
        "!pip install -q wordcloud\n",
        "import wordcloud\n",
        "\n",
        "import nltk\n",
        "nltk.download('stopwords')\n",
        "nltk.download('wordnet')\n",
        "nltk.download('punkt')\n",
        "nltk.download('averaged_perceptron_tagger') \n",
        "from nltk.tokenize import word_tokenize\n",
        "# sklearn\n",
        "from sklearn.svm import LinearSVC\n",
        "from sklearn.naive_bayes import BernoulliNB\n",
        "from sklearn.linear_model import LogisticRegression\n",
        "from sklearn.model_selection import train_test_split\n",
        "from sklearn.feature_extraction.text import TfidfVectorizer\n",
        "from sklearn.metrics import confusion_matrix, classification_report\n",
        "import pandas as pd\n",
        "from termcolor import colored"
      ]
    },
    {
      "cell_type": "code",
      "source": [
        "from google.colab import drive\n",
        "drive.mount('/content/drive')"
      ],
      "metadata": {
        "id": "HwtlECKOrocj",
        "colab": {
          "base_uri": "https://localhost:8080/"
        },
        "outputId": "123ae8ca-1898-4a8b-80db-9ada29a096f0"
      },
      "execution_count": 2,
      "outputs": [
        {
          "output_type": "stream",
          "name": "stdout",
          "text": [
            "Drive already mounted at /content/drive; to attempt to forcibly remount, call drive.mount(\"/content/drive\", force_remount=True).\n"
          ]
        }
      ]
    },
    {
      "cell_type": "code",
      "source": [
        "path = '/content/drive/MyDrive/Colab Notebooks/Sentiment.db'\n",
        "con = sq3.Connection(path)\n",
        "query = \"\"\"\n",
        "SELECT *\n",
        "FROM Propaganda;\n",
        "\"\"\"\n",
        "dataset = pd.read_sql(query, con)\n",
        "dataset.columns = ['text','sentiment']\n",
        "dataset = dataset.iloc[1:]\n",
        "dataset.index = range(len(dataset))\n",
        "dataset.head()"
      ],
      "metadata": {
        "colab": {
          "base_uri": "https://localhost:8080/",
          "height": 206
        },
        "id": "28fLVGB2fvtC",
        "outputId": "6fc697de-86a2-4cb5-c7b4-02ba79d1118e"
      },
      "execution_count": 3,
      "outputs": [
        {
          "output_type": "execute_result",
          "data": {
            "text/plain": [
              "                                                text sentiment\n",
              "0  when modi promised “minimum government maximum...        -1\n",
              "1  talk all the nonsense and continue all the dra...         0\n",
              "2  what did just say vote for modi  welcome bjp t...         1\n",
              "3  asking his supporters prefix chowkidar their n...         1\n",
              "4  answer who among these the most powerful world...         1"
            ],
            "text/html": [
              "\n",
              "  <div id=\"df-97a03fd5-c492-45df-bd6b-368f3bb4bdb3\">\n",
              "    <div class=\"colab-df-container\">\n",
              "      <div>\n",
              "<style scoped>\n",
              "    .dataframe tbody tr th:only-of-type {\n",
              "        vertical-align: middle;\n",
              "    }\n",
              "\n",
              "    .dataframe tbody tr th {\n",
              "        vertical-align: top;\n",
              "    }\n",
              "\n",
              "    .dataframe thead th {\n",
              "        text-align: right;\n",
              "    }\n",
              "</style>\n",
              "<table border=\"1\" class=\"dataframe\">\n",
              "  <thead>\n",
              "    <tr style=\"text-align: right;\">\n",
              "      <th></th>\n",
              "      <th>text</th>\n",
              "      <th>sentiment</th>\n",
              "    </tr>\n",
              "  </thead>\n",
              "  <tbody>\n",
              "    <tr>\n",
              "      <th>0</th>\n",
              "      <td>when modi promised “minimum government maximum...</td>\n",
              "      <td>-1</td>\n",
              "    </tr>\n",
              "    <tr>\n",
              "      <th>1</th>\n",
              "      <td>talk all the nonsense and continue all the dra...</td>\n",
              "      <td>0</td>\n",
              "    </tr>\n",
              "    <tr>\n",
              "      <th>2</th>\n",
              "      <td>what did just say vote for modi  welcome bjp t...</td>\n",
              "      <td>1</td>\n",
              "    </tr>\n",
              "    <tr>\n",
              "      <th>3</th>\n",
              "      <td>asking his supporters prefix chowkidar their n...</td>\n",
              "      <td>1</td>\n",
              "    </tr>\n",
              "    <tr>\n",
              "      <th>4</th>\n",
              "      <td>answer who among these the most powerful world...</td>\n",
              "      <td>1</td>\n",
              "    </tr>\n",
              "  </tbody>\n",
              "</table>\n",
              "</div>\n",
              "      <button class=\"colab-df-convert\" onclick=\"convertToInteractive('df-97a03fd5-c492-45df-bd6b-368f3bb4bdb3')\"\n",
              "              title=\"Convert this dataframe to an interactive table.\"\n",
              "              style=\"display:none;\">\n",
              "        \n",
              "  <svg xmlns=\"http://www.w3.org/2000/svg\" height=\"24px\"viewBox=\"0 0 24 24\"\n",
              "       width=\"24px\">\n",
              "    <path d=\"M0 0h24v24H0V0z\" fill=\"none\"/>\n",
              "    <path d=\"M18.56 5.44l.94 2.06.94-2.06 2.06-.94-2.06-.94-.94-2.06-.94 2.06-2.06.94zm-11 1L8.5 8.5l.94-2.06 2.06-.94-2.06-.94L8.5 2.5l-.94 2.06-2.06.94zm10 10l.94 2.06.94-2.06 2.06-.94-2.06-.94-.94-2.06-.94 2.06-2.06.94z\"/><path d=\"M17.41 7.96l-1.37-1.37c-.4-.4-.92-.59-1.43-.59-.52 0-1.04.2-1.43.59L10.3 9.45l-7.72 7.72c-.78.78-.78 2.05 0 2.83L4 21.41c.39.39.9.59 1.41.59.51 0 1.02-.2 1.41-.59l7.78-7.78 2.81-2.81c.8-.78.8-2.07 0-2.86zM5.41 20L4 18.59l7.72-7.72 1.47 1.35L5.41 20z\"/>\n",
              "  </svg>\n",
              "      </button>\n",
              "      \n",
              "  <style>\n",
              "    .colab-df-container {\n",
              "      display:flex;\n",
              "      flex-wrap:wrap;\n",
              "      gap: 12px;\n",
              "    }\n",
              "\n",
              "    .colab-df-convert {\n",
              "      background-color: #E8F0FE;\n",
              "      border: none;\n",
              "      border-radius: 50%;\n",
              "      cursor: pointer;\n",
              "      display: none;\n",
              "      fill: #1967D2;\n",
              "      height: 32px;\n",
              "      padding: 0 0 0 0;\n",
              "      width: 32px;\n",
              "    }\n",
              "\n",
              "    .colab-df-convert:hover {\n",
              "      background-color: #E2EBFA;\n",
              "      box-shadow: 0px 1px 2px rgba(60, 64, 67, 0.3), 0px 1px 3px 1px rgba(60, 64, 67, 0.15);\n",
              "      fill: #174EA6;\n",
              "    }\n",
              "\n",
              "    [theme=dark] .colab-df-convert {\n",
              "      background-color: #3B4455;\n",
              "      fill: #D2E3FC;\n",
              "    }\n",
              "\n",
              "    [theme=dark] .colab-df-convert:hover {\n",
              "      background-color: #434B5C;\n",
              "      box-shadow: 0px 1px 3px 1px rgba(0, 0, 0, 0.15);\n",
              "      filter: drop-shadow(0px 1px 2px rgba(0, 0, 0, 0.3));\n",
              "      fill: #FFFFFF;\n",
              "    }\n",
              "  </style>\n",
              "\n",
              "      <script>\n",
              "        const buttonEl =\n",
              "          document.querySelector('#df-97a03fd5-c492-45df-bd6b-368f3bb4bdb3 button.colab-df-convert');\n",
              "        buttonEl.style.display =\n",
              "          google.colab.kernel.accessAllowed ? 'block' : 'none';\n",
              "\n",
              "        async function convertToInteractive(key) {\n",
              "          const element = document.querySelector('#df-97a03fd5-c492-45df-bd6b-368f3bb4bdb3');\n",
              "          const dataTable =\n",
              "            await google.colab.kernel.invokeFunction('convertToInteractive',\n",
              "                                                     [key], {});\n",
              "          if (!dataTable) return;\n",
              "\n",
              "          const docLinkHtml = 'Like what you see? Visit the ' +\n",
              "            '<a target=\"_blank\" href=https://colab.research.google.com/notebooks/data_table.ipynb>data table notebook</a>'\n",
              "            + ' to learn more about interactive tables.';\n",
              "          element.innerHTML = '';\n",
              "          dataTable['output_type'] = 'display_data';\n",
              "          await google.colab.output.renderOutput(dataTable, element);\n",
              "          const docLink = document.createElement('div');\n",
              "          docLink.innerHTML = docLinkHtml;\n",
              "          element.appendChild(docLink);\n",
              "        }\n",
              "      </script>\n",
              "    </div>\n",
              "  </div>\n",
              "  "
            ]
          },
          "metadata": {},
          "execution_count": 3
        }
      ]
    },
    {
      "cell_type": "markdown",
      "source": [
        "EXPLORATORY DATA ANALYSIS"
      ],
      "metadata": {
        "id": "svBnozXSd8iQ"
      }
    },
    {
      "cell_type": "code",
      "source": [
        "dataset.info()"
      ],
      "metadata": {
        "colab": {
          "base_uri": "https://localhost:8080/"
        },
        "id": "N5h38vGBI1fc",
        "outputId": "0194a2fc-f9d3-4791-b4db-e5c8c9c45584"
      },
      "execution_count": 4,
      "outputs": [
        {
          "output_type": "stream",
          "name": "stdout",
          "text": [
            "<class 'pandas.core.frame.DataFrame'>\n",
            "RangeIndex: 162980 entries, 0 to 162979\n",
            "Data columns (total 2 columns):\n",
            " #   Column     Non-Null Count   Dtype \n",
            "---  ------     --------------   ----- \n",
            " 0   text       162975 non-null  object\n",
            " 1   sentiment  162973 non-null  object\n",
            "dtypes: object(2)\n",
            "memory usage: 2.5+ MB\n"
          ]
        }
      ]
    },
    {
      "cell_type": "code",
      "source": [
        "print('Three types of sentiments possible: ', dataset['sentiment'].unique())\n",
        "sentiment_distribution = sns.countplot(x = \"sentiment\", data = dataset)"
      ],
      "metadata": {
        "colab": {
          "base_uri": "https://localhost:8080/",
          "height": 297
        },
        "id": "tGmJHU5MI4o2",
        "outputId": "1cbe20a7-73a7-4efa-80a2-9f50b4660247"
      },
      "execution_count": 5,
      "outputs": [
        {
          "output_type": "stream",
          "name": "stdout",
          "text": [
            "Three types of sentiments possible:  ['-1' '0' '1' None]\n"
          ]
        },
        {
          "output_type": "display_data",
          "data": {
            "text/plain": [
              "<Figure size 432x288 with 1 Axes>"
            ],
            "image/png": "[encoded data removed]"
          },
          "metadata": {
            "needs_background": "light"
          }
        }
      ]
    },
    {
      "cell_type": "markdown",
      "source": [
        "DATA PREPROCESSING"
      ],
      "metadata": {
        "id": "XP2x5aOS-Hcf"
      }
    },
    {
      "cell_type": "code",
      "source": [
        "#dataset['airline_sentiment'].replace((0, 1, -1), ('neutral', 'positive', 'negative'),  inplace = True)\n",
        "#dataset['airline_sentiment'].replace('None', 0, inplace = True)\n",
        "dataset.sentiment.fillna(0,inplace=True)\n",
        "dataset.text.fillna(' ',inplace=True)\n",
        "dataset['sentiment'].value_counts()\n",
        "#dataset['text'].head()"
      ],
      "metadata": {
        "colab": {
          "base_uri": "https://localhost:8080/"
        },
        "id": "sgXvEE1p-KWw",
        "outputId": "1a83cc64-a341-4c8b-85c8-112e13c206a7"
      },
      "execution_count": 6,
      "outputs": [
        {
          "output_type": "execute_result",
          "data": {
            "text/plain": [
              "1     72250\n",
              "0     55213\n",
              "-1    35510\n",
              "0         7\n",
              "Name: sentiment, dtype: int64"
            ]
          },
          "metadata": {},
          "execution_count": 6
        }
      ]
    },
    {
      "cell_type": "code",
      "source": [
        "data_text = dataset['text']\n",
        "data_text.head()"
      ],
      "metadata": {
        "colab": {
          "base_uri": "https://localhost:8080/"
        },
        "id": "LPfa58I_-NeN",
        "outputId": "ec03c3e8-d0cb-46cd-a206-4614844c6974"
      },
      "execution_count": 7,
      "outputs": [
        {
          "output_type": "execute_result",
          "data": {
            "text/plain": [
              "0    when modi promised “minimum government maximum...\n",
              "1    talk all the nonsense and continue all the dra...\n",
              "2    what did just say vote for modi  welcome bjp t...\n",
              "3    asking his supporters prefix chowkidar their n...\n",
              "4    answer who among these the most powerful world...\n",
              "Name: text, dtype: object"
            ]
          },
          "metadata": {},
          "execution_count": 7
        }
      ]
    },
    {
      "cell_type": "code",
      "source": [
        "sns.distplot(dataset.text.str.len())\n",
        "plt.show()"
      ],
      "metadata": {
        "colab": {
          "base_uri": "https://localhost:8080/",
          "height": 334
        },
        "id": "K_r2PwpHkPWG",
        "outputId": "3ba96f7a-c0f9-460a-adeb-91750bb6b6e0"
      },
      "execution_count": 8,
      "outputs": [
        {
          "output_type": "stream",
          "name": "stderr",
          "text": [
            "/usr/local/lib/python3.7/dist-packages/seaborn/distributions.py:2619: FutureWarning: `distplot` is a deprecated function and will be removed in a future version. Please adapt your code to use either `displot` (a figure-level function with similar flexibility) or `histplot` (an axes-level function for histograms).\n",
            "  warnings.warn(msg, FutureWarning)\n"
          ]
        },
        {
          "output_type": "display_data",
          "data": {
            "text/plain": [
              "<Figure size 432x288 with 1 Axes>"
            ],
            "image/png": "[encoded data removed]"
          },
          "metadata": {
            "needs_background": "light"
          }
        }
      ]
    },
    {
      "cell_type": "code",
      "source": [
        "dataset.text.str.len().describe()"
      ],
      "metadata": {
        "id": "4kVtXO71kaZr",
        "colab": {
          "base_uri": "https://localhost:8080/"
        },
        "outputId": "e7c124ca-a50d-4eba-bd8c-5bef38cd24f2"
      },
      "execution_count": 9,
      "outputs": [
        {
          "output_type": "execute_result",
          "data": {
            "text/plain": [
              "count    162980.000000\n",
              "mean        123.630630\n",
              "std          67.997988\n",
              "min           1.000000\n",
              "25%          66.000000\n",
              "50%         113.000000\n",
              "75%         182.000000\n",
              "max         273.000000\n",
              "Name: text, dtype: float64"
            ]
          },
          "metadata": {},
          "execution_count": 9
        }
      ]
    },
    {
      "cell_type": "code",
      "source": [
        "dataset.sentiment.str.len().describe()"
      ],
      "metadata": {
        "colab": {
          "base_uri": "https://localhost:8080/"
        },
        "id": "OfWNsxKz-gdz",
        "outputId": "ace96ed3-fdf3-4368-d749-d1506eb3c599"
      },
      "execution_count": 10,
      "outputs": [
        {
          "output_type": "execute_result",
          "data": {
            "text/plain": [
              "count    162973.000000\n",
              "mean          1.217889\n",
              "std           0.412813\n",
              "min           1.000000\n",
              "25%           1.000000\n",
              "50%           1.000000\n",
              "75%           1.000000\n",
              "max           2.000000\n",
              "Name: sentiment, dtype: float64"
            ]
          },
          "metadata": {},
          "execution_count": 10
        }
      ]
    },
    {
      "cell_type": "code",
      "source": [
        "STOPWORDS=stopwords.words('english')\n",
        "STOPWORDS[:5]"
      ],
      "metadata": {
        "colab": {
          "base_uri": "https://localhost:8080/"
        },
        "id": "8N-jVDNr-RoV",
        "outputId": "11d72913-090a-47c6-a5c2-6f8d0272534a"
      },
      "execution_count": 11,
      "outputs": [
        {
          "output_type": "execute_result",
          "data": {
            "text/plain": [
              "['i', 'me', 'my', 'myself', 'we']"
            ]
          },
          "metadata": {},
          "execution_count": 11
        }
      ]
    },
    {
      "cell_type": "code",
      "source": [
        "def cleaning_stopwords(text):\n",
        "    return \" \".join([word for word in str(text).split() if word not in STOPWORDS])\n",
        "data_text = data_text.apply(lambda text: cleaning_stopwords(text))\n",
        "data_text.head()"
      ],
      "metadata": {
        "id": "8eqVXQfk-rPE",
        "colab": {
          "base_uri": "https://localhost:8080/"
        },
        "outputId": "9fb01a12-1b99-4b01-ad76-12a5b0986402"
      },
      "execution_count": 12,
      "outputs": [
        {
          "output_type": "execute_result",
          "data": {
            "text/plain": [
              "0    modi promised “minimum government maximum gove...\n",
              "1               talk nonsense continue drama vote modi\n",
              "2    say vote modi welcome bjp told rahul main camp...\n",
              "3    asking supporters prefix chowkidar names modi ...\n",
              "4    answer among powerful world leader today trump...\n",
              "Name: text, dtype: object"
            ]
          },
          "metadata": {},
          "execution_count": 12
        }
      ]
    },
    {
      "cell_type": "code",
      "source": [
        "import string\n",
        "english_punctuations = string.punctuation\n",
        "punctuations_list = english_punctuations\n",
        "def cleaning_punctuations(text):\n",
        "    translator = str.maketrans('', '', punctuations_list)\n",
        "    return text.translate(translator)\n",
        "data_text = data_text.apply(lambda x: cleaning_punctuations(x))\n",
        "data_text.head()"
      ],
      "metadata": {
        "id": "b2OqSMHL_Kfa",
        "colab": {
          "base_uri": "https://localhost:8080/"
        },
        "outputId": "1a98df5c-26e4-4a58-9cd3-09eaab889a1c"
      },
      "execution_count": 13,
      "outputs": [
        {
          "output_type": "execute_result",
          "data": {
            "text/plain": [
              "0    modi promised “minimum government maximum gove...\n",
              "1               talk nonsense continue drama vote modi\n",
              "2    say vote modi welcome bjp told rahul main camp...\n",
              "3    asking supporters prefix chowkidar names modi ...\n",
              "4    answer among powerful world leader today trump...\n",
              "Name: text, dtype: object"
            ]
          },
          "metadata": {},
          "execution_count": 13
        }
      ]
    },
    {
      "cell_type": "code",
      "source": [
        "def cleaning_repeating_char(text):\n",
        "    return re.sub(r'(.)1+', r'1', text)\n",
        "data_text = data_text.apply(lambda x: cleaning_repeating_char(x))\n",
        "data_text.head()"
      ],
      "metadata": {
        "id": "GxEIcNyh_OOY",
        "colab": {
          "base_uri": "https://localhost:8080/"
        },
        "outputId": "d2693826-c1a0-4579-e145-20baf8b7e59a"
      },
      "execution_count": 14,
      "outputs": [
        {
          "output_type": "execute_result",
          "data": {
            "text/plain": [
              "0    modi promised “minimum government maximum gove...\n",
              "1               talk nonsense continue drama vote modi\n",
              "2    say vote modi welcome bjp told rahul main camp...\n",
              "3    asking supporters prefix chowkidar names modi ...\n",
              "4    answer among powerful world leader today trump...\n",
              "Name: text, dtype: object"
            ]
          },
          "metadata": {},
          "execution_count": 14
        }
      ]
    },
    {
      "cell_type": "code",
      "source": [
        "def cleaning_URLs(data):\n",
        "    return re.sub('((www.[^s]+)|(https?://[^s]+))',' ',data)\n",
        "data_text = data_text.apply(lambda x: cleaning_URLs(x))\n",
        "data_text.head()"
      ],
      "metadata": {
        "id": "9m2GTswG_Qm9",
        "colab": {
          "base_uri": "https://localhost:8080/"
        },
        "outputId": "1581f82d-212a-43d8-8081-a1e27a93508c"
      },
      "execution_count": 15,
      "outputs": [
        {
          "output_type": "execute_result",
          "data": {
            "text/plain": [
              "0    modi promised “minimum government maximum gove...\n",
              "1               talk nonsense continue drama vote modi\n",
              "2    say vote modi welcome bjp told rahul main camp...\n",
              "3    asking supporters prefix chowkidar names modi ...\n",
              "4    answer among powerful world leader today trump...\n",
              "Name: text, dtype: object"
            ]
          },
          "metadata": {},
          "execution_count": 15
        }
      ]
    },
    {
      "cell_type": "code",
      "source": [
        "def cleaning_numbers(data):\n",
        "    return re.sub('[0-9]+', '', data)\n",
        "data_text = data_text.apply(lambda x: cleaning_numbers(x))\n",
        "data_text.head()"
      ],
      "metadata": {
        "id": "Qpdjj96r_Sqi",
        "colab": {
          "base_uri": "https://localhost:8080/"
        },
        "outputId": "2ff0d3c9-b276-4bbe-c3c3-d6a570168102"
      },
      "execution_count": 16,
      "outputs": [
        {
          "output_type": "execute_result",
          "data": {
            "text/plain": [
              "0    modi promised “minimum government maximum gove...\n",
              "1               talk nonsense continue drama vote modi\n",
              "2    say vote modi welcome bjp told rahul main camp...\n",
              "3    asking supporters prefix chowkidar names modi ...\n",
              "4    answer among powerful world leader today trump...\n",
              "Name: text, dtype: object"
            ]
          },
          "metadata": {},
          "execution_count": 16
        }
      ]
    },
    {
      "cell_type": "code",
      "source": [
        "st = nltk.PorterStemmer()\n",
        "def stemming_on_text(data):\n",
        "    text = [st.stem(word) for word in data]\n",
        "    return data\n",
        "data_text = data_text.apply(lambda x: stemming_on_text(x))\n",
        "data_text.head()"
      ],
      "metadata": {
        "id": "HGRF1bgf_Wmz",
        "colab": {
          "base_uri": "https://localhost:8080/"
        },
        "outputId": "ee9c5357-651c-45f0-bd31-75cdadbd23e4"
      },
      "execution_count": 17,
      "outputs": [
        {
          "output_type": "execute_result",
          "data": {
            "text/plain": [
              "0    modi promised “minimum government maximum gove...\n",
              "1               talk nonsense continue drama vote modi\n",
              "2    say vote modi welcome bjp told rahul main camp...\n",
              "3    asking supporters prefix chowkidar names modi ...\n",
              "4    answer among powerful world leader today trump...\n",
              "Name: text, dtype: object"
            ]
          },
          "metadata": {},
          "execution_count": 17
        }
      ]
    },
    {
      "cell_type": "code",
      "source": [
        "lm = nltk.WordNetLemmatizer()\n",
        "def lemmatizer_on_text(data):\n",
        "    text = [lm.lemmatize(word) for word in data]\n",
        "    return data\n",
        "data_text = data_text.apply(lambda x: lemmatizer_on_text(x))\n",
        "data_text.head()"
      ],
      "metadata": {
        "id": "b8wSKphl_XuI",
        "colab": {
          "base_uri": "https://localhost:8080/"
        },
        "outputId": "a1a72e3b-af6d-46c2-bc33-2aa20ab118b0"
      },
      "execution_count": 18,
      "outputs": [
        {
          "output_type": "execute_result",
          "data": {
            "text/plain": [
              "0    modi promised “minimum government maximum gove...\n",
              "1               talk nonsense continue drama vote modi\n",
              "2    say vote modi welcome bjp told rahul main camp...\n",
              "3    asking supporters prefix chowkidar names modi ...\n",
              "4    answer among powerful world leader today trump...\n",
              "Name: text, dtype: object"
            ]
          },
          "metadata": {},
          "execution_count": 18
        }
      ]
    },
    {
      "cell_type": "code",
      "source": [
        "#def tokenize(d):\n",
        "    #return word_tokenize(d)\n",
        "\n",
        "#dataset['final_text'] = data_text.apply(tokenize)\n",
        "#dataset.final_text.head()"
      ],
      "metadata": {
        "id": "amCMsYPlkslC"
      },
      "execution_count": 19,
      "outputs": []
    },
    {
      "cell_type": "code",
      "source": [
        "#for i in range(len(dataset)):\n",
        "    #dataset['final_text'][i] = \" \".join(dataset['final_text'][i])"
      ],
      "metadata": {
        "id": "bmWAODhMnhLI"
      },
      "execution_count": 20,
      "outputs": []
    },
    {
      "cell_type": "code",
      "source": [
        "#X_train = dataset.final_text\n",
        "X_train = data_text\n",
        "X_train.head()"
      ],
      "metadata": {
        "id": "teW5ZsZbp3pL",
        "colab": {
          "base_uri": "https://localhost:8080/"
        },
        "outputId": "173668bf-2ade-405a-fc26-26b72d324341"
      },
      "execution_count": 21,
      "outputs": [
        {
          "output_type": "execute_result",
          "data": {
            "text/plain": [
              "0    modi promised “minimum government maximum gove...\n",
              "1               talk nonsense continue drama vote modi\n",
              "2    say vote modi welcome bjp told rahul main camp...\n",
              "3    asking supporters prefix chowkidar names modi ...\n",
              "4    answer among powerful world leader today trump...\n",
              "Name: text, dtype: object"
            ]
          },
          "metadata": {},
          "execution_count": 21
        }
      ]
    },
    {
      "cell_type": "code",
      "source": [
        "dataset.info"
      ],
      "metadata": {
        "colab": {
          "base_uri": "https://localhost:8080/"
        },
        "id": "Ytojdf5X8eiw",
        "outputId": "de6c5db9-3b8a-4ea3-df81-5485c0eb1906"
      },
      "execution_count": 22,
      "outputs": [
        {
          "output_type": "execute_result",
          "data": {
            "text/plain": [
              "<bound method DataFrame.info of                                                      text sentiment\n",
              "0       when modi promised “minimum government maximum...        -1\n",
              "1       talk all the nonsense and continue all the dra...         0\n",
              "2       what did just say vote for modi  welcome bjp t...         1\n",
              "3       asking his supporters prefix chowkidar their n...         1\n",
              "4       answer who among these the most powerful world...         1\n",
              "...                                                   ...       ...\n",
              "162975  why these 456 crores paid neerav modi not reco...        -1\n",
              "162976  dear rss terrorist payal gawar what about modi...        -1\n",
              "162977  did you cover her interaction forum where she ...         0\n",
              "162978  there big project came into india modi dream p...         0\n",
              "162979  have you ever listen about like gurukul where ...         1\n",
              "\n",
              "[162980 rows x 2 columns]>"
            ]
          },
          "metadata": {},
          "execution_count": 22
        }
      ]
    },
    {
      "cell_type": "markdown",
      "source": [
        "MACHINE LEARNING"
      ],
      "metadata": {
        "id": "DFBmqQ9FemjN"
      }
    },
    {
      "cell_type": "code",
      "source": [
        "train_X, test_X, y_train, y_test = train_test_split(X_train, dataset['sentiment'], test_size=0.2, \n",
        "                                                    random_state=42, shuffle=True)\n",
        "\n",
        "print(f'Number of training examples: {len(train_X)}')\n",
        "print(f'Number of testing examples: {len(test_X)}')"
      ],
      "metadata": {
        "id": "zV-_U5z__m4H",
        "colab": {
          "base_uri": "https://localhost:8080/"
        },
        "outputId": "4b252973-2e71-49ac-f0e2-1666be253a82"
      },
      "execution_count": 24,
      "outputs": [
        {
          "output_type": "stream",
          "name": "stdout",
          "text": [
            "Number of training examples: 130384\n",
            "Number of testing examples: 32596\n"
          ]
        }
      ]
    },
    {
      "cell_type": "code",
      "source": [
        "vectoriser = TfidfVectorizer(ngram_range=(1,2), max_features=500000)\n",
        "vectoriser.fit(train_X)\n",
        "print(f'Vectoriser fitted.')\n",
        "print('No. of feature_words: ', len(vectoriser.get_feature_names()))"
      ],
      "metadata": {
        "id": "xZ-jP-1fEg74",
        "colab": {
          "base_uri": "https://localhost:8080/"
        },
        "outputId": "ab5cf358-6bf1-4d10-eeb0-dd2bdc466802"
      },
      "execution_count": 25,
      "outputs": [
        {
          "output_type": "stream",
          "name": "stdout",
          "text": [
            "Vectoriser fitted.\n"
          ]
        },
        {
          "output_type": "stream",
          "name": "stderr",
          "text": [
            "/usr/local/lib/python3.7/dist-packages/sklearn/utils/deprecation.py:87: FutureWarning: Function get_feature_names is deprecated; get_feature_names is deprecated in 1.0 and will be removed in 1.2. Please use get_feature_names_out instead.\n",
            "  warnings.warn(msg, category=FutureWarning)\n"
          ]
        },
        {
          "output_type": "stream",
          "name": "stdout",
          "text": [
            "No. of feature_words:  500000\n"
          ]
        }
      ]
    },
    {
      "cell_type": "code",
      "source": [
        "from sklearn.feature_extraction.text import CountVectorizer\n",
        "c = CountVectorizer(analyzer = 'word')\n",
        "#X_c = c.fit_transform(X)"
      ],
      "metadata": {
        "id": "V7dgSClFIlJi"
      },
      "execution_count": 26,
      "outputs": []
    },
    {
      "cell_type": "code",
      "source": [
        "X_train = c.fit_transform(train_X)\n",
        "X_test  = c.transform(test_X)\n",
        "print(f'Data Transformed.')"
      ],
      "metadata": {
        "id": "5X9WQagrEa5E",
        "colab": {
          "base_uri": "https://localhost:8080/"
        },
        "outputId": "0068456e-f70a-4789-a3d8-f681ce3afa94"
      },
      "execution_count": 27,
      "outputs": [
        {
          "output_type": "stream",
          "name": "stdout",
          "text": [
            "Data Transformed.\n"
          ]
        }
      ]
    },
    {
      "cell_type": "code",
      "source": [
        "from sklearn.linear_model import LogisticRegression\n",
        "from sklearn.neighbors import KNeighborsClassifier\n",
        "from sklearn.svm import SVC, LinearSVC, NuSVC\n",
        "from sklearn.tree import DecisionTreeClassifier\n",
        "from sklearn.ensemble import RandomForestClassifier, AdaBoostClassifier, GradientBoostingClassifier\n",
        "from sklearn.naive_bayes import GaussianNB\n",
        "from sklearn.discriminant_analysis import LinearDiscriminantAnalysis\n",
        "from sklearn.discriminant_analysis import QuadraticDiscriminantAnalysis\n",
        "from sklearn.metrics import accuracy_score\n",
        "from sklearn.naive_bayes import MultinomialNB\n",
        "from sklearn.naive_bayes import (\n",
        "    BernoulliNB,\n",
        "    ComplementNB,\n",
        "    MultinomialNB,\n",
        ")\n",
        "from sklearn.neighbors import KNeighborsClassifier\n",
        "from sklearn.tree import DecisionTreeClassifier\n",
        "from sklearn.ensemble import RandomForestClassifier, AdaBoostClassifier\n",
        "from sklearn.linear_model import LogisticRegression\n",
        "from sklearn.neural_network import MLPClassifier\n",
        "from sklearn.discriminant_analysis import QuadraticDiscriminantAnalysis\n",
        "from xgboost import XGBClassifier\n",
        "from sklearn.ensemble import GradientBoostingClassifier"
      ],
      "metadata": {
        "id": "O5BaeTJABoif"
      },
      "execution_count": 28,
      "outputs": []
    },
    {
      "cell_type": "code",
      "source": [
        "model_params = {'random_state':50}\n",
        "LR =  LogisticRegression(**model_params,solver='liblinear')\n",
        "KN = KNeighborsClassifier()\n",
        "SVC = SVC(**model_params)\n",
        "Tree = DecisionTreeClassifier()\n",
        "Forest = RandomForestClassifier(**model_params)\n",
        "Ada = AdaBoostClassifier(**model_params)\n",
        "Gau = GaussianNB()\n",
        "BNB = BernoulliNB(alpha=2)\n",
        "MNB = MultinomialNB()\n",
        "CNB = ComplementNB()\n",
        "MLP = MLPClassifier(**model_params)"
      ],
      "metadata": {
        "id": "xmDyRAqHBk7R"
      },
      "execution_count": 29,
      "outputs": []
    },
    {
      "cell_type": "code",
      "source": [
        "y_train = y_train.astype(int)\n",
        "dataset = dataset.fillna(value=np.nan)\n",
        "a = BNB.fit(X_train, y_train)\n",
        "b = LR.fit(X_train, y_train)\n",
        "#c = KN.fit(X_train, y_train)\n",
        "#d = SVC.fit(X_train, y_train)\n",
        "#e = Tree.fit(X_train, y_train)\n",
        "#f = Forest.fit(X_train, y_train)\n",
        "#g = Ada.fit(X_train, y_train)\n",
        "j = MNB.fit(X_train, y_train)\n",
        "h = CNB.fit(X_train, y_train)\n",
        "#i = MLP.fit(X_train, y_train)"
      ],
      "metadata": {
        "id": "sQCSqbOmBrZV"
      },
      "execution_count": 30,
      "outputs": []
    },
    {
      "cell_type": "code",
      "source": [
        "y_test = y_test.astype(int)\n",
        "print(\"Train Accuracy using BernoulliNB: \", BNB.score(X_train, y_train))\n",
        "pred_BNB = a.predict(X_test)\n",
        "accuracy = accuracy_score(y_test, pred_BNB)\n",
        "print(\"Test Accuracy using BernoulliNB: \", accuracy)\n",
        "\n",
        "print(\"Train Accuracy using Logistic Regression: \", LR.score(X_train, y_train))\n",
        "pred_LR = b.predict(X_test)\n",
        "accuracy = accuracy_score(pred_LR, y_test)\n",
        "print(\"Accuracy using Logistic Regression: \", accuracy)\n",
        "\n",
        "#print(KN.score(X_train, y_train))\n",
        "#pred = c.predict(X_test)\n",
        "#accuracy = accuracy_score(pred, y_test)\n",
        "#print(\"Accuracy using KNeighbors: \", accuracy)\n",
        "\n",
        "#print(SVC.score(X_train, y_train))\n",
        "#pred = d.predict(X_test)\n",
        "#accuracy = accuracy_score(pred, y_test)\n",
        "#print(\"Accuracy using Support Vector Classifier: \", accuracy)\n",
        "\n",
        "#print(Tree.score(X_train, y_train))\n",
        "#pred = e.predict(X_test)\n",
        "#accuracy = accuracy_score(pred, y_test)\n",
        "#print(\"Accuracy using Decision Tree: \", accuracy)\n",
        "\n",
        "#print(Forest.score(X_train, y_train))\n",
        "#pred = f.predict(X_test)\n",
        "#accuracy = accuracy_score(pred, y_test)\n",
        "#print(\"Accuracy using Random Forest: \", accuracy)\n",
        "\n",
        "#print(Ada.score(X_train, y_train))\n",
        "#pred = g.predict(X_test)\n",
        "#accuracy = accuracy_score(pred, y_test)\n",
        "#print(\"Accuracy using AdaBoost: \", accuracy)\n",
        "\n",
        "print(\"Train Accuracy using MultimonialNB: \", MNB.score(X_train, y_train))\n",
        "pred_MNB = j.predict(X_test)\n",
        "accuracy = accuracy_score(pred_MNB, y_test)\n",
        "print(\"Accuracy using MultinomialNB: \", accuracy)\n",
        "\n",
        "print(\"Train Accuracy using ComplementNB: \", CNB.score(X_train, y_train))\n",
        "pred_CNB = h.predict(X_test)\n",
        "accuracy = accuracy_score(pred_CNB, y_test)\n",
        "print(\"Accuracy using ComplementNB: \", accuracy)\n",
        "\n",
        "#print(MLP.score(X_train, y_train))\n",
        "#pred = i.predict(X_test)\n",
        "#accuracy = accuracy_score(pred, y_test)\n",
        "#print(\"Accuracy using MLP Classifier: \", accuracy)\n",
        "\n",
        "#print(xgb.score(X_train, y_train))\n",
        "#pred = l.predict(X_test)\n",
        "#accuracy = accuracy_score(pred, y_test)\n",
        "#print(\"Accuracy using XGBClassifier: \", accuracy)"
      ],
      "metadata": {
        "id": "47QiNlx_Keye",
        "colab": {
          "base_uri": "https://localhost:8080/"
        },
        "outputId": "dc1b7e07-8c1c-42bd-ee6c-ac672efd7b75"
      },
      "execution_count": 31,
      "outputs": [
        {
          "output_type": "stream",
          "name": "stdout",
          "text": [
            "Train Accuracy using BernoulliNB:  0.7986025892747577\n",
            "Test Accuracy using BernoulliNB:  0.7420542397840226\n",
            "Train Accuracy using Logistic Regression:  0.9497024174745368\n",
            "Accuracy using Logistic Regression:  0.9077494171063935\n",
            "Train Accuracy using MultimonialNB:  0.8286752975825254\n",
            "Accuracy using MultinomialNB:  0.7283715793348877\n",
            "Train Accuracy using ComplementNB:  0.8551739477236471\n",
            "Accuracy using ComplementNB:  0.7488035341759726\n"
          ]
        }
      ]
    },
    {
      "cell_type": "code",
      "source": [
        "pred_LR = pred_LR.astype(int)\n",
        "y_test = y_test.astype(int)\n",
        "cr = classification_report(y_test, pred_LR)\n",
        "\n",
        "print(\"Classification Report:\\n----------------------\\n\", cr)\n",
        "\n",
        "cm = confusion_matrix(y_test,pred_LR)\n",
        "\n",
        "\n",
        "# plot confusion matrix \n",
        "plt.figure(figsize=(8,6))\n",
        "sentiment_classes = ['Negative', 'Neutral', 'Positive']\n",
        "sns.heatmap(cm, cmap=plt.cm.Blues, annot=True, fmt='d', \n",
        "            xticklabels=sentiment_classes,\n",
        "            yticklabels=sentiment_classes)\n",
        "plt.title('Confusion matrix', fontsize=16)\n",
        "plt.xlabel('Actual label', fontsize=12)\n",
        "plt.ylabel('Predicted label', fontsize=12)\n",
        "plt.show()\n"
      ],
      "metadata": {
        "colab": {
          "base_uri": "https://localhost:8080/",
          "height": 621
        },
        "id": "XI_2j40ESUPs",
        "outputId": "8bda6049-4eb2-401b-8a14-8401fe7c708f"
      },
      "execution_count": 32,
      "outputs": [
        {
          "output_type": "stream",
          "name": "stdout",
          "text": [
            "Classification Report:\n",
            "----------------------\n",
            "               precision    recall  f1-score   support\n",
            "\n",
            "          -1       0.89      0.82      0.85      7179\n",
            "           0       0.89      0.97      0.93     11034\n",
            "           1       0.93      0.90      0.92     14383\n",
            "\n",
            "    accuracy                           0.91     32596\n",
            "   macro avg       0.90      0.90      0.90     32596\n",
            "weighted avg       0.91      0.91      0.91     32596\n",
            "\n"
          ]
        },
        {
          "output_type": "display_data",
          "data": {
            "text/plain": [
              "<Figure size 576x432 with 2 Axes>"
            ],
            "image/png": "[encoded data removed]"
          },
          "metadata": {
            "needs_background": "light"
          }
        }
      ]
    },
    {
      "cell_type": "markdown",
      "source": [
        "LEXICON VADER"
      ],
      "metadata": {
        "id": "0j4Mvci0e6Fq"
      }
    },
    {
      "cell_type": "code",
      "source": [
        "import nltk\n",
        "nltk.download('vader_lexicon')\n",
        "from nltk.sentiment.vader import SentimentIntensityAnalyzer"
      ],
      "metadata": {
        "colab": {
          "base_uri": "https://localhost:8080/"
        },
        "id": "CDg0OHfDuCzW",
        "outputId": "3fb452bc-9950-4e0c-c154-b798fec8130d"
      },
      "execution_count": 33,
      "outputs": [
        {
          "output_type": "stream",
          "name": "stdout",
          "text": [
            "[nltk_data] Downloading package vader_lexicon to /root/nltk_data...\n"
          ]
        },
        {
          "output_type": "stream",
          "name": "stderr",
          "text": [
            "/usr/local/lib/python3.7/dist-packages/nltk/twitter/__init__.py:20: UserWarning: The twython library has not been installed. Some functionality from the twitter package will not be available.\n",
            "  warnings.warn(\"The twython library has not been installed. \"\n"
          ]
        }
      ]
    },
    {
      "cell_type": "code",
      "source": [
        "analyzer = SentimentIntensityAnalyzer()\n",
        "scores = [analyzer.polarity_scores(tweet)['compound'] for tweet in dataset['text'].values.tolist()]\n",
        "#len(scores) = len(dataset)\n",
        "dataset['sentiment'] = scores"
      ],
      "metadata": {
        "id": "OU6LfMTHvAEQ"
      },
      "execution_count": 34,
      "outputs": []
    },
    {
      "cell_type": "code",
      "source": [
        "dataset.loc[dataset['sentiment'] == 0, 'final_sentiment'] = 0\n",
        "dataset.loc[dataset['sentiment'] > 0, 'final_sentiment'] = 1\n",
        "dataset.loc[dataset['sentiment'] < 0, 'final_sentiment'] = -1\n",
        "dataset.head()\n",
        "\n",
        "dataset['sentiment'].replace(' ', 0, inplace = True)\n",
        "dataset['sentiment'] = dataset['sentiment'].astype(int)"
      ],
      "metadata": {
        "id": "hdokHHEsvCjO"
      },
      "execution_count": 37,
      "outputs": []
    },
    {
      "cell_type": "code",
      "source": [
        "from sklearn.metrics import accuracy_score\n",
        "\n",
        "y_act = dataset['sentiment'].values\n",
        "y_pred = dataset['final_sentiment'].values\n",
        "\n",
        "accuracy_score(y_act, y_pred)"
      ],
      "metadata": {
        "colab": {
          "base_uri": "https://localhost:8080/"
        },
        "id": "FodhZxSovGFO",
        "outputId": "c309173e-194b-40a1-d8cf-b69144126292"
      },
      "execution_count": 39,
      "outputs": [
        {
          "output_type": "execute_result",
          "data": {
            "text/plain": [
              "0.20258927475763897"
            ]
          },
          "metadata": {},
          "execution_count": 39
        }
      ]
    },
    {
      "cell_type": "code",
      "source": [
        "cr = classification_report(y_act, y_pred)\n",
        "\n",
        "print(\"Classification Report:\\n----------------------\\n\", cr)\n",
        "\n",
        "cm = confusion_matrix(y_test,pred_LR)\n",
        "\n",
        "\n",
        "# plot confusion matrix \n",
        "plt.figure(figsize=(8,6))\n",
        "sentiment_classes = ['Negative', 'Neutral', 'Positive']\n",
        "sns.heatmap(cm, cmap=plt.cm.Blues, annot=True, fmt='d', \n",
        "            xticklabels=sentiment_classes,\n",
        "            yticklabels=sentiment_classes)\n",
        "plt.title('Confusion matrix', fontsize=16)\n",
        "plt.xlabel('Actual label', fontsize=12)\n",
        "plt.ylabel('Predicted label', fontsize=12)\n",
        "plt.show()\n"
      ],
      "metadata": {
        "colab": {
          "base_uri": "https://localhost:8080/",
          "height": 748
        },
        "id": "DIsBObTsyd0I",
        "outputId": "c551b6fa-dbe3-4bab-f120-531d46e5b766"
      },
      "execution_count": 40,
      "outputs": [
        {
          "output_type": "stream",
          "name": "stderr",
          "text": [
            "/usr/local/lib/python3.7/dist-packages/sklearn/metrics/_classification.py:1318: UndefinedMetricWarning: Recall and F-score are ill-defined and being set to 0.0 in labels with no true samples. Use `zero_division` parameter to control this behavior.\n",
            "  _warn_prf(average, modifier, msg_start, len(result))\n",
            "/usr/local/lib/python3.7/dist-packages/sklearn/metrics/_classification.py:1318: UndefinedMetricWarning: Recall and F-score are ill-defined and being set to 0.0 in labels with no true samples. Use `zero_division` parameter to control this behavior.\n",
            "  _warn_prf(average, modifier, msg_start, len(result))\n",
            "/usr/local/lib/python3.7/dist-packages/sklearn/metrics/_classification.py:1318: UndefinedMetricWarning: Recall and F-score are ill-defined and being set to 0.0 in labels with no true samples. Use `zero_division` parameter to control this behavior.\n",
            "  _warn_prf(average, modifier, msg_start, len(result))\n"
          ]
        },
        {
          "output_type": "stream",
          "name": "stdout",
          "text": [
            "Classification Report:\n",
            "----------------------\n",
            "               precision    recall  f1-score   support\n",
            "\n",
            "        -1.0       0.00      0.00      0.00         0\n",
            "         0.0       1.00      0.20      0.34    162980\n",
            "         1.0       0.00      0.00      0.00         0\n",
            "\n",
            "    accuracy                           0.20    162980\n",
            "   macro avg       0.33      0.07      0.11    162980\n",
            "weighted avg       1.00      0.20      0.34    162980\n",
            "\n"
          ]
        },
        {
          "output_type": "display_data",
          "data": {
            "text/plain": [
              "<Figure size 576x432 with 2 Axes>"
            ],
            "image/png": "[encoded data removed]"
          },
          "metadata": {
            "needs_background": "light"
          }
        }
      ]
    }
  ]
}