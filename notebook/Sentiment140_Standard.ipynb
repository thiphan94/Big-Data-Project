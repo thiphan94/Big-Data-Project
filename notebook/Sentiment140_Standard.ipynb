{
  "nbformat": 4,
  "nbformat_minor": 0,
  "metadata": {
    "colab": {
      "name": "Sentiment140_Standard.ipynb",
      "provenance": [],
      "collapsed_sections": []
    },
    "kernelspec": {
      "name": "python3",
      "display_name": "Python 3"
    },
    "language_info": {
      "name": "python"
    }
  },
  "cells": [
    {
      "cell_type": "markdown",
      "source": [
        "IMPORTING AND LOADING DATA"
      ],
      "metadata": {
        "id": "tCDRxGgsdy_l"
      }
    },
    {
      "cell_type": "code",
      "source": [
        "# utilities\n",
        "import re\n",
        "import numpy as np\n",
        "import pandas as pd\n",
        "import sqlite3 as sq3\n",
        "# plotting\n",
        "import seaborn as sns\n",
        "from wordcloud import WordCloud\n",
        "import matplotlib.pyplot as plt\n",
        "# nltk\n",
        "from nltk.stem import WordNetLemmatizer\n",
        "from nltk.corpus import stopwords\n",
        "!pip install -q wordcloud\n",
        "import wordcloud\n",
        "\n",
        "import nltk\n",
        "nltk.download('stopwords')\n",
        "nltk.download('wordnet')\n",
        "nltk.download('punkt')\n",
        "nltk.download('averaged_perceptron_tagger') \n",
        "from nltk.tokenize import word_tokenize\n",
        "# sklearn\n",
        "from sklearn.svm import LinearSVC\n",
        "from sklearn.naive_bayes import BernoulliNB\n",
        "from sklearn.linear_model import LogisticRegression\n",
        "from sklearn.model_selection import train_test_split\n",
        "from sklearn.feature_extraction.text import TfidfVectorizer\n",
        "from sklearn.metrics import confusion_matrix, classification_report\n",
        "from termcolor import colored"
      ],
      "metadata": {
        "id": "RgHKjyfawR5h",
        "colab": {
          "base_uri": "https://localhost:8080/"
        },
        "outputId": "9b65bbcb-6cd2-4774-fd6c-5a6a799b3a66"
      },
      "execution_count": 4,
      "outputs": [
        {
          "output_type": "stream",
          "name": "stdout",
          "text": [
            "[nltk_data] Downloading package stopwords to /root/nltk_data...\n",
            "[nltk_data]   Unzipping corpora/stopwords.zip.\n",
            "[nltk_data] Downloading package wordnet to /root/nltk_data...\n",
            "[nltk_data]   Unzipping corpora/wordnet.zip.\n",
            "[nltk_data] Downloading package punkt to /root/nltk_data...\n",
            "[nltk_data]   Unzipping tokenizers/punkt.zip.\n",
            "[nltk_data] Downloading package averaged_perceptron_tagger to\n",
            "[nltk_data]     /root/nltk_data...\n",
            "[nltk_data]   Unzipping taggers/averaged_perceptron_tagger.zip.\n"
          ]
        }
      ]
    },
    {
      "cell_type": "code",
      "source": [
        "path = '/content/drive/MyDrive/Colab Notebooks/Sentiment.db'\n",
        "con = sq3.Connection(path)\n",
        "query = \"\"\"\n",
        "SELECT *\n",
        "FROM sentiment140_2;\n",
        "\"\"\"\n",
        "dataset = pd.read_sql(query, con)\n",
        "dataset.columns = ['target','id','date','flag','user','text']\n",
        "dataset.head(20)"
      ],
      "metadata": {
        "id": "98r47IAeYAe8",
        "colab": {
          "base_uri": "https://localhost:8080/",
          "height": 676
        },
        "outputId": "a9b68981-d90b-43f1-f3fc-fc8e9fe6aa6b"
      },
      "execution_count": 5,
      "outputs": [
        {
          "output_type": "execute_result",
          "data": {
            "text/plain": [
              "    target          id                          date      flag  \\\n",
              "0        0  1467810369  Mon Apr 06 22:19:45 PDT 2009  NO_QUERY   \n",
              "1        0  1467810672  Mon Apr 06 22:19:49 PDT 2009  NO_QUERY   \n",
              "2        0  1467810917  Mon Apr 06 22:19:53 PDT 2009  NO_QUERY   \n",
              "3        0  1467811184  Mon Apr 06 22:19:57 PDT 2009  NO_QUERY   \n",
              "4        0  1467811193  Mon Apr 06 22:19:57 PDT 2009  NO_QUERY   \n",
              "5        0  1467811372  Mon Apr 06 22:20:00 PDT 2009  NO_QUERY   \n",
              "6        0  1467811592  Mon Apr 06 22:20:03 PDT 2009  NO_QUERY   \n",
              "7        0  1467811594  Mon Apr 06 22:20:03 PDT 2009  NO_QUERY   \n",
              "8        0  1467811795  Mon Apr 06 22:20:05 PDT 2009  NO_QUERY   \n",
              "9        0  1467812025  Mon Apr 06 22:20:09 PDT 2009  NO_QUERY   \n",
              "10       0  1467812416  Mon Apr 06 22:20:16 PDT 2009  NO_QUERY   \n",
              "11       0  1467812579  Mon Apr 06 22:20:17 PDT 2009  NO_QUERY   \n",
              "12       0  1467812723  Mon Apr 06 22:20:19 PDT 2009  NO_QUERY   \n",
              "13       0  1467812771  Mon Apr 06 22:20:19 PDT 2009  NO_QUERY   \n",
              "14       0  1467812784  Mon Apr 06 22:20:20 PDT 2009  NO_QUERY   \n",
              "15       0  1467812799  Mon Apr 06 22:20:20 PDT 2009  NO_QUERY   \n",
              "16       0  1467812964  Mon Apr 06 22:20:22 PDT 2009  NO_QUERY   \n",
              "17       0  1467813137  Mon Apr 06 22:20:25 PDT 2009  NO_QUERY   \n",
              "18       0  1467813579  Mon Apr 06 22:20:31 PDT 2009  NO_QUERY   \n",
              "19       0  1467813782  Mon Apr 06 22:20:34 PDT 2009  NO_QUERY   \n",
              "\n",
              "               user                                               text  \n",
              "0   _TheSpecialOne_  @switchfoot http://twitpic.com/2y1zl - Awww, t...  \n",
              "1     scotthamilton  is upset that he can't update his Facebook by ...  \n",
              "2          mattycus  @Kenichan I dived many times for the ball. Man...  \n",
              "3           ElleCTF     my whole body feels itchy and like its on fire  \n",
              "4            Karoli  @nationwideclass no, it's not behaving at all....  \n",
              "5          joy_wolf                       @Kwesidei not the whole crew  \n",
              "6           mybirch                                         Need a hug  \n",
              "7              coZZ  @LOLTrish hey  long time no see! Yes.. Rains a...  \n",
              "8   2Hood4Hollywood                @Tatiana_K nope they didn't have it  \n",
              "9           mimismo                           @twittera que me muera ?  \n",
              "10   erinx3leannexo         spring break in plain city... it's snowing  \n",
              "11     pardonlauren                          I just re-pierced my ears  \n",
              "12             TLeC  @caregiving I couldn't bear to watch it.  And ...  \n",
              "13  robrobbierobert  @octolinz16 It it counts, idk why I did either...  \n",
              "14      bayofwolves  @smarrison i would've been the first, but i di...  \n",
              "15       HairByJess  @iamjazzyfizzle I wish I got to watch it with ...  \n",
              "16   lovesongwriter  Hollis' death scene will hurt me severely to w...  \n",
              "17         armotley                                about to file taxes  \n",
              "18       starkissed  @LettyA ahh ive always wanted to see rent  lov...  \n",
              "19        gi_gi_bee  @FakerPattyPattz Oh dear. Were you drinking ou...  "
            ],
            "text/html": [
              "\n",
              "  <div id=\"df-783ccf75-6545-47b1-9f48-125490f34563\">\n",
              "    <div class=\"colab-df-container\">\n",
              "      <div>\n",
              "<style scoped>\n",
              "    .dataframe tbody tr th:only-of-type {\n",
              "        vertical-align: middle;\n",
              "    }\n",
              "\n",
              "    .dataframe tbody tr th {\n",
              "        vertical-align: top;\n",
              "    }\n",
              "\n",
              "    .dataframe thead th {\n",
              "        text-align: right;\n",
              "    }\n",
              "</style>\n",
              "<table border=\"1\" class=\"dataframe\">\n",
              "  <thead>\n",
              "    <tr style=\"text-align: right;\">\n",
              "      <th></th>\n",
              "      <th>target</th>\n",
              "      <th>id</th>\n",
              "      <th>date</th>\n",
              "      <th>flag</th>\n",
              "      <th>user</th>\n",
              "      <th>text</th>\n",
              "    </tr>\n",
              "  </thead>\n",
              "  <tbody>\n",
              "    <tr>\n",
              "      <th>0</th>\n",
              "      <td>0</td>\n",
              "      <td>1467810369</td>\n",
              "      <td>Mon Apr 06 22:19:45 PDT 2009</td>\n",
              "      <td>NO_QUERY</td>\n",
              "      <td>_TheSpecialOne_</td>\n",
              "      <td>@switchfoot http://twitpic.com/2y1zl - Awww, t...</td>\n",
              "    </tr>\n",
              "    <tr>\n",
              "      <th>1</th>\n",
              "      <td>0</td>\n",
              "      <td>1467810672</td>\n",
              "      <td>Mon Apr 06 22:19:49 PDT 2009</td>\n",
              "      <td>NO_QUERY</td>\n",
              "      <td>scotthamilton</td>\n",
              "      <td>is upset that he can't update his Facebook by ...</td>\n",
              "    </tr>\n",
              "    <tr>\n",
              "      <th>2</th>\n",
              "      <td>0</td>\n",
              "      <td>1467810917</td>\n",
              "      <td>Mon Apr 06 22:19:53 PDT 2009</td>\n",
              "      <td>NO_QUERY</td>\n",
              "      <td>mattycus</td>\n",
              "      <td>@Kenichan I dived many times for the ball. Man...</td>\n",
              "    </tr>\n",
              "    <tr>\n",
              "      <th>3</th>\n",
              "      <td>0</td>\n",
              "      <td>1467811184</td>\n",
              "      <td>Mon Apr 06 22:19:57 PDT 2009</td>\n",
              "      <td>NO_QUERY</td>\n",
              "      <td>ElleCTF</td>\n",
              "      <td>my whole body feels itchy and like its on fire</td>\n",
              "    </tr>\n",
              "    <tr>\n",
              "      <th>4</th>\n",
              "      <td>0</td>\n",
              "      <td>1467811193</td>\n",
              "      <td>Mon Apr 06 22:19:57 PDT 2009</td>\n",
              "      <td>NO_QUERY</td>\n",
              "      <td>Karoli</td>\n",
              "      <td>@nationwideclass no, it's not behaving at all....</td>\n",
              "    </tr>\n",
              "    <tr>\n",
              "      <th>5</th>\n",
              "      <td>0</td>\n",
              "      <td>1467811372</td>\n",
              "      <td>Mon Apr 06 22:20:00 PDT 2009</td>\n",
              "      <td>NO_QUERY</td>\n",
              "      <td>joy_wolf</td>\n",
              "      <td>@Kwesidei not the whole crew</td>\n",
              "    </tr>\n",
              "    <tr>\n",
              "      <th>6</th>\n",
              "      <td>0</td>\n",
              "      <td>1467811592</td>\n",
              "      <td>Mon Apr 06 22:20:03 PDT 2009</td>\n",
              "      <td>NO_QUERY</td>\n",
              "      <td>mybirch</td>\n",
              "      <td>Need a hug</td>\n",
              "    </tr>\n",
              "    <tr>\n",
              "      <th>7</th>\n",
              "      <td>0</td>\n",
              "      <td>1467811594</td>\n",
              "      <td>Mon Apr 06 22:20:03 PDT 2009</td>\n",
              "      <td>NO_QUERY</td>\n",
              "      <td>coZZ</td>\n",
              "      <td>@LOLTrish hey  long time no see! Yes.. Rains a...</td>\n",
              "    </tr>\n",
              "    <tr>\n",
              "      <th>8</th>\n",
              "      <td>0</td>\n",
              "      <td>1467811795</td>\n",
              "      <td>Mon Apr 06 22:20:05 PDT 2009</td>\n",
              "      <td>NO_QUERY</td>\n",
              "      <td>2Hood4Hollywood</td>\n",
              "      <td>@Tatiana_K nope they didn't have it</td>\n",
              "    </tr>\n",
              "    <tr>\n",
              "      <th>9</th>\n",
              "      <td>0</td>\n",
              "      <td>1467812025</td>\n",
              "      <td>Mon Apr 06 22:20:09 PDT 2009</td>\n",
              "      <td>NO_QUERY</td>\n",
              "      <td>mimismo</td>\n",
              "      <td>@twittera que me muera ?</td>\n",
              "    </tr>\n",
              "    <tr>\n",
              "      <th>10</th>\n",
              "      <td>0</td>\n",
              "      <td>1467812416</td>\n",
              "      <td>Mon Apr 06 22:20:16 PDT 2009</td>\n",
              "      <td>NO_QUERY</td>\n",
              "      <td>erinx3leannexo</td>\n",
              "      <td>spring break in plain city... it's snowing</td>\n",
              "    </tr>\n",
              "    <tr>\n",
              "      <th>11</th>\n",
              "      <td>0</td>\n",
              "      <td>1467812579</td>\n",
              "      <td>Mon Apr 06 22:20:17 PDT 2009</td>\n",
              "      <td>NO_QUERY</td>\n",
              "      <td>pardonlauren</td>\n",
              "      <td>I just re-pierced my ears</td>\n",
              "    </tr>\n",
              "    <tr>\n",
              "      <th>12</th>\n",
              "      <td>0</td>\n",
              "      <td>1467812723</td>\n",
              "      <td>Mon Apr 06 22:20:19 PDT 2009</td>\n",
              "      <td>NO_QUERY</td>\n",
              "      <td>TLeC</td>\n",
              "      <td>@caregiving I couldn't bear to watch it.  And ...</td>\n",
              "    </tr>\n",
              "    <tr>\n",
              "      <th>13</th>\n",
              "      <td>0</td>\n",
              "      <td>1467812771</td>\n",
              "      <td>Mon Apr 06 22:20:19 PDT 2009</td>\n",
              "      <td>NO_QUERY</td>\n",
              "      <td>robrobbierobert</td>\n",
              "      <td>@octolinz16 It it counts, idk why I did either...</td>\n",
              "    </tr>\n",
              "    <tr>\n",
              "      <th>14</th>\n",
              "      <td>0</td>\n",
              "      <td>1467812784</td>\n",
              "      <td>Mon Apr 06 22:20:20 PDT 2009</td>\n",
              "      <td>NO_QUERY</td>\n",
              "      <td>bayofwolves</td>\n",
              "      <td>@smarrison i would've been the first, but i di...</td>\n",
              "    </tr>\n",
              "    <tr>\n",
              "      <th>15</th>\n",
              "      <td>0</td>\n",
              "      <td>1467812799</td>\n",
              "      <td>Mon Apr 06 22:20:20 PDT 2009</td>\n",
              "      <td>NO_QUERY</td>\n",
              "      <td>HairByJess</td>\n",
              "      <td>@iamjazzyfizzle I wish I got to watch it with ...</td>\n",
              "    </tr>\n",
              "    <tr>\n",
              "      <th>16</th>\n",
              "      <td>0</td>\n",
              "      <td>1467812964</td>\n",
              "      <td>Mon Apr 06 22:20:22 PDT 2009</td>\n",
              "      <td>NO_QUERY</td>\n",
              "      <td>lovesongwriter</td>\n",
              "      <td>Hollis' death scene will hurt me severely to w...</td>\n",
              "    </tr>\n",
              "    <tr>\n",
              "      <th>17</th>\n",
              "      <td>0</td>\n",
              "      <td>1467813137</td>\n",
              "      <td>Mon Apr 06 22:20:25 PDT 2009</td>\n",
              "      <td>NO_QUERY</td>\n",
              "      <td>armotley</td>\n",
              "      <td>about to file taxes</td>\n",
              "    </tr>\n",
              "    <tr>\n",
              "      <th>18</th>\n",
              "      <td>0</td>\n",
              "      <td>1467813579</td>\n",
              "      <td>Mon Apr 06 22:20:31 PDT 2009</td>\n",
              "      <td>NO_QUERY</td>\n",
              "      <td>starkissed</td>\n",
              "      <td>@LettyA ahh ive always wanted to see rent  lov...</td>\n",
              "    </tr>\n",
              "    <tr>\n",
              "      <th>19</th>\n",
              "      <td>0</td>\n",
              "      <td>1467813782</td>\n",
              "      <td>Mon Apr 06 22:20:34 PDT 2009</td>\n",
              "      <td>NO_QUERY</td>\n",
              "      <td>gi_gi_bee</td>\n",
              "      <td>@FakerPattyPattz Oh dear. Were you drinking ou...</td>\n",
              "    </tr>\n",
              "  </tbody>\n",
              "</table>\n",
              "</div>\n",
              "      <button class=\"colab-df-convert\" onclick=\"convertToInteractive('df-783ccf75-6545-47b1-9f48-125490f34563')\"\n",
              "              title=\"Convert this dataframe to an interactive table.\"\n",
              "              style=\"display:none;\">\n",
              "        \n",
              "  <svg xmlns=\"http://www.w3.org/2000/svg\" height=\"24px\"viewBox=\"0 0 24 24\"\n",
              "       width=\"24px\">\n",
              "    <path d=\"M0 0h24v24H0V0z\" fill=\"none\"/>\n",
              "    <path d=\"M18.56 5.44l.94 2.06.94-2.06 2.06-.94-2.06-.94-.94-2.06-.94 2.06-2.06.94zm-11 1L8.5 8.5l.94-2.06 2.06-.94-2.06-.94L8.5 2.5l-.94 2.06-2.06.94zm10 10l.94 2.06.94-2.06 2.06-.94-2.06-.94-.94-2.06-.94 2.06-2.06.94z\"/><path d=\"M17.41 7.96l-1.37-1.37c-.4-.4-.92-.59-1.43-.59-.52 0-1.04.2-1.43.59L10.3 9.45l-7.72 7.72c-.78.78-.78 2.05 0 2.83L4 21.41c.39.39.9.59 1.41.59.51 0 1.02-.2 1.41-.59l7.78-7.78 2.81-2.81c.8-.78.8-2.07 0-2.86zM5.41 20L4 18.59l7.72-7.72 1.47 1.35L5.41 20z\"/>\n",
              "  </svg>\n",
              "      </button>\n",
              "      \n",
              "  <style>\n",
              "    .colab-df-container {\n",
              "      display:flex;\n",
              "      flex-wrap:wrap;\n",
              "      gap: 12px;\n",
              "    }\n",
              "\n",
              "    .colab-df-convert {\n",
              "      background-color: #E8F0FE;\n",
              "      border: none;\n",
              "      border-radius: 50%;\n",
              "      cursor: pointer;\n",
              "      display: none;\n",
              "      fill: #1967D2;\n",
              "      height: 32px;\n",
              "      padding: 0 0 0 0;\n",
              "      width: 32px;\n",
              "    }\n",
              "\n",
              "    .colab-df-convert:hover {\n",
              "      background-color: #E2EBFA;\n",
              "      box-shadow: 0px 1px 2px rgba(60, 64, 67, 0.3), 0px 1px 3px 1px rgba(60, 64, 67, 0.15);\n",
              "      fill: #174EA6;\n",
              "    }\n",
              "\n",
              "    [theme=dark] .colab-df-convert {\n",
              "      background-color: #3B4455;\n",
              "      fill: #D2E3FC;\n",
              "    }\n",
              "\n",
              "    [theme=dark] .colab-df-convert:hover {\n",
              "      background-color: #434B5C;\n",
              "      box-shadow: 0px 1px 3px 1px rgba(0, 0, 0, 0.15);\n",
              "      filter: drop-shadow(0px 1px 2px rgba(0, 0, 0, 0.3));\n",
              "      fill: #FFFFFF;\n",
              "    }\n",
              "  </style>\n",
              "\n",
              "      <script>\n",
              "        const buttonEl =\n",
              "          document.querySelector('#df-783ccf75-6545-47b1-9f48-125490f34563 button.colab-df-convert');\n",
              "        buttonEl.style.display =\n",
              "          google.colab.kernel.accessAllowed ? 'block' : 'none';\n",
              "\n",
              "        async function convertToInteractive(key) {\n",
              "          const element = document.querySelector('#df-783ccf75-6545-47b1-9f48-125490f34563');\n",
              "          const dataTable =\n",
              "            await google.colab.kernel.invokeFunction('convertToInteractive',\n",
              "                                                     [key], {});\n",
              "          if (!dataTable) return;\n",
              "\n",
              "          const docLinkHtml = 'Like what you see? Visit the ' +\n",
              "            '<a target=\"_blank\" href=https://colab.research.google.com/notebooks/data_table.ipynb>data table notebook</a>'\n",
              "            + ' to learn more about interactive tables.';\n",
              "          element.innerHTML = '';\n",
              "          dataTable['output_type'] = 'display_data';\n",
              "          await google.colab.output.renderOutput(dataTable, element);\n",
              "          const docLink = document.createElement('div');\n",
              "          docLink.innerHTML = docLinkHtml;\n",
              "          element.appendChild(docLink);\n",
              "        }\n",
              "      </script>\n",
              "    </div>\n",
              "  </div>\n",
              "  "
            ]
          },
          "metadata": {},
          "execution_count": 5
        }
      ]
    },
    {
      "cell_type": "markdown",
      "source": [
        "EXPLORATORY DATA ANALYSIS"
      ],
      "metadata": {
        "id": "ehOO0vH7eALd"
      }
    },
    {
      "cell_type": "code",
      "source": [
        "dataset.info()"
      ],
      "metadata": {
        "colab": {
          "base_uri": "https://localhost:8080/"
        },
        "id": "b8sOwbFMJOc7",
        "outputId": "0683c0a7-430d-42bb-d7ea-5b54346cbf0a"
      },
      "execution_count": 6,
      "outputs": [
        {
          "output_type": "stream",
          "name": "stdout",
          "text": [
            "<class 'pandas.core.frame.DataFrame'>\n",
            "RangeIndex: 1600000 entries, 0 to 1599999\n",
            "Data columns (total 6 columns):\n",
            " #   Column  Non-Null Count    Dtype \n",
            "---  ------  --------------    ----- \n",
            " 0   target  1600000 non-null  int64 \n",
            " 1   id      1600000 non-null  int64 \n",
            " 2   date    1600000 non-null  object\n",
            " 3   flag    1600000 non-null  object\n",
            " 4   user    1600000 non-null  object\n",
            " 5   text    1600000 non-null  object\n",
            "dtypes: int64(2), object(4)\n",
            "memory usage: 73.2+ MB\n"
          ]
        }
      ]
    },
    {
      "cell_type": "code",
      "source": [
        "dataset['target'].replace((4, 0), (1, -1), inplace=True)\n",
        "dataset['target'].value_counts()"
      ],
      "metadata": {
        "id": "dj_ZGqsyJ9h4",
        "outputId": "d32978eb-b71b-49d5-dc61-8b362933a6c1",
        "colab": {
          "base_uri": "https://localhost:8080/"
        }
      },
      "execution_count": 7,
      "outputs": [
        {
          "output_type": "execute_result",
          "data": {
            "text/plain": [
              "-1    800000\n",
              " 1    800000\n",
              "Name: target, dtype: int64"
            ]
          },
          "metadata": {},
          "execution_count": 7
        }
      ]
    },
    {
      "cell_type": "code",
      "source": [
        "print('Two types of sentiments possible: ', dataset['target'].unique())\n",
        "sentiment_distribution = sns.countplot(x = \"target\", data = dataset)"
      ],
      "metadata": {
        "colab": {
          "base_uri": "https://localhost:8080/",
          "height": 297
        },
        "id": "IYBZ6uQkJSYR",
        "outputId": "869af4d0-0b55-4eca-a1fd-49233cc23bff"
      },
      "execution_count": 8,
      "outputs": [
        {
          "output_type": "stream",
          "name": "stdout",
          "text": [
            "Two types of sentiments possible:  [-1  1]\n"
          ]
        },
        {
          "output_type": "display_data",
          "data": {
            "text/plain": [
              "<Figure size 432x288 with 1 Axes>"
            ],
            "image/png": "[encoded data removed]"
          },
          "metadata": {
            "needs_background": "light"
          }
        }
      ]
    },
    {
      "cell_type": "markdown",
      "source": [
        "DATA PREPROCESSING"
      ],
      "metadata": {
        "id": "xMOVzvbBed3Z"
      }
    },
    {
      "cell_type": "code",
      "source": [
        "data_text = dataset['text']\n",
        "data_text.head()"
      ],
      "metadata": {
        "id": "nqaWgCwMbpul",
        "colab": {
          "base_uri": "https://localhost:8080/"
        },
        "outputId": "b432e792-3590-4108-a764-01327f5da843"
      },
      "execution_count": 9,
      "outputs": [
        {
          "output_type": "execute_result",
          "data": {
            "text/plain": [
              "0    @switchfoot http://twitpic.com/2y1zl - Awww, t...\n",
              "1    is upset that he can't update his Facebook by ...\n",
              "2    @Kenichan I dived many times for the ball. Man...\n",
              "3       my whole body feels itchy and like its on fire\n",
              "4    @nationwideclass no, it's not behaving at all....\n",
              "Name: text, dtype: object"
            ]
          },
          "metadata": {},
          "execution_count": 9
        }
      ]
    },
    {
      "cell_type": "code",
      "source": [
        "sns.distplot(dataset.text.str.len())\n",
        "plt.show()"
      ],
      "metadata": {
        "colab": {
          "base_uri": "https://localhost:8080/",
          "height": 334
        },
        "id": "yeGh4I78TO53",
        "outputId": "0dd86374-3798-4bbe-ae87-66a09cf90f43"
      },
      "execution_count": 10,
      "outputs": [
        {
          "output_type": "stream",
          "name": "stderr",
          "text": [
            "/usr/local/lib/python3.7/dist-packages/seaborn/distributions.py:2619: FutureWarning: `distplot` is a deprecated function and will be removed in a future version. Please adapt your code to use either `displot` (a figure-level function with similar flexibility) or `histplot` (an axes-level function for histograms).\n",
            "  warnings.warn(msg, FutureWarning)\n"
          ]
        },
        {
          "output_type": "display_data",
          "data": {
            "text/plain": [
              "<Figure size 432x288 with 1 Axes>"
            ],
            "image/png": "[encoded data removed]"
          },
          "metadata": {
            "needs_background": "light"
          }
        }
      ]
    },
    {
      "cell_type": "code",
      "source": [
        "dataset.text.str.len().describe()"
      ],
      "metadata": {
        "colab": {
          "base_uri": "https://localhost:8080/"
        },
        "id": "RGjBHEbAUbDk",
        "outputId": "07184006-bb6f-4f8c-d573-84b49bb2cee0"
      },
      "execution_count": 11,
      "outputs": [
        {
          "output_type": "execute_result",
          "data": {
            "text/plain": [
              "count    1.600000e+06\n",
              "mean     7.326071e+01\n",
              "std      3.649706e+01\n",
              "min      3.000000e+00\n",
              "25%      4.300000e+01\n",
              "50%      6.800000e+01\n",
              "75%      1.030000e+02\n",
              "max      3.590000e+02\n",
              "Name: text, dtype: float64"
            ]
          },
          "metadata": {},
          "execution_count": 11
        }
      ]
    },
    {
      "cell_type": "code",
      "source": [
        "STOPWORDS=stopwords.words('english')\n",
        "STOPWORDS[:5]"
      ],
      "metadata": {
        "id": "VFXFVnLcyHf8",
        "colab": {
          "base_uri": "https://localhost:8080/"
        },
        "outputId": "a225e121-9353-4911-cf51-0f8fdf43ce0a"
      },
      "execution_count": 12,
      "outputs": [
        {
          "output_type": "execute_result",
          "data": {
            "text/plain": [
              "['i', 'me', 'my', 'myself', 'we']"
            ]
          },
          "metadata": {},
          "execution_count": 12
        }
      ]
    },
    {
      "cell_type": "code",
      "source": [
        "def cleaning_stopwords(text):\n",
        "    return \" \".join([word for word in str(text).split() if word not in STOPWORDS])\n",
        "data_text = data_text.apply(lambda text: cleaning_stopwords(text))\n",
        "data_text.head()"
      ],
      "metadata": {
        "id": "5DisSAWsyCDG",
        "colab": {
          "base_uri": "https://localhost:8080/"
        },
        "outputId": "1503847a-7cd9-429f-c8b2-dfb227c855c1"
      },
      "execution_count": 13,
      "outputs": [
        {
          "output_type": "execute_result",
          "data": {
            "text/plain": [
              "0    @switchfoot http://twitpic.com/2y1zl - Awww, t...\n",
              "1    upset can't update Facebook texting it... migh...\n",
              "2    @Kenichan I dived many times ball. Managed sav...\n",
              "3                     whole body feels itchy like fire\n",
              "4    @nationwideclass no, behaving all. i'm mad. he...\n",
              "Name: text, dtype: object"
            ]
          },
          "metadata": {},
          "execution_count": 13
        }
      ]
    },
    {
      "cell_type": "code",
      "source": [
        "import string\n",
        "english_punctuations = string.punctuation\n",
        "punctuations_list = english_punctuations\n",
        "def cleaning_punctuations(text):\n",
        "    translator = str.maketrans('', '', punctuations_list)\n",
        "    return text.translate(translator)\n",
        "data_text = data_text.apply(lambda x: cleaning_punctuations(x))\n",
        "data_text.sample(5)"
      ],
      "metadata": {
        "id": "If_MYI8Jyard",
        "colab": {
          "base_uri": "https://localhost:8080/"
        },
        "outputId": "8c73f97f-ea23-47d2-9379-ada17414ee46"
      },
      "execution_count": 14,
      "outputs": [
        {
          "output_type": "execute_result",
          "data": {
            "text/plain": [
              "1377407    kirstiealley ENJOY YOUR CAPRICIOUS CAPTIVATING...\n",
              "422378     I tummy ache Watching suuuper old episodes Ros...\n",
              "136370      cut bangs short gonna pull slight side bang look\n",
              "1407967                                       kevinh545 love\n",
              "930592               bradhedrick stop watching contact sport\n",
              "Name: text, dtype: object"
            ]
          },
          "metadata": {},
          "execution_count": 14
        }
      ]
    },
    {
      "cell_type": "code",
      "source": [
        "def cleaning_repeating_char(text):\n",
        "    return re.sub(r'(.)1+', r'1', text)\n",
        "data_text = data_text.apply(lambda x: cleaning_repeating_char(x))\n",
        "data_text.head()"
      ],
      "metadata": {
        "id": "g7Ez0WuGycC8",
        "colab": {
          "base_uri": "https://localhost:8080/"
        },
        "outputId": "efde1232-5f2a-4ea7-caf7-0479ccf43e68"
      },
      "execution_count": 15,
      "outputs": [
        {
          "output_type": "execute_result",
          "data": {
            "text/plain": [
              "0    switchfoot httptwitpiccom21zl  Awww thats bumm...\n",
              "1    upset cant update Facebook texting it might cr...\n",
              "2    Kenichan I dived many times ball Managed save ...\n",
              "3                     whole body feels itchy like fire\n",
              "4    nationwideclass no behaving all im mad here I ...\n",
              "Name: text, dtype: object"
            ]
          },
          "metadata": {},
          "execution_count": 15
        }
      ]
    },
    {
      "cell_type": "code",
      "source": [
        "def cleaning_URLs(data):\n",
        "    return re.sub('((www.[^s]+)|(https?://[^s]+))',' ',data)\n",
        "data_text = data_text.apply(lambda x: cleaning_URLs(x))\n",
        "data_text.head()"
      ],
      "metadata": {
        "id": "pprmKW41yeXb",
        "colab": {
          "base_uri": "https://localhost:8080/"
        },
        "outputId": "4f773f41-c09d-43f6-e553-5d74aff11a5c"
      },
      "execution_count": 16,
      "outputs": [
        {
          "output_type": "execute_result",
          "data": {
            "text/plain": [
              "0    switchfoot httptwitpiccom21zl  A s bummer You ...\n",
              "1    upset cant update Facebook texting it might cr...\n",
              "2    Kenichan I dived many times ball Managed save ...\n",
              "3                     whole body feels itchy like fire\n",
              "4    nationwideclass no behaving all im mad here I ...\n",
              "Name: text, dtype: object"
            ]
          },
          "metadata": {},
          "execution_count": 16
        }
      ]
    },
    {
      "cell_type": "code",
      "source": [
        "def cleaning_numbers(data):\n",
        "    return re.sub('[0-9]+', '', data)\n",
        "data_text = data_text.apply(lambda x: cleaning_numbers(x))\n",
        "data_text.head()"
      ],
      "metadata": {
        "id": "2TUIClaSyhME",
        "colab": {
          "base_uri": "https://localhost:8080/"
        },
        "outputId": "f27530dc-e190-4f9d-910e-84b663f9e0a2"
      },
      "execution_count": 17,
      "outputs": [
        {
          "output_type": "execute_result",
          "data": {
            "text/plain": [
              "0    switchfoot httptwitpiccomzl  A s bummer You sh...\n",
              "1    upset cant update Facebook texting it might cr...\n",
              "2    Kenichan I dived many times ball Managed save ...\n",
              "3                     whole body feels itchy like fire\n",
              "4    nationwideclass no behaving all im mad here I ...\n",
              "Name: text, dtype: object"
            ]
          },
          "metadata": {},
          "execution_count": 17
        }
      ]
    },
    {
      "cell_type": "code",
      "source": [
        "st = nltk.PorterStemmer()\n",
        "def stemming_on_text(data):\n",
        "    text = [st.stem(word) for word in data]\n",
        "    return data\n",
        "data_text = data_text.apply(lambda x: stemming_on_text(x))\n",
        "data_text.head()"
      ],
      "metadata": {
        "id": "Z-fn9-ZxyjgW",
        "colab": {
          "base_uri": "https://localhost:8080/"
        },
        "outputId": "11e5cc1f-f94e-49d7-96a8-9f3d1316ff76"
      },
      "execution_count": 18,
      "outputs": [
        {
          "output_type": "execute_result",
          "data": {
            "text/plain": [
              "0    switchfoot httptwitpiccomzl  A s bummer You sh...\n",
              "1    upset cant update Facebook texting it might cr...\n",
              "2    Kenichan I dived many times ball Managed save ...\n",
              "3                     whole body feels itchy like fire\n",
              "4    nationwideclass no behaving all im mad here I ...\n",
              "Name: text, dtype: object"
            ]
          },
          "metadata": {},
          "execution_count": 18
        }
      ]
    },
    {
      "cell_type": "code",
      "source": [
        "lm = nltk.WordNetLemmatizer()\n",
        "def lemmatizer_on_text(data):\n",
        "    text = [lm.lemmatize(word) for word in data]\n",
        "    return data\n",
        "data_text = data_text.apply(lambda x: lemmatizer_on_text(x))\n",
        "data_text.head()"
      ],
      "metadata": {
        "id": "SjvfdRes0TOk",
        "colab": {
          "base_uri": "https://localhost:8080/"
        },
        "outputId": "6c2864be-2a79-4439-cfc4-bff5def0c758"
      },
      "execution_count": 19,
      "outputs": [
        {
          "output_type": "execute_result",
          "data": {
            "text/plain": [
              "0    switchfoot httptwitpiccomzl  A s bummer You sh...\n",
              "1    upset cant update Facebook texting it might cr...\n",
              "2    Kenichan I dived many times ball Managed save ...\n",
              "3                     whole body feels itchy like fire\n",
              "4    nationwideclass no behaving all im mad here I ...\n",
              "Name: text, dtype: object"
            ]
          },
          "metadata": {},
          "execution_count": 19
        }
      ]
    },
    {
      "cell_type": "code",
      "source": [
        "#def tokenize(d):\n",
        "    #return word_tokenize(d)\n",
        "\n",
        "#dataset['final_text'] = data_text.apply(tokenize)\n",
        "#dataset.final_text.head()"
      ],
      "metadata": {
        "id": "CAYm3WTGWxgx"
      },
      "execution_count": 20,
      "outputs": []
    },
    {
      "cell_type": "code",
      "source": [
        "#for i in range(len(dataset)):\n",
        "    #dataset['final_text'][i] = \" \".join(dataset['final_text'][i])\n",
        "\n",
        "#dataset['final_text'][:3]"
      ],
      "metadata": {
        "id": "w6s7-pF6W45v"
      },
      "execution_count": 21,
      "outputs": []
    },
    {
      "cell_type": "code",
      "source": [
        "dataset['final_text'] = data_text"
      ],
      "metadata": {
        "id": "bzVwQUBl5xEU"
      },
      "execution_count": 22,
      "outputs": []
    },
    {
      "cell_type": "code",
      "source": [
        "X_train = dataset.final_text\n",
        "X_train.head()"
      ],
      "metadata": {
        "id": "cCWE5-w9W9HJ",
        "colab": {
          "base_uri": "https://localhost:8080/"
        },
        "outputId": "af080c63-63db-4f39-dc11-6da8ef469ceb"
      },
      "execution_count": 23,
      "outputs": [
        {
          "output_type": "execute_result",
          "data": {
            "text/plain": [
              "0    switchfoot httptwitpiccomzl  A s bummer You sh...\n",
              "1    upset cant update Facebook texting it might cr...\n",
              "2    Kenichan I dived many times ball Managed save ...\n",
              "3                     whole body feels itchy like fire\n",
              "4    nationwideclass no behaving all im mad here I ...\n",
              "Name: final_text, dtype: object"
            ]
          },
          "metadata": {},
          "execution_count": 23
        }
      ]
    },
    {
      "cell_type": "markdown",
      "source": [
        "MACHINE LEARNING"
      ],
      "metadata": {
        "id": "v3OnLyS5eroV"
      }
    },
    {
      "cell_type": "code",
      "source": [
        "#ratio 80:20 for trainingset and testingset\n",
        "train_X, test_X, y_train, y_test = train_test_split(X_train, dataset['target'], test_size=0.2, \n",
        "                                                    random_state=42, shuffle=True)\n",
        "\n",
        "print(f'Number of training examples: {len(train_X)}')\n",
        "print(f'Number of testing examples: {len(test_X)}')"
      ],
      "metadata": {
        "colab": {
          "base_uri": "https://localhost:8080/"
        },
        "id": "p5zOl75S5pgy",
        "outputId": "695e08f7-d107-4c7a-ee49-4283b952dc86"
      },
      "execution_count": 24,
      "outputs": [
        {
          "output_type": "stream",
          "name": "stdout",
          "text": [
            "Number of training examples: 1280000\n",
            "Number of testing examples: 320000\n"
          ]
        }
      ]
    },
    {
      "cell_type": "code",
      "source": [
        "vectoriser = TfidfVectorizer(ngram_range=(1,2), max_features=500000)\n",
        "\n",
        "print(f'Vectoriser fitted.')\n"
      ],
      "metadata": {
        "colab": {
          "base_uri": "https://localhost:8080/"
        },
        "id": "hR4cNg885xYz",
        "outputId": "2cc68bed-1dc5-4fb5-a059-b791f2d33688"
      },
      "execution_count": 25,
      "outputs": [
        {
          "output_type": "stream",
          "name": "stdout",
          "text": [
            "Vectoriser fitted.\n"
          ]
        }
      ]
    },
    {
      "cell_type": "code",
      "source": [
        "from sklearn.feature_extraction.text import CountVectorizer\n",
        "c = CountVectorizer(analyzer = 'word', tokenizer = word_tokenize, lowercase = True)\n",
        "#X_c = c.fit_transform(X)"
      ],
      "metadata": {
        "id": "CQ12M-o-51B1"
      },
      "execution_count": 26,
      "outputs": []
    },
    {
      "cell_type": "code",
      "source": [
        "X_train = c.fit_transform(train_X)\n",
        "X_test  = c.transform(test_X)\n",
        "print(f'Data Transformed.')"
      ],
      "metadata": {
        "colab": {
          "base_uri": "https://localhost:8080/"
        },
        "id": "kZeh4zjL57Ir",
        "outputId": "da0fb3c5-1c2d-4e1f-a8ab-edfbb5e7dffe"
      },
      "execution_count": 27,
      "outputs": [
        {
          "output_type": "stream",
          "name": "stdout",
          "text": [
            "Data Transformed.\n"
          ]
        }
      ]
    },
    {
      "cell_type": "code",
      "source": [
        "from sklearn.linear_model import LogisticRegression\n",
        "from sklearn.neighbors import KNeighborsClassifier\n",
        "from sklearn.svm import SVC, LinearSVC, NuSVC\n",
        "from sklearn.tree import DecisionTreeClassifier\n",
        "from sklearn.ensemble import RandomForestClassifier, AdaBoostClassifier, GradientBoostingClassifier\n",
        "from sklearn.naive_bayes import GaussianNB\n",
        "from sklearn.discriminant_analysis import LinearDiscriminantAnalysis\n",
        "from sklearn.discriminant_analysis import QuadraticDiscriminantAnalysis\n",
        "from sklearn.metrics import accuracy_score\n",
        "from sklearn.naive_bayes import MultinomialNB\n",
        "from sklearn.naive_bayes import (\n",
        "    BernoulliNB,\n",
        "    ComplementNB,\n",
        "    MultinomialNB,\n",
        ")\n",
        "from sklearn.neighbors import KNeighborsClassifier\n",
        "from sklearn.tree import DecisionTreeClassifier\n",
        "from sklearn.ensemble import RandomForestClassifier, AdaBoostClassifier\n",
        "from sklearn.linear_model import LogisticRegression\n",
        "from sklearn.neural_network import MLPClassifier\n",
        "from sklearn.discriminant_analysis import QuadraticDiscriminantAnalysis\n",
        "from xgboost import XGBClassifier\n",
        "from sklearn.ensemble import GradientBoostingClassifier"
      ],
      "metadata": {
        "id": "mdOlUPINvmsm"
      },
      "execution_count": 28,
      "outputs": []
    },
    {
      "cell_type": "code",
      "source": [
        "model_params = {'random_state':50}\n",
        "LR =  LogisticRegression(**model_params,solver='liblinear')\n",
        "KN = KNeighborsClassifier(3)\n",
        "SVC = SVC(**model_params)\n",
        "Tree = DecisionTreeClassifier(**model_params)\n",
        "Forest = RandomForestClassifier(**model_params)\n",
        "Ada = AdaBoostClassifier(**model_params)\n",
        "Gau = GaussianNB()\n",
        "BNB = BernoulliNB(alpha=2)\n",
        "MNB = MultinomialNB()\n",
        "CNB = ComplementNB()\n",
        "MLP = MLPClassifier(**model_params)"
      ],
      "metadata": {
        "id": "WsfLEGzS5_Mg"
      },
      "execution_count": 29,
      "outputs": []
    },
    {
      "cell_type": "code",
      "source": [
        "a = BNB.fit(X_train, y_train)\n",
        "b = LR.fit(X_train, y_train)\n",
        "#c = KN.fit(X_train, y_train)\n",
        "#d = SVC.fit(X_train, y_train)\n",
        "#e = Tree.fit(X_train, y_train)\n",
        "#f = Forest.fit(X_train, y_train)\n",
        "#g = Ada.fit(X_train, y_train)\n",
        "j = MNB.fit(X_train, y_train)\n",
        "h = CNB.fit(X_train, y_train)\n",
        "#i = MLP.fit(X_train, y_train)"
      ],
      "metadata": {
        "id": "QsYQfMVp6AmC"
      },
      "execution_count": 30,
      "outputs": []
    },
    {
      "cell_type": "code",
      "source": [
        "print(\"Train Accuracy using BernoulliNB: \", BNB.score(X_train, y_train))\n",
        "pred_BNB = a.predict(X_test)\n",
        "accuracy = accuracy_score(y_test, pred_BNB)\n",
        "print(\"Test Accuracy using BernoulliNB: \", accuracy)\n",
        "\n",
        "print(\"Train Accuracy using Logistic Regression: \", LR.score(X_train, y_train))\n",
        "pred_LR = b.predict(X_test)\n",
        "accuracy = accuracy_score(pred_LR, y_test)\n",
        "print(\"Test Accuracy using Logistic Regression: \", accuracy)\n",
        "\n",
        "#print(KN.score(X_train, y_train))\n",
        "#pred = c.predict(X_test)\n",
        "#accuracy = accuracy_score(pred, y_test)\n",
        "#print(\"Accuracy using KNeighbors: \", accuracy)\n",
        "\n",
        "#print(SVC.score(X_train, y_train))\n",
        "#pred = d.predict(X_test)\n",
        "#accuracy = accuracy_score(pred, y_test)\n",
        "#print(\"Accuracy using Support Vector Classifier: \", accuracy)\n",
        "\n",
        "#print(Tree.score(X_train, y_train))\n",
        "#pred = e.predict(X_test)\n",
        "#accuracy = accuracy_score(pred, y_test)\n",
        "#print(\"Accuracy using Decision Tree: \", accuracy)\n",
        "\n",
        "#print(Forest.score(X_train, y_train))\n",
        "#pred = f.predict(X_test)\n",
        "#accuracy = accuracy_score(pred, y_test)\n",
        "#print(\"Accuracy using Random Forest: \", accuracy)\n",
        "\n",
        "#print(Ada.score(X_train, y_train))\n",
        "#pred = g.predict(X_test)\n",
        "#accuracy = accuracy_score(pred, y_test)\n",
        "#print(\"Accuracy using AdaBoost: \", accuracy)\n",
        "\n",
        "print(\"Train Accuracy using MultimonialNB: \", MNB.score(X_train, y_train))\n",
        "pred_MNB = j.predict(X_test)\n",
        "accuracy = accuracy_score(pred_MNB, y_test)\n",
        "print(\"Test Accuracy using MultinomialNB: \", accuracy)\n",
        "\n",
        "print(\"Train Accuracy using ComplementNB: \", CNB.score(X_train, y_train))\n",
        "pred_CNB = h.predict(X_test)\n",
        "accuracy = accuracy_score(pred_CNB, y_test)\n",
        "print(\"Test Accuracy using ComplementNB: \", accuracy)\n",
        "\n",
        "#print(MLP.score(X_train, y_train))\n",
        "#pred = i.predict(X_test)\n",
        "#accuracy = accuracy_score(pred, y_test)\n",
        "#print(\"Accuracy using MLP Classifier: \", accuracy)\n",
        "\n",
        "#print(xgb.score(X_train, y_train))\n",
        "#pred = l.predict(X_test)\n",
        "#accuracy = accuracy_score(pred, y_test)\n",
        "#print(\"Accuracy using XGBClassifier: \", accuracy)"
      ],
      "metadata": {
        "id": "j0RINM_N6IDt",
        "colab": {
          "base_uri": "https://localhost:8080/"
        },
        "outputId": "2f4fc3c7-e3a1-4fb1-ff39-73a26a513ade"
      },
      "execution_count": 38,
      "outputs": [
        {
          "output_type": "stream",
          "name": "stdout",
          "text": [
            "Train Accuracy using BernoulliNB:  0.82439765625\n",
            "Test Accuracy using BernoulliNB:  0.776165625\n",
            "Train Accuracy using Logistic Regression:  0.853540625\n",
            "Test Accuracy using Logistic Regression:  0.784453125\n",
            "Train Accuracy using MultimonialNB:  0.83874609375\n",
            "Test Accuracy using MultinomialNB:  0.773340625\n",
            "Train Accuracy using ComplementNB:  0.838746875\n",
            "Test Accuracy using ComplementNB:  0.77338125\n"
          ]
        }
      ]
    },
    {
      "cell_type": "code",
      "source": [
        "cr = classification_report(y_test, pred_LR)\n",
        "\n",
        "print(\"Classification Report:\\n----------------------\\n\", cr)\n",
        "\n",
        "cm = confusion_matrix(y_test,pred_LR)\n",
        "\n",
        "\n",
        "# plot confusion matrix \n",
        "plt.figure(figsize=(8,6))\n",
        "sentiment_classes = ['Negative', 'Positive']\n",
        "sns.heatmap(cm, cmap=plt.cm.Blues, annot=True, fmt='d', \n",
        "            xticklabels=sentiment_classes,\n",
        "            yticklabels=sentiment_classes)\n",
        "plt.title('Confusion matrix', fontsize=16)\n",
        "plt.xlabel('Actual label', fontsize=12)\n",
        "plt.ylabel('Predicted label', fontsize=12)\n",
        "plt.show()\n",
        "\n"
      ],
      "metadata": {
        "colab": {
          "base_uri": "https://localhost:8080/",
          "height": 604
        },
        "id": "2oyS-7fvPQAi",
        "outputId": "69243303-8415-4691-e4bd-504970097fde"
      },
      "execution_count": 32,
      "outputs": [
        {
          "output_type": "stream",
          "name": "stdout",
          "text": [
            "Classification Report:\n",
            "----------------------\n",
            "               precision    recall  f1-score   support\n",
            "\n",
            "          -1       0.79      0.77      0.78    159494\n",
            "           1       0.78      0.80      0.79    160506\n",
            "\n",
            "    accuracy                           0.78    320000\n",
            "   macro avg       0.78      0.78      0.78    320000\n",
            "weighted avg       0.78      0.78      0.78    320000\n",
            "\n"
          ]
        },
        {
          "output_type": "display_data",
          "data": {
            "text/plain": [
              "<Figure size 576x432 with 2 Axes>"
            ],
            "image/png": "[encoded data removed]"
          },
          "metadata": {
            "needs_background": "light"
          }
        }
      ]
    },
    {
      "cell_type": "markdown",
      "source": [
        "LEXICON VADER"
      ],
      "metadata": {
        "id": "r8LCQeETe-D3"
      }
    },
    {
      "cell_type": "code",
      "source": [
        "import nltk\n",
        "nltk.download('vader_lexicon')\n",
        "from nltk.sentiment.vader import SentimentIntensityAnalyzer"
      ],
      "metadata": {
        "colab": {
          "base_uri": "https://localhost:8080/"
        },
        "id": "h716jRd_2XR1",
        "outputId": "2e287850-9e82-4844-aba7-07e5517ac6b2"
      },
      "execution_count": 33,
      "outputs": [
        {
          "output_type": "stream",
          "name": "stdout",
          "text": [
            "[nltk_data] Downloading package vader_lexicon to /root/nltk_data...\n"
          ]
        },
        {
          "output_type": "stream",
          "name": "stderr",
          "text": [
            "/usr/local/lib/python3.7/dist-packages/nltk/twitter/__init__.py:20: UserWarning: The twython library has not been installed. Some functionality from the twitter package will not be available.\n",
            "  warnings.warn(\"The twython library has not been installed. \"\n"
          ]
        }
      ]
    },
    {
      "cell_type": "code",
      "source": [
        "analyzer = SentimentIntensityAnalyzer()\n",
        "scores = [analyzer.polarity_scores(tweet)['compound'] for tweet in dataset['text'].values.tolist()]\n",
        "#len(scores) = len(dataset)\n",
        "dataset['sentiment'] = scores"
      ],
      "metadata": {
        "id": "wCpA68rJ2Z7v"
      },
      "execution_count": 34,
      "outputs": []
    },
    {
      "cell_type": "code",
      "source": [
        "dataset.loc[dataset['sentiment'] == 0, 'final_sentiment'] = 0\n",
        "dataset.loc[dataset['sentiment'] > 0, 'final_sentiment'] = 1\n",
        "dataset.loc[dataset['sentiment'] < 0, 'final_sentiment'] = -1\n",
        "dataset.head(50)"
      ],
      "metadata": {
        "colab": {
          "base_uri": "https://localhost:8080/",
          "height": 1000
        },
        "id": "oFXrBoKX2bpY",
        "outputId": "1918c176-50c9-4e67-e891-deed0cecfca8"
      },
      "execution_count": 41,
      "outputs": [
        {
          "output_type": "execute_result",
          "data": {
            "text/plain": [
              "    target          id                          date      flag  \\\n",
              "0       -1  1467810369  Mon Apr 06 22:19:45 PDT 2009  NO_QUERY   \n",
              "1       -1  1467810672  Mon Apr 06 22:19:49 PDT 2009  NO_QUERY   \n",
              "2       -1  1467810917  Mon Apr 06 22:19:53 PDT 2009  NO_QUERY   \n",
              "3       -1  1467811184  Mon Apr 06 22:19:57 PDT 2009  NO_QUERY   \n",
              "4       -1  1467811193  Mon Apr 06 22:19:57 PDT 2009  NO_QUERY   \n",
              "5       -1  1467811372  Mon Apr 06 22:20:00 PDT 2009  NO_QUERY   \n",
              "6       -1  1467811592  Mon Apr 06 22:20:03 PDT 2009  NO_QUERY   \n",
              "7       -1  1467811594  Mon Apr 06 22:20:03 PDT 2009  NO_QUERY   \n",
              "8       -1  1467811795  Mon Apr 06 22:20:05 PDT 2009  NO_QUERY   \n",
              "9       -1  1467812025  Mon Apr 06 22:20:09 PDT 2009  NO_QUERY   \n",
              "10      -1  1467812416  Mon Apr 06 22:20:16 PDT 2009  NO_QUERY   \n",
              "11      -1  1467812579  Mon Apr 06 22:20:17 PDT 2009  NO_QUERY   \n",
              "12      -1  1467812723  Mon Apr 06 22:20:19 PDT 2009  NO_QUERY   \n",
              "13      -1  1467812771  Mon Apr 06 22:20:19 PDT 2009  NO_QUERY   \n",
              "14      -1  1467812784  Mon Apr 06 22:20:20 PDT 2009  NO_QUERY   \n",
              "15      -1  1467812799  Mon Apr 06 22:20:20 PDT 2009  NO_QUERY   \n",
              "16      -1  1467812964  Mon Apr 06 22:20:22 PDT 2009  NO_QUERY   \n",
              "17      -1  1467813137  Mon Apr 06 22:20:25 PDT 2009  NO_QUERY   \n",
              "18      -1  1467813579  Mon Apr 06 22:20:31 PDT 2009  NO_QUERY   \n",
              "19      -1  1467813782  Mon Apr 06 22:20:34 PDT 2009  NO_QUERY   \n",
              "20      -1  1467813985  Mon Apr 06 22:20:37 PDT 2009  NO_QUERY   \n",
              "21      -1  1467813992  Mon Apr 06 22:20:38 PDT 2009  NO_QUERY   \n",
              "22      -1  1467814119  Mon Apr 06 22:20:40 PDT 2009  NO_QUERY   \n",
              "23      -1  1467814180  Mon Apr 06 22:20:40 PDT 2009  NO_QUERY   \n",
              "24      -1  1467814192  Mon Apr 06 22:20:41 PDT 2009  NO_QUERY   \n",
              "25      -1  1467814438  Mon Apr 06 22:20:44 PDT 2009  NO_QUERY   \n",
              "26      -1  1467814783  Mon Apr 06 22:20:50 PDT 2009  NO_QUERY   \n",
              "27      -1  1467814883  Mon Apr 06 22:20:52 PDT 2009  NO_QUERY   \n",
              "28      -1  1467815199  Mon Apr 06 22:20:56 PDT 2009  NO_QUERY   \n",
              "29      -1  1467815753  Mon Apr 06 22:21:04 PDT 2009  NO_QUERY   \n",
              "30      -1  1467815923  Mon Apr 06 22:21:07 PDT 2009  NO_QUERY   \n",
              "31      -1  1467815924  Mon Apr 06 22:21:07 PDT 2009  NO_QUERY   \n",
              "32      -1  1467815988  Mon Apr 06 22:21:09 PDT 2009  NO_QUERY   \n",
              "33      -1  1467816149  Mon Apr 06 22:21:11 PDT 2009  NO_QUERY   \n",
              "34      -1  1467816665  Mon Apr 06 22:21:21 PDT 2009  NO_QUERY   \n",
              "35      -1  1467816749  Mon Apr 06 22:21:20 PDT 2009  NO_QUERY   \n",
              "36      -1  1467817225  Mon Apr 06 22:21:27 PDT 2009  NO_QUERY   \n",
              "37      -1  1467817374  Mon Apr 06 22:21:30 PDT 2009  NO_QUERY   \n",
              "38      -1  1467817502  Mon Apr 06 22:21:32 PDT 2009  NO_QUERY   \n",
              "39      -1  1467818007  Mon Apr 06 22:21:39 PDT 2009  NO_QUERY   \n",
              "40      -1  1467818020  Mon Apr 06 22:21:39 PDT 2009  NO_QUERY   \n",
              "41      -1  1467818481  Mon Apr 06 22:21:46 PDT 2009  NO_QUERY   \n",
              "42      -1  1467818603  Mon Apr 06 22:21:49 PDT 2009  NO_QUERY   \n",
              "43      -1  1467818900  Mon Apr 06 22:21:53 PDT 2009  NO_QUERY   \n",
              "44      -1  1467819022  Mon Apr 06 22:21:56 PDT 2009  NO_QUERY   \n",
              "45      -1  1467819650  Mon Apr 06 22:22:05 PDT 2009  NO_QUERY   \n",
              "46      -1  1467819712  Mon Apr 06 22:22:06 PDT 2009  NO_QUERY   \n",
              "47      -1  1467819812  Mon Apr 06 22:22:07 PDT 2009  NO_QUERY   \n",
              "48      -1  1467820206  Mon Apr 06 22:22:13 PDT 2009  NO_QUERY   \n",
              "49      -1  1467820835  Mon Apr 06 22:22:25 PDT 2009  NO_QUERY   \n",
              "\n",
              "               user                                               text  \\\n",
              "0   _TheSpecialOne_  @switchfoot http://twitpic.com/2y1zl - Awww, t...   \n",
              "1     scotthamilton  is upset that he can't update his Facebook by ...   \n",
              "2          mattycus  @Kenichan I dived many times for the ball. Man...   \n",
              "3           ElleCTF     my whole body feels itchy and like its on fire   \n",
              "4            Karoli  @nationwideclass no, it's not behaving at all....   \n",
              "5          joy_wolf                       @Kwesidei not the whole crew   \n",
              "6           mybirch                                         Need a hug   \n",
              "7              coZZ  @LOLTrish hey  long time no see! Yes.. Rains a...   \n",
              "8   2Hood4Hollywood                @Tatiana_K nope they didn't have it   \n",
              "9           mimismo                           @twittera que me muera ?   \n",
              "10   erinx3leannexo         spring break in plain city... it's snowing   \n",
              "11     pardonlauren                          I just re-pierced my ears   \n",
              "12             TLeC  @caregiving I couldn't bear to watch it.  And ...   \n",
              "13  robrobbierobert  @octolinz16 It it counts, idk why I did either...   \n",
              "14      bayofwolves  @smarrison i would've been the first, but i di...   \n",
              "15       HairByJess  @iamjazzyfizzle I wish I got to watch it with ...   \n",
              "16   lovesongwriter  Hollis' death scene will hurt me severely to w...   \n",
              "17         armotley                                about to file taxes   \n",
              "18       starkissed  @LettyA ahh ive always wanted to see rent  lov...   \n",
              "19        gi_gi_bee  @FakerPattyPattz Oh dear. Were you drinking ou...   \n",
              "20           quanvu  @alydesigns i was out most of the day so didn'...   \n",
              "21       swinspeedx  one of my friend called me, and asked to meet ...   \n",
              "22        cooliodoc    @angry_barista I baked you a cake but I ated it   \n",
              "23       viJILLante              this week is not going as i had hoped   \n",
              "24       Ljelli3166                          blagh class at 8 tomorrow   \n",
              "25    ChicagoCubbie      I hate when I have to call and wake people up   \n",
              "26      KatieAngell  Just going to cry myself to sleep after watchi...   \n",
              "27            gagoo                             im sad now  Miss.Lilly   \n",
              "28          abel209  ooooh.... LOL  that leslie.... and ok I won't ...   \n",
              "29  BaptisteTheFool  Meh... Almost Lover is the exception... this t...   \n",
              "30        fatkat309  some1 hacked my account on aim  now i have to ...   \n",
              "31            EmCDL  @alielayus I want to go to promote GEAR AND GR...   \n",
              "32         merisssa  thought sleeping in was an option tomorrow but...   \n",
              "33         Pbearfox  @julieebaby awe i love you too!!!! 1 am here  ...   \n",
              "34             jsoo   @HumpNinja I cry my asian eyes to sleep at night   \n",
              "35   scarletletterm  ok I'm sick and spent an hour sitting in the s...   \n",
              "36      crosland_12  @cocomix04 ill tell ya the story later  not a ...   \n",
              "37          ajaxpro  @MissXu sorry! bed time came here (GMT+1)   ht...   \n",
              "38          Tmttq86  @fleurylis I don't either. Its depressing. I d...   \n",
              "39   Anthony_Nguyen  Bed. Class 8-12. Work 12-3. Gym 3-5 or 6. Then...   \n",
              "40       itsanimesh  really don't feel like getting up today... but...   \n",
              "41        lionslamb  He's the reason for the teardrops on my guitar...   \n",
              "42        kennypham  Sad, sad, sad. I don't know why but I hate thi...   \n",
              "43   DdubsShellBell  @JonathanRKnight Awww I soo wish I was there t...   \n",
              "44      hpfangirl94  Falling asleep. Just heard about that Tracy gi...   \n",
              "45        antzpantz  @Viennah Yay! I'm happy for you with your job!...   \n",
              "46        labrt2004  Just checked my user timeline on my blackberry...   \n",
              "47        IrisJumbe  Oh man...was ironing @jeancjumbe's fave top to...   \n",
              "48         peacoats  is strangely sad about LiLo and SamRo breaking...   \n",
              "49         cyantist  @tea oh! i'm so sorry  i didn't think about th...   \n",
              "\n",
              "                                           final_text  sentiment  \\\n",
              "0   switchfoot httptwitpiccomzl  A s bummer You sh...    -0.0173   \n",
              "1   upset cant update Facebook texting it might cr...    -0.7500   \n",
              "2   Kenichan I dived many times ball Managed save ...     0.4939   \n",
              "3                    whole body feels itchy like fire    -0.2500   \n",
              "4   nationwideclass no behaving all im mad here I ...    -0.6597   \n",
              "5                                 Kwesidei whole crew     0.0000   \n",
              "6                                            Need hug     0.4767   \n",
              "7   LOLTrish hey long time see Yes Rains bit only ...     0.7450   \n",
              "8                                       TatianaK nope     0.0000   \n",
              "9                                 twittera que muera      0.0000   \n",
              "10                    spring break plain city snowing     0.0000   \n",
              "11                                   I repierced ears     0.0000   \n",
              "12  caregiving I bear watch it And I thought UA lo...    -0.5994   \n",
              "13  octolin It counts idk I either never talk anymore    -0.1027   \n",
              "14  smarrison wouldve first gun really though zac ...     0.3724   \n",
              "15  iamjazzyfizzle I wish I got watch you I miss i...     0.4545   \n",
              "16  Hollis death scene hurt severely watch film wr...    -0.9081   \n",
              "17                                         file taxes     0.0000   \n",
              "18  LettyA ahh ive always wanted see rent love sou...     0.6988   \n",
              "19  FakerPattyPattz Oh dear Were drinking forgotte...     0.1779   \n",
              "20                       alydesigns day get much done     0.0000   \n",
              "21  one friend called me asked meet Mid Valley tod...     0.2500   \n",
              "22                   angrybarista I baked cake I ated     0.0000   \n",
              "23                                   week going hoped     0.3818   \n",
              "24                              blagh class  tomorrow     0.0000   \n",
              "25                          I hate I call wake people    -0.5719   \n",
              "26            Just going cry sleep watching Marley Me    -0.4767   \n",
              "27                                   im sad MissLilly    -0.4767   \n",
              "28               ooooh LOL leslie ok I leslie get mad     0.8106   \n",
              "29  Meh Almost Lover exception track gets depresse...     0.0534   \n",
              "30                som hacked account aim make new one    -0.4019   \n",
              "31  alielayus I want go promote GEAR AND GROOVE un...    -0.2144   \n",
              "32  thought sleeping option tomorrow realizing not...     0.0000   \n",
              "33                       julieebaby awe love too miss     0.6973   \n",
              "34             HumpNinja I cry asian eyes sleep night    -0.4767   \n",
              "35  ok Im sick spent hour sitting shower cause I s...    -0.4939   \n",
              "36  cocomix ill tell ya story later good day ill w...    -0.6711   \n",
              "37         MissXu sorry bed time came GM httpisgdfNge    -0.1511   \n",
              "38  fleurylis I either Its depressing I think I ev...     0.2411   \n",
              "39  Bed Class  Work Gym   Then class  Another day ...    -0.1531   \n",
              "40  really feel like getting today got study tomor...    -0.1746   \n",
              "41  Hes reason teardrops guitar one enough break h...     0.0000   \n",
              "42  Sad sad sad I know I hate feeling I wanna slee...    -0.8609   \n",
              "43  JonathanRKnight A soo wish I see finally comfo...     0.2481   \n",
              "44  Falling asleep Just heard Tracy girls body fou...    -0.5719   \n",
              "45  Viennah Yay Im happy job But also means less t...     0.8264   \n",
              "46  Just checked user timeline blackberry looks li...     0.3612   \n",
              "47  Oh manwas ironing jeancjumbes fave top wear me...     0.5719   \n",
              "48               strangely sad LiLo SamRo breaking up    -0.6486   \n",
              "49                   tea oh im sorry think retweeting    -0.2578   \n",
              "\n",
              "    final_sentiment  \n",
              "0              -1.0  \n",
              "1              -1.0  \n",
              "2               1.0  \n",
              "3              -1.0  \n",
              "4              -1.0  \n",
              "5               0.0  \n",
              "6               1.0  \n",
              "7               1.0  \n",
              "8               0.0  \n",
              "9               0.0  \n",
              "10              0.0  \n",
              "11              0.0  \n",
              "12             -1.0  \n",
              "13             -1.0  \n",
              "14              1.0  \n",
              "15              1.0  \n",
              "16             -1.0  \n",
              "17              0.0  \n",
              "18              1.0  \n",
              "19              1.0  \n",
              "20              0.0  \n",
              "21              1.0  \n",
              "22              0.0  \n",
              "23              1.0  \n",
              "24              0.0  \n",
              "25             -1.0  \n",
              "26             -1.0  \n",
              "27             -1.0  \n",
              "28              1.0  \n",
              "29              1.0  \n",
              "30             -1.0  \n",
              "31             -1.0  \n",
              "32              0.0  \n",
              "33              1.0  \n",
              "34             -1.0  \n",
              "35             -1.0  \n",
              "36             -1.0  \n",
              "37             -1.0  \n",
              "38              1.0  \n",
              "39             -1.0  \n",
              "40             -1.0  \n",
              "41              0.0  \n",
              "42             -1.0  \n",
              "43              1.0  \n",
              "44             -1.0  \n",
              "45              1.0  \n",
              "46              1.0  \n",
              "47              1.0  \n",
              "48             -1.0  \n",
              "49             -1.0  "
            ],
            "text/html": [
              "\n",
              "  <div id=\"df-f5713cba-8338-4af7-bac5-1adf2c02e728\">\n",
              "    <div class=\"colab-df-container\">\n",
              "      <div>\n",
              "<style scoped>\n",
              "    .dataframe tbody tr th:only-of-type {\n",
              "        vertical-align: middle;\n",
              "    }\n",
              "\n",
              "    .dataframe tbody tr th {\n",
              "        vertical-align: top;\n",
              "    }\n",
              "\n",
              "    .dataframe thead th {\n",
              "        text-align: right;\n",
              "    }\n",
              "</style>\n",
              "<table border=\"1\" class=\"dataframe\">\n",
              "  <thead>\n",
              "    <tr style=\"text-align: right;\">\n",
              "      <th></th>\n",
              "      <th>target</th>\n",
              "      <th>id</th>\n",
              "      <th>date</th>\n",
              "      <th>flag</th>\n",
              "      <th>user</th>\n",
              "      <th>text</th>\n",
              "      <th>final_text</th>\n",
              "      <th>sentiment</th>\n",
              "      <th>final_sentiment</th>\n",
              "    </tr>\n",
              "  </thead>\n",
              "  <tbody>\n",
              "    <tr>\n",
              "      <th>0</th>\n",
              "      <td>-1</td>\n",
              "      <td>1467810369</td>\n",
              "      <td>Mon Apr 06 22:19:45 PDT 2009</td>\n",
              "      <td>NO_QUERY</td>\n",
              "      <td>_TheSpecialOne_</td>\n",
              "      <td>@switchfoot http://twitpic.com/2y1zl - Awww, t...</td>\n",
              "      <td>switchfoot httptwitpiccomzl  A s bummer You sh...</td>\n",
              "      <td>-0.0173</td>\n",
              "      <td>-1.0</td>\n",
              "    </tr>\n",
              "    <tr>\n",
              "      <th>1</th>\n",
              "      <td>-1</td>\n",
              "      <td>1467810672</td>\n",
              "      <td>Mon Apr 06 22:19:49 PDT 2009</td>\n",
              "      <td>NO_QUERY</td>\n",
              "      <td>scotthamilton</td>\n",
              "      <td>is upset that he can't update his Facebook by ...</td>\n",
              "      <td>upset cant update Facebook texting it might cr...</td>\n",
              "      <td>-0.7500</td>\n",
              "      <td>-1.0</td>\n",
              "    </tr>\n",
              "    <tr>\n",
              "      <th>2</th>\n",
              "      <td>-1</td>\n",
              "      <td>1467810917</td>\n",
              "      <td>Mon Apr 06 22:19:53 PDT 2009</td>\n",
              "      <td>NO_QUERY</td>\n",
              "      <td>mattycus</td>\n",
              "      <td>@Kenichan I dived many times for the ball. Man...</td>\n",
              "      <td>Kenichan I dived many times ball Managed save ...</td>\n",
              "      <td>0.4939</td>\n",
              "      <td>1.0</td>\n",
              "    </tr>\n",
              "    <tr>\n",
              "      <th>3</th>\n",
              "      <td>-1</td>\n",
              "      <td>1467811184</td>\n",
              "      <td>Mon Apr 06 22:19:57 PDT 2009</td>\n",
              "      <td>NO_QUERY</td>\n",
              "      <td>ElleCTF</td>\n",
              "      <td>my whole body feels itchy and like its on fire</td>\n",
              "      <td>whole body feels itchy like fire</td>\n",
              "      <td>-0.2500</td>\n",
              "      <td>-1.0</td>\n",
              "    </tr>\n",
              "    <tr>\n",
              "      <th>4</th>\n",
              "      <td>-1</td>\n",
              "      <td>1467811193</td>\n",
              "      <td>Mon Apr 06 22:19:57 PDT 2009</td>\n",
              "      <td>NO_QUERY</td>\n",
              "      <td>Karoli</td>\n",
              "      <td>@nationwideclass no, it's not behaving at all....</td>\n",
              "      <td>nationwideclass no behaving all im mad here I ...</td>\n",
              "      <td>-0.6597</td>\n",
              "      <td>-1.0</td>\n",
              "    </tr>\n",
              "    <tr>\n",
              "      <th>5</th>\n",
              "      <td>-1</td>\n",
              "      <td>1467811372</td>\n",
              "      <td>Mon Apr 06 22:20:00 PDT 2009</td>\n",
              "      <td>NO_QUERY</td>\n",
              "      <td>joy_wolf</td>\n",
              "      <td>@Kwesidei not the whole crew</td>\n",
              "      <td>Kwesidei whole crew</td>\n",
              "      <td>0.0000</td>\n",
              "      <td>0.0</td>\n",
              "    </tr>\n",
              "    <tr>\n",
              "      <th>6</th>\n",
              "      <td>-1</td>\n",
              "      <td>1467811592</td>\n",
              "      <td>Mon Apr 06 22:20:03 PDT 2009</td>\n",
              "      <td>NO_QUERY</td>\n",
              "      <td>mybirch</td>\n",
              "      <td>Need a hug</td>\n",
              "      <td>Need hug</td>\n",
              "      <td>0.4767</td>\n",
              "      <td>1.0</td>\n",
              "    </tr>\n",
              "    <tr>\n",
              "      <th>7</th>\n",
              "      <td>-1</td>\n",
              "      <td>1467811594</td>\n",
              "      <td>Mon Apr 06 22:20:03 PDT 2009</td>\n",
              "      <td>NO_QUERY</td>\n",
              "      <td>coZZ</td>\n",
              "      <td>@LOLTrish hey  long time no see! Yes.. Rains a...</td>\n",
              "      <td>LOLTrish hey long time see Yes Rains bit only ...</td>\n",
              "      <td>0.7450</td>\n",
              "      <td>1.0</td>\n",
              "    </tr>\n",
              "    <tr>\n",
              "      <th>8</th>\n",
              "      <td>-1</td>\n",
              "      <td>1467811795</td>\n",
              "      <td>Mon Apr 06 22:20:05 PDT 2009</td>\n",
              "      <td>NO_QUERY</td>\n",
              "      <td>2Hood4Hollywood</td>\n",
              "      <td>@Tatiana_K nope they didn't have it</td>\n",
              "      <td>TatianaK nope</td>\n",
              "      <td>0.0000</td>\n",
              "      <td>0.0</td>\n",
              "    </tr>\n",
              "    <tr>\n",
              "      <th>9</th>\n",
              "      <td>-1</td>\n",
              "      <td>1467812025</td>\n",
              "      <td>Mon Apr 06 22:20:09 PDT 2009</td>\n",
              "      <td>NO_QUERY</td>\n",
              "      <td>mimismo</td>\n",
              "      <td>@twittera que me muera ?</td>\n",
              "      <td>twittera que muera</td>\n",
              "      <td>0.0000</td>\n",
              "      <td>0.0</td>\n",
              "    </tr>\n",
              "    <tr>\n",
              "      <th>10</th>\n",
              "      <td>-1</td>\n",
              "      <td>1467812416</td>\n",
              "      <td>Mon Apr 06 22:20:16 PDT 2009</td>\n",
              "      <td>NO_QUERY</td>\n",
              "      <td>erinx3leannexo</td>\n",
              "      <td>spring break in plain city... it's snowing</td>\n",
              "      <td>spring break plain city snowing</td>\n",
              "      <td>0.0000</td>\n",
              "      <td>0.0</td>\n",
              "    </tr>\n",
              "    <tr>\n",
              "      <th>11</th>\n",
              "      <td>-1</td>\n",
              "      <td>1467812579</td>\n",
              "      <td>Mon Apr 06 22:20:17 PDT 2009</td>\n",
              "      <td>NO_QUERY</td>\n",
              "      <td>pardonlauren</td>\n",
              "      <td>I just re-pierced my ears</td>\n",
              "      <td>I repierced ears</td>\n",
              "      <td>0.0000</td>\n",
              "      <td>0.0</td>\n",
              "    </tr>\n",
              "    <tr>\n",
              "      <th>12</th>\n",
              "      <td>-1</td>\n",
              "      <td>1467812723</td>\n",
              "      <td>Mon Apr 06 22:20:19 PDT 2009</td>\n",
              "      <td>NO_QUERY</td>\n",
              "      <td>TLeC</td>\n",
              "      <td>@caregiving I couldn't bear to watch it.  And ...</td>\n",
              "      <td>caregiving I bear watch it And I thought UA lo...</td>\n",
              "      <td>-0.5994</td>\n",
              "      <td>-1.0</td>\n",
              "    </tr>\n",
              "    <tr>\n",
              "      <th>13</th>\n",
              "      <td>-1</td>\n",
              "      <td>1467812771</td>\n",
              "      <td>Mon Apr 06 22:20:19 PDT 2009</td>\n",
              "      <td>NO_QUERY</td>\n",
              "      <td>robrobbierobert</td>\n",
              "      <td>@octolinz16 It it counts, idk why I did either...</td>\n",
              "      <td>octolin It counts idk I either never talk anymore</td>\n",
              "      <td>-0.1027</td>\n",
              "      <td>-1.0</td>\n",
              "    </tr>\n",
              "    <tr>\n",
              "      <th>14</th>\n",
              "      <td>-1</td>\n",
              "      <td>1467812784</td>\n",
              "      <td>Mon Apr 06 22:20:20 PDT 2009</td>\n",
              "      <td>NO_QUERY</td>\n",
              "      <td>bayofwolves</td>\n",
              "      <td>@smarrison i would've been the first, but i di...</td>\n",
              "      <td>smarrison wouldve first gun really though zac ...</td>\n",
              "      <td>0.3724</td>\n",
              "      <td>1.0</td>\n",
              "    </tr>\n",
              "    <tr>\n",
              "      <th>15</th>\n",
              "      <td>-1</td>\n",
              "      <td>1467812799</td>\n",
              "      <td>Mon Apr 06 22:20:20 PDT 2009</td>\n",
              "      <td>NO_QUERY</td>\n",
              "      <td>HairByJess</td>\n",
              "      <td>@iamjazzyfizzle I wish I got to watch it with ...</td>\n",
              "      <td>iamjazzyfizzle I wish I got watch you I miss i...</td>\n",
              "      <td>0.4545</td>\n",
              "      <td>1.0</td>\n",
              "    </tr>\n",
              "    <tr>\n",
              "      <th>16</th>\n",
              "      <td>-1</td>\n",
              "      <td>1467812964</td>\n",
              "      <td>Mon Apr 06 22:20:22 PDT 2009</td>\n",
              "      <td>NO_QUERY</td>\n",
              "      <td>lovesongwriter</td>\n",
              "      <td>Hollis' death scene will hurt me severely to w...</td>\n",
              "      <td>Hollis death scene hurt severely watch film wr...</td>\n",
              "      <td>-0.9081</td>\n",
              "      <td>-1.0</td>\n",
              "    </tr>\n",
              "    <tr>\n",
              "      <th>17</th>\n",
              "      <td>-1</td>\n",
              "      <td>1467813137</td>\n",
              "      <td>Mon Apr 06 22:20:25 PDT 2009</td>\n",
              "      <td>NO_QUERY</td>\n",
              "      <td>armotley</td>\n",
              "      <td>about to file taxes</td>\n",
              "      <td>file taxes</td>\n",
              "      <td>0.0000</td>\n",
              "      <td>0.0</td>\n",
              "    </tr>\n",
              "    <tr>\n",
              "      <th>18</th>\n",
              "      <td>-1</td>\n",
              "      <td>1467813579</td>\n",
              "      <td>Mon Apr 06 22:20:31 PDT 2009</td>\n",
              "      <td>NO_QUERY</td>\n",
              "      <td>starkissed</td>\n",
              "      <td>@LettyA ahh ive always wanted to see rent  lov...</td>\n",
              "      <td>LettyA ahh ive always wanted see rent love sou...</td>\n",
              "      <td>0.6988</td>\n",
              "      <td>1.0</td>\n",
              "    </tr>\n",
              "    <tr>\n",
              "      <th>19</th>\n",
              "      <td>-1</td>\n",
              "      <td>1467813782</td>\n",
              "      <td>Mon Apr 06 22:20:34 PDT 2009</td>\n",
              "      <td>NO_QUERY</td>\n",
              "      <td>gi_gi_bee</td>\n",
              "      <td>@FakerPattyPattz Oh dear. Were you drinking ou...</td>\n",
              "      <td>FakerPattyPattz Oh dear Were drinking forgotte...</td>\n",
              "      <td>0.1779</td>\n",
              "      <td>1.0</td>\n",
              "    </tr>\n",
              "    <tr>\n",
              "      <th>20</th>\n",
              "      <td>-1</td>\n",
              "      <td>1467813985</td>\n",
              "      <td>Mon Apr 06 22:20:37 PDT 2009</td>\n",
              "      <td>NO_QUERY</td>\n",
              "      <td>quanvu</td>\n",
              "      <td>@alydesigns i was out most of the day so didn'...</td>\n",
              "      <td>alydesigns day get much done</td>\n",
              "      <td>0.0000</td>\n",
              "      <td>0.0</td>\n",
              "    </tr>\n",
              "    <tr>\n",
              "      <th>21</th>\n",
              "      <td>-1</td>\n",
              "      <td>1467813992</td>\n",
              "      <td>Mon Apr 06 22:20:38 PDT 2009</td>\n",
              "      <td>NO_QUERY</td>\n",
              "      <td>swinspeedx</td>\n",
              "      <td>one of my friend called me, and asked to meet ...</td>\n",
              "      <td>one friend called me asked meet Mid Valley tod...</td>\n",
              "      <td>0.2500</td>\n",
              "      <td>1.0</td>\n",
              "    </tr>\n",
              "    <tr>\n",
              "      <th>22</th>\n",
              "      <td>-1</td>\n",
              "      <td>1467814119</td>\n",
              "      <td>Mon Apr 06 22:20:40 PDT 2009</td>\n",
              "      <td>NO_QUERY</td>\n",
              "      <td>cooliodoc</td>\n",
              "      <td>@angry_barista I baked you a cake but I ated it</td>\n",
              "      <td>angrybarista I baked cake I ated</td>\n",
              "      <td>0.0000</td>\n",
              "      <td>0.0</td>\n",
              "    </tr>\n",
              "    <tr>\n",
              "      <th>23</th>\n",
              "      <td>-1</td>\n",
              "      <td>1467814180</td>\n",
              "      <td>Mon Apr 06 22:20:40 PDT 2009</td>\n",
              "      <td>NO_QUERY</td>\n",
              "      <td>viJILLante</td>\n",
              "      <td>this week is not going as i had hoped</td>\n",
              "      <td>week going hoped</td>\n",
              "      <td>0.3818</td>\n",
              "      <td>1.0</td>\n",
              "    </tr>\n",
              "    <tr>\n",
              "      <th>24</th>\n",
              "      <td>-1</td>\n",
              "      <td>1467814192</td>\n",
              "      <td>Mon Apr 06 22:20:41 PDT 2009</td>\n",
              "      <td>NO_QUERY</td>\n",
              "      <td>Ljelli3166</td>\n",
              "      <td>blagh class at 8 tomorrow</td>\n",
              "      <td>blagh class  tomorrow</td>\n",
              "      <td>0.0000</td>\n",
              "      <td>0.0</td>\n",
              "    </tr>\n",
              "    <tr>\n",
              "      <th>25</th>\n",
              "      <td>-1</td>\n",
              "      <td>1467814438</td>\n",
              "      <td>Mon Apr 06 22:20:44 PDT 2009</td>\n",
              "      <td>NO_QUERY</td>\n",
              "      <td>ChicagoCubbie</td>\n",
              "      <td>I hate when I have to call and wake people up</td>\n",
              "      <td>I hate I call wake people</td>\n",
              "      <td>-0.5719</td>\n",
              "      <td>-1.0</td>\n",
              "    </tr>\n",
              "    <tr>\n",
              "      <th>26</th>\n",
              "      <td>-1</td>\n",
              "      <td>1467814783</td>\n",
              "      <td>Mon Apr 06 22:20:50 PDT 2009</td>\n",
              "      <td>NO_QUERY</td>\n",
              "      <td>KatieAngell</td>\n",
              "      <td>Just going to cry myself to sleep after watchi...</td>\n",
              "      <td>Just going cry sleep watching Marley Me</td>\n",
              "      <td>-0.4767</td>\n",
              "      <td>-1.0</td>\n",
              "    </tr>\n",
              "    <tr>\n",
              "      <th>27</th>\n",
              "      <td>-1</td>\n",
              "      <td>1467814883</td>\n",
              "      <td>Mon Apr 06 22:20:52 PDT 2009</td>\n",
              "      <td>NO_QUERY</td>\n",
              "      <td>gagoo</td>\n",
              "      <td>im sad now  Miss.Lilly</td>\n",
              "      <td>im sad MissLilly</td>\n",
              "      <td>-0.4767</td>\n",
              "      <td>-1.0</td>\n",
              "    </tr>\n",
              "    <tr>\n",
              "      <th>28</th>\n",
              "      <td>-1</td>\n",
              "      <td>1467815199</td>\n",
              "      <td>Mon Apr 06 22:20:56 PDT 2009</td>\n",
              "      <td>NO_QUERY</td>\n",
              "      <td>abel209</td>\n",
              "      <td>ooooh.... LOL  that leslie.... and ok I won't ...</td>\n",
              "      <td>ooooh LOL leslie ok I leslie get mad</td>\n",
              "      <td>0.8106</td>\n",
              "      <td>1.0</td>\n",
              "    </tr>\n",
              "    <tr>\n",
              "      <th>29</th>\n",
              "      <td>-1</td>\n",
              "      <td>1467815753</td>\n",
              "      <td>Mon Apr 06 22:21:04 PDT 2009</td>\n",
              "      <td>NO_QUERY</td>\n",
              "      <td>BaptisteTheFool</td>\n",
              "      <td>Meh... Almost Lover is the exception... this t...</td>\n",
              "      <td>Meh Almost Lover exception track gets depresse...</td>\n",
              "      <td>0.0534</td>\n",
              "      <td>1.0</td>\n",
              "    </tr>\n",
              "    <tr>\n",
              "      <th>30</th>\n",
              "      <td>-1</td>\n",
              "      <td>1467815923</td>\n",
              "      <td>Mon Apr 06 22:21:07 PDT 2009</td>\n",
              "      <td>NO_QUERY</td>\n",
              "      <td>fatkat309</td>\n",
              "      <td>some1 hacked my account on aim  now i have to ...</td>\n",
              "      <td>som hacked account aim make new one</td>\n",
              "      <td>-0.4019</td>\n",
              "      <td>-1.0</td>\n",
              "    </tr>\n",
              "    <tr>\n",
              "      <th>31</th>\n",
              "      <td>-1</td>\n",
              "      <td>1467815924</td>\n",
              "      <td>Mon Apr 06 22:21:07 PDT 2009</td>\n",
              "      <td>NO_QUERY</td>\n",
              "      <td>EmCDL</td>\n",
              "      <td>@alielayus I want to go to promote GEAR AND GR...</td>\n",
              "      <td>alielayus I want go promote GEAR AND GROOVE un...</td>\n",
              "      <td>-0.2144</td>\n",
              "      <td>-1.0</td>\n",
              "    </tr>\n",
              "    <tr>\n",
              "      <th>32</th>\n",
              "      <td>-1</td>\n",
              "      <td>1467815988</td>\n",
              "      <td>Mon Apr 06 22:21:09 PDT 2009</td>\n",
              "      <td>NO_QUERY</td>\n",
              "      <td>merisssa</td>\n",
              "      <td>thought sleeping in was an option tomorrow but...</td>\n",
              "      <td>thought sleeping option tomorrow realizing not...</td>\n",
              "      <td>0.0000</td>\n",
              "      <td>0.0</td>\n",
              "    </tr>\n",
              "    <tr>\n",
              "      <th>33</th>\n",
              "      <td>-1</td>\n",
              "      <td>1467816149</td>\n",
              "      <td>Mon Apr 06 22:21:11 PDT 2009</td>\n",
              "      <td>NO_QUERY</td>\n",
              "      <td>Pbearfox</td>\n",
              "      <td>@julieebaby awe i love you too!!!! 1 am here  ...</td>\n",
              "      <td>julieebaby awe love too miss</td>\n",
              "      <td>0.6973</td>\n",
              "      <td>1.0</td>\n",
              "    </tr>\n",
              "    <tr>\n",
              "      <th>34</th>\n",
              "      <td>-1</td>\n",
              "      <td>1467816665</td>\n",
              "      <td>Mon Apr 06 22:21:21 PDT 2009</td>\n",
              "      <td>NO_QUERY</td>\n",
              "      <td>jsoo</td>\n",
              "      <td>@HumpNinja I cry my asian eyes to sleep at night</td>\n",
              "      <td>HumpNinja I cry asian eyes sleep night</td>\n",
              "      <td>-0.4767</td>\n",
              "      <td>-1.0</td>\n",
              "    </tr>\n",
              "    <tr>\n",
              "      <th>35</th>\n",
              "      <td>-1</td>\n",
              "      <td>1467816749</td>\n",
              "      <td>Mon Apr 06 22:21:20 PDT 2009</td>\n",
              "      <td>NO_QUERY</td>\n",
              "      <td>scarletletterm</td>\n",
              "      <td>ok I'm sick and spent an hour sitting in the s...</td>\n",
              "      <td>ok Im sick spent hour sitting shower cause I s...</td>\n",
              "      <td>-0.4939</td>\n",
              "      <td>-1.0</td>\n",
              "    </tr>\n",
              "    <tr>\n",
              "      <th>36</th>\n",
              "      <td>-1</td>\n",
              "      <td>1467817225</td>\n",
              "      <td>Mon Apr 06 22:21:27 PDT 2009</td>\n",
              "      <td>NO_QUERY</td>\n",
              "      <td>crosland_12</td>\n",
              "      <td>@cocomix04 ill tell ya the story later  not a ...</td>\n",
              "      <td>cocomix ill tell ya story later good day ill w...</td>\n",
              "      <td>-0.6711</td>\n",
              "      <td>-1.0</td>\n",
              "    </tr>\n",
              "    <tr>\n",
              "      <th>37</th>\n",
              "      <td>-1</td>\n",
              "      <td>1467817374</td>\n",
              "      <td>Mon Apr 06 22:21:30 PDT 2009</td>\n",
              "      <td>NO_QUERY</td>\n",
              "      <td>ajaxpro</td>\n",
              "      <td>@MissXu sorry! bed time came here (GMT+1)   ht...</td>\n",
              "      <td>MissXu sorry bed time came GM httpisgdfNge</td>\n",
              "      <td>-0.1511</td>\n",
              "      <td>-1.0</td>\n",
              "    </tr>\n",
              "    <tr>\n",
              "      <th>38</th>\n",
              "      <td>-1</td>\n",
              "      <td>1467817502</td>\n",
              "      <td>Mon Apr 06 22:21:32 PDT 2009</td>\n",
              "      <td>NO_QUERY</td>\n",
              "      <td>Tmttq86</td>\n",
              "      <td>@fleurylis I don't either. Its depressing. I d...</td>\n",
              "      <td>fleurylis I either Its depressing I think I ev...</td>\n",
              "      <td>0.2411</td>\n",
              "      <td>1.0</td>\n",
              "    </tr>\n",
              "    <tr>\n",
              "      <th>39</th>\n",
              "      <td>-1</td>\n",
              "      <td>1467818007</td>\n",
              "      <td>Mon Apr 06 22:21:39 PDT 2009</td>\n",
              "      <td>NO_QUERY</td>\n",
              "      <td>Anthony_Nguyen</td>\n",
              "      <td>Bed. Class 8-12. Work 12-3. Gym 3-5 or 6. Then...</td>\n",
              "      <td>Bed Class  Work Gym   Then class  Another day ...</td>\n",
              "      <td>-0.1531</td>\n",
              "      <td>-1.0</td>\n",
              "    </tr>\n",
              "    <tr>\n",
              "      <th>40</th>\n",
              "      <td>-1</td>\n",
              "      <td>1467818020</td>\n",
              "      <td>Mon Apr 06 22:21:39 PDT 2009</td>\n",
              "      <td>NO_QUERY</td>\n",
              "      <td>itsanimesh</td>\n",
              "      <td>really don't feel like getting up today... but...</td>\n",
              "      <td>really feel like getting today got study tomor...</td>\n",
              "      <td>-0.1746</td>\n",
              "      <td>-1.0</td>\n",
              "    </tr>\n",
              "    <tr>\n",
              "      <th>41</th>\n",
              "      <td>-1</td>\n",
              "      <td>1467818481</td>\n",
              "      <td>Mon Apr 06 22:21:46 PDT 2009</td>\n",
              "      <td>NO_QUERY</td>\n",
              "      <td>lionslamb</td>\n",
              "      <td>He's the reason for the teardrops on my guitar...</td>\n",
              "      <td>Hes reason teardrops guitar one enough break h...</td>\n",
              "      <td>0.0000</td>\n",
              "      <td>0.0</td>\n",
              "    </tr>\n",
              "    <tr>\n",
              "      <th>42</th>\n",
              "      <td>-1</td>\n",
              "      <td>1467818603</td>\n",
              "      <td>Mon Apr 06 22:21:49 PDT 2009</td>\n",
              "      <td>NO_QUERY</td>\n",
              "      <td>kennypham</td>\n",
              "      <td>Sad, sad, sad. I don't know why but I hate thi...</td>\n",
              "      <td>Sad sad sad I know I hate feeling I wanna slee...</td>\n",
              "      <td>-0.8609</td>\n",
              "      <td>-1.0</td>\n",
              "    </tr>\n",
              "    <tr>\n",
              "      <th>43</th>\n",
              "      <td>-1</td>\n",
              "      <td>1467818900</td>\n",
              "      <td>Mon Apr 06 22:21:53 PDT 2009</td>\n",
              "      <td>NO_QUERY</td>\n",
              "      <td>DdubsShellBell</td>\n",
              "      <td>@JonathanRKnight Awww I soo wish I was there t...</td>\n",
              "      <td>JonathanRKnight A soo wish I see finally comfo...</td>\n",
              "      <td>0.2481</td>\n",
              "      <td>1.0</td>\n",
              "    </tr>\n",
              "    <tr>\n",
              "      <th>44</th>\n",
              "      <td>-1</td>\n",
              "      <td>1467819022</td>\n",
              "      <td>Mon Apr 06 22:21:56 PDT 2009</td>\n",
              "      <td>NO_QUERY</td>\n",
              "      <td>hpfangirl94</td>\n",
              "      <td>Falling asleep. Just heard about that Tracy gi...</td>\n",
              "      <td>Falling asleep Just heard Tracy girls body fou...</td>\n",
              "      <td>-0.5719</td>\n",
              "      <td>-1.0</td>\n",
              "    </tr>\n",
              "    <tr>\n",
              "      <th>45</th>\n",
              "      <td>-1</td>\n",
              "      <td>1467819650</td>\n",
              "      <td>Mon Apr 06 22:22:05 PDT 2009</td>\n",
              "      <td>NO_QUERY</td>\n",
              "      <td>antzpantz</td>\n",
              "      <td>@Viennah Yay! I'm happy for you with your job!...</td>\n",
              "      <td>Viennah Yay Im happy job But also means less t...</td>\n",
              "      <td>0.8264</td>\n",
              "      <td>1.0</td>\n",
              "    </tr>\n",
              "    <tr>\n",
              "      <th>46</th>\n",
              "      <td>-1</td>\n",
              "      <td>1467819712</td>\n",
              "      <td>Mon Apr 06 22:22:06 PDT 2009</td>\n",
              "      <td>NO_QUERY</td>\n",
              "      <td>labrt2004</td>\n",
              "      <td>Just checked my user timeline on my blackberry...</td>\n",
              "      <td>Just checked user timeline blackberry looks li...</td>\n",
              "      <td>0.3612</td>\n",
              "      <td>1.0</td>\n",
              "    </tr>\n",
              "    <tr>\n",
              "      <th>47</th>\n",
              "      <td>-1</td>\n",
              "      <td>1467819812</td>\n",
              "      <td>Mon Apr 06 22:22:07 PDT 2009</td>\n",
              "      <td>NO_QUERY</td>\n",
              "      <td>IrisJumbe</td>\n",
              "      <td>Oh man...was ironing @jeancjumbe's fave top to...</td>\n",
              "      <td>Oh manwas ironing jeancjumbes fave top wear me...</td>\n",
              "      <td>0.5719</td>\n",
              "      <td>1.0</td>\n",
              "    </tr>\n",
              "    <tr>\n",
              "      <th>48</th>\n",
              "      <td>-1</td>\n",
              "      <td>1467820206</td>\n",
              "      <td>Mon Apr 06 22:22:13 PDT 2009</td>\n",
              "      <td>NO_QUERY</td>\n",
              "      <td>peacoats</td>\n",
              "      <td>is strangely sad about LiLo and SamRo breaking...</td>\n",
              "      <td>strangely sad LiLo SamRo breaking up</td>\n",
              "      <td>-0.6486</td>\n",
              "      <td>-1.0</td>\n",
              "    </tr>\n",
              "    <tr>\n",
              "      <th>49</th>\n",
              "      <td>-1</td>\n",
              "      <td>1467820835</td>\n",
              "      <td>Mon Apr 06 22:22:25 PDT 2009</td>\n",
              "      <td>NO_QUERY</td>\n",
              "      <td>cyantist</td>\n",
              "      <td>@tea oh! i'm so sorry  i didn't think about th...</td>\n",
              "      <td>tea oh im sorry think retweeting</td>\n",
              "      <td>-0.2578</td>\n",
              "      <td>-1.0</td>\n",
              "    </tr>\n",
              "  </tbody>\n",
              "</table>\n",
              "</div>\n",
              "      <button class=\"colab-df-convert\" onclick=\"convertToInteractive('df-f5713cba-8338-4af7-bac5-1adf2c02e728')\"\n",
              "              title=\"Convert this dataframe to an interactive table.\"\n",
              "              style=\"display:none;\">\n",
              "        \n",
              "  <svg xmlns=\"http://www.w3.org/2000/svg\" height=\"24px\"viewBox=\"0 0 24 24\"\n",
              "       width=\"24px\">\n",
              "    <path d=\"M0 0h24v24H0V0z\" fill=\"none\"/>\n",
              "    <path d=\"M18.56 5.44l.94 2.06.94-2.06 2.06-.94-2.06-.94-.94-2.06-.94 2.06-2.06.94zm-11 1L8.5 8.5l.94-2.06 2.06-.94-2.06-.94L8.5 2.5l-.94 2.06-2.06.94zm10 10l.94 2.06.94-2.06 2.06-.94-2.06-.94-.94-2.06-.94 2.06-2.06.94z\"/><path d=\"M17.41 7.96l-1.37-1.37c-.4-.4-.92-.59-1.43-.59-.52 0-1.04.2-1.43.59L10.3 9.45l-7.72 7.72c-.78.78-.78 2.05 0 2.83L4 21.41c.39.39.9.59 1.41.59.51 0 1.02-.2 1.41-.59l7.78-7.78 2.81-2.81c.8-.78.8-2.07 0-2.86zM5.41 20L4 18.59l7.72-7.72 1.47 1.35L5.41 20z\"/>\n",
              "  </svg>\n",
              "      </button>\n",
              "      \n",
              "  <style>\n",
              "    .colab-df-container {\n",
              "      display:flex;\n",
              "      flex-wrap:wrap;\n",
              "      gap: 12px;\n",
              "    }\n",
              "\n",
              "    .colab-df-convert {\n",
              "      background-color: #E8F0FE;\n",
              "      border: none;\n",
              "      border-radius: 50%;\n",
              "      cursor: pointer;\n",
              "      display: none;\n",
              "      fill: #1967D2;\n",
              "      height: 32px;\n",
              "      padding: 0 0 0 0;\n",
              "      width: 32px;\n",
              "    }\n",
              "\n",
              "    .colab-df-convert:hover {\n",
              "      background-color: #E2EBFA;\n",
              "      box-shadow: 0px 1px 2px rgba(60, 64, 67, 0.3), 0px 1px 3px 1px rgba(60, 64, 67, 0.15);\n",
              "      fill: #174EA6;\n",
              "    }\n",
              "\n",
              "    [theme=dark] .colab-df-convert {\n",
              "      background-color: #3B4455;\n",
              "      fill: #D2E3FC;\n",
              "    }\n",
              "\n",
              "    [theme=dark] .colab-df-convert:hover {\n",
              "      background-color: #434B5C;\n",
              "      box-shadow: 0px 1px 3px 1px rgba(0, 0, 0, 0.15);\n",
              "      filter: drop-shadow(0px 1px 2px rgba(0, 0, 0, 0.3));\n",
              "      fill: #FFFFFF;\n",
              "    }\n",
              "  </style>\n",
              "\n",
              "      <script>\n",
              "        const buttonEl =\n",
              "          document.querySelector('#df-f5713cba-8338-4af7-bac5-1adf2c02e728 button.colab-df-convert');\n",
              "        buttonEl.style.display =\n",
              "          google.colab.kernel.accessAllowed ? 'block' : 'none';\n",
              "\n",
              "        async function convertToInteractive(key) {\n",
              "          const element = document.querySelector('#df-f5713cba-8338-4af7-bac5-1adf2c02e728');\n",
              "          const dataTable =\n",
              "            await google.colab.kernel.invokeFunction('convertToInteractive',\n",
              "                                                     [key], {});\n",
              "          if (!dataTable) return;\n",
              "\n",
              "          const docLinkHtml = 'Like what you see? Visit the ' +\n",
              "            '<a target=\"_blank\" href=https://colab.research.google.com/notebooks/data_table.ipynb>data table notebook</a>'\n",
              "            + ' to learn more about interactive tables.';\n",
              "          element.innerHTML = '';\n",
              "          dataTable['output_type'] = 'display_data';\n",
              "          await google.colab.output.renderOutput(dataTable, element);\n",
              "          const docLink = document.createElement('div');\n",
              "          docLink.innerHTML = docLinkHtml;\n",
              "          element.appendChild(docLink);\n",
              "        }\n",
              "      </script>\n",
              "    </div>\n",
              "  </div>\n",
              "  "
            ]
          },
          "metadata": {},
          "execution_count": 41
        }
      ]
    },
    {
      "cell_type": "code",
      "source": [
        "from sklearn.metrics import accuracy_score\n",
        "\n",
        "y_act = dataset['target'].values\n",
        "y_pred = dataset['final_sentiment'].values\n",
        "\n",
        "accuracy_score(y_act, y_pred)"
      ],
      "metadata": {
        "colab": {
          "base_uri": "https://localhost:8080/"
        },
        "id": "g9aRy5e22dQ6",
        "outputId": "b0140145-682b-4000-de18-f248f9f2cded"
      },
      "execution_count": 36,
      "outputs": [
        {
          "output_type": "execute_result",
          "data": {
            "text/plain": [
              "0.520999375"
            ]
          },
          "metadata": {},
          "execution_count": 36
        }
      ]
    },
    {
      "cell_type": "code",
      "source": [
        "cr = classification_report(y_act, y_pred)\n",
        "\n",
        "print(\"Classification Report:\\n----------------------\\n\", cr)\n",
        "\n",
        "cm = confusion_matrix(y_test,pred_LR)\n",
        "\n",
        "\n",
        "# plot confusion matrix \n",
        "plt.figure(figsize=(8,6))\n",
        "sentiment_classes = ['Negative', 'Positive']\n",
        "sns.heatmap(cm, cmap=plt.cm.Blues, annot=True, fmt='d', \n",
        "            xticklabels=sentiment_classes,\n",
        "            yticklabels=sentiment_classes)\n",
        "plt.title('Confusion matrix', fontsize=16)\n",
        "plt.xlabel('Actual label', fontsize=12)\n",
        "plt.ylabel('Predicted label', fontsize=12)\n",
        "plt.show()\n"
      ],
      "metadata": {
        "colab": {
          "base_uri": "https://localhost:8080/",
          "height": 748
        },
        "id": "zk6eMUPnZnmE",
        "outputId": "5bdc9f9f-c552-4b03-e6cb-89980ebf27fd"
      },
      "execution_count": 40,
      "outputs": [
        {
          "output_type": "stream",
          "name": "stderr",
          "text": [
            "/usr/local/lib/python3.7/dist-packages/sklearn/metrics/_classification.py:1318: UndefinedMetricWarning: Recall and F-score are ill-defined and being set to 0.0 in labels with no true samples. Use `zero_division` parameter to control this behavior.\n",
            "  _warn_prf(average, modifier, msg_start, len(result))\n",
            "/usr/local/lib/python3.7/dist-packages/sklearn/metrics/_classification.py:1318: UndefinedMetricWarning: Recall and F-score are ill-defined and being set to 0.0 in labels with no true samples. Use `zero_division` parameter to control this behavior.\n",
            "  _warn_prf(average, modifier, msg_start, len(result))\n",
            "/usr/local/lib/python3.7/dist-packages/sklearn/metrics/_classification.py:1318: UndefinedMetricWarning: Recall and F-score are ill-defined and being set to 0.0 in labels with no true samples. Use `zero_division` parameter to control this behavior.\n",
            "  _warn_prf(average, modifier, msg_start, len(result))\n"
          ]
        },
        {
          "output_type": "stream",
          "name": "stdout",
          "text": [
            "Classification Report:\n",
            "----------------------\n",
            "               precision    recall  f1-score   support\n",
            "\n",
            "        -1.0       0.81      0.42      0.56    800000\n",
            "         0.0       0.00      0.00      0.00         0\n",
            "         1.0       0.66      0.62      0.64    800000\n",
            "\n",
            "    accuracy                           0.52   1600000\n",
            "   macro avg       0.49      0.35      0.40   1600000\n",
            "weighted avg       0.73      0.52      0.60   1600000\n",
            "\n"
          ]
        },
        {
          "output_type": "display_data",
          "data": {
            "text/plain": [
              "<Figure size 576x432 with 2 Axes>"
            ],
            "image/png": "[encoded data removed]"
          },
          "metadata": {
            "needs_background": "light"
          }
        }
      ]
    }
  ]
}