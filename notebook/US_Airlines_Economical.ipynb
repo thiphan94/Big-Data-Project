{
  "cells": [
    {
      "cell_type": "markdown",
      "source": [
        "IMPORTING AND LOADING DATA"
      ],
      "metadata": {
        "id": "1LQbW5Lodk8l"
      }
    },
    {
      "cell_type": "code",
      "execution_count": 34,
      "metadata": {
        "colab": {
          "base_uri": "https://localhost:8080/"
        },
        "id": "Hno1inGq91R7",
        "outputId": "37ed8277-e68c-45dc-9f83-669a97fb5e1f"
      },
      "outputs": [
        {
          "output_type": "stream",
          "name": "stdout",
          "text": [
            "Requirement already satisfied: textblob in /usr/local/lib/python3.7/dist-packages (0.15.3)\n",
            "Requirement already satisfied: nltk>=3.1 in /usr/local/lib/python3.7/dist-packages (from textblob) (3.2.5)\n",
            "Requirement already satisfied: six in /usr/local/lib/python3.7/dist-packages (from nltk>=3.1->textblob) (1.15.0)\n",
            "Requirement already satisfied: textsearch in /usr/local/lib/python3.7/dist-packages (0.0.21)\n",
            "Requirement already satisfied: anyascii in /usr/local/lib/python3.7/dist-packages (from textsearch) (0.3.1)\n",
            "Requirement already satisfied: pyahocorasick in /usr/local/lib/python3.7/dist-packages (from textsearch) (1.4.4)\n",
            "Requirement already satisfied: contractions in /usr/local/lib/python3.7/dist-packages (0.1.68)\n",
            "Requirement already satisfied: textsearch>=0.0.21 in /usr/local/lib/python3.7/dist-packages (from contractions) (0.0.21)\n",
            "Requirement already satisfied: anyascii in /usr/local/lib/python3.7/dist-packages (from textsearch>=0.0.21->contractions) (0.3.1)\n",
            "Requirement already satisfied: pyahocorasick in /usr/local/lib/python3.7/dist-packages (from textsearch>=0.0.21->contractions) (1.4.4)\n",
            "Requirement already satisfied: afinn in /usr/local/lib/python3.7/dist-packages (0.1)\n",
            "[nltk_data] Downloading package vader_lexicon to /root/nltk_data...\n",
            "[nltk_data]   Package vader_lexicon is already up-to-date!\n",
            "[nltk_data] Downloading package stopwords to /root/nltk_data...\n",
            "[nltk_data]   Package stopwords is already up-to-date!\n",
            "[nltk_data] Downloading package wordnet to /root/nltk_data...\n",
            "[nltk_data]   Package wordnet is already up-to-date!\n",
            "[nltk_data] Downloading package punkt to /root/nltk_data...\n",
            "[nltk_data]   Package punkt is already up-to-date!\n",
            "[nltk_data] Downloading package averaged_perceptron_tagger to\n",
            "[nltk_data]     /root/nltk_data...\n",
            "[nltk_data]   Package averaged_perceptron_tagger is already up-to-\n",
            "[nltk_data]       date!\n"
          ]
        }
      ],
      "source": [
        "# utilities\n",
        "import re\n",
        "import numpy as np\n",
        "import pandas as pd\n",
        "import sqlite3 as sq3\n",
        "# plotting\n",
        "import seaborn as sns\n",
        "from wordcloud import WordCloud\n",
        "import matplotlib.pyplot as plt\n",
        "# nltk\n",
        "from nltk.stem import WordNetLemmatizer\n",
        "from nltk.corpus import stopwords\n",
        "!pip install -q wordcloud\n",
        "import wordcloud\n",
        "!pip install textblob\n",
        "!pip install textsearch\n",
        "!pip install contractions\n",
        "!pip install afinn\n",
        "import textblob\n",
        "import nltk\n",
        "nltk.download('vader_lexicon')\n",
        "import nltk\n",
        "nltk.download('stopwords')\n",
        "nltk.download('wordnet')\n",
        "nltk.download('punkt')\n",
        "nltk.download('averaged_perceptron_tagger') \n",
        "from nltk.tokenize import word_tokenize\n",
        "# sklearn\n",
        "from sklearn.svm import LinearSVC\n",
        "from sklearn.naive_bayes import BernoulliNB\n",
        "from sklearn.linear_model import LogisticRegression\n",
        "from sklearn.model_selection import train_test_split\n",
        "from sklearn.feature_extraction.text import TfidfVectorizer\n",
        "from sklearn.metrics import confusion_matrix, classification_report\n",
        "import pandas as pd\n",
        "from termcolor import colored"
      ]
    },
    {
      "cell_type": "code",
      "execution_count": 35,
      "metadata": {
        "colab": {
          "base_uri": "https://localhost:8080/",
          "height": 496
        },
        "id": "28fLVGB2fvtC",
        "outputId": "d74da540-384b-4784-e7f1-d4443b34329a"
      },
      "outputs": [
        {
          "output_type": "execute_result",
          "data": {
            "text/plain": [
              "             tweet_id airline_sentiment airline_sentiment_confidence  \\\n",
              "0  570306133677760513           neutral                          1.0   \n",
              "1  570301130888122368          positive                       0.3486   \n",
              "2  570301083672813571           neutral                       0.6837   \n",
              "3  570301031407624196          negative                          1.0   \n",
              "4  570300817074462722          negative                          1.0   \n",
              "\n",
              "  negativereason negativereason_confidence         airline  \\\n",
              "0           None                      None  Virgin America   \n",
              "1           None                       0.0  Virgin America   \n",
              "2           None                      None  Virgin America   \n",
              "3     Bad Flight                    0.7033  Virgin America   \n",
              "4     Can't Tell                       1.0  Virgin America   \n",
              "\n",
              "  airline_sentiment_gold        name negativereason_gold retweetcount  \\\n",
              "0                   None     cairdin                None            0   \n",
              "1                   None    jnardino                None            0   \n",
              "2                   None  yvonnalynn                None            0   \n",
              "3                   None    jnardino                None            0   \n",
              "4                   None    jnardino                None            0   \n",
              "\n",
              "                                                text tweet_coord  \\\n",
              "0                @VirginAmerica What @dhepburn said.        None   \n",
              "1  @VirginAmerica plus you've added commercials t...        None   \n",
              "2  @VirginAmerica I didn't today... Must mean I n...        None   \n",
              "3  @VirginAmerica it's really aggressive to blast...        None   \n",
              "4  @VirginAmerica and it's a really big bad thing...        None   \n",
              "\n",
              "               tweet_created tweet_location               user_timezone  \n",
              "0  2015-02-24 11:35:52 -0800           None  Eastern Time (US & Canada)  \n",
              "1  2015-02-24 11:15:59 -0800           None  Pacific Time (US & Canada)  \n",
              "2  2015-02-24 11:15:48 -0800      Lets Play  Central Time (US & Canada)  \n",
              "3  2015-02-24 11:15:36 -0800           None  Pacific Time (US & Canada)  \n",
              "4  2015-02-24 11:14:45 -0800           None  Pacific Time (US & Canada)  "
            ],
            "text/html": [
              "\n",
              "  <div id=\"df-415368e7-f2d0-4d89-866a-1d073277a3d0\">\n",
              "    <div class=\"colab-df-container\">\n",
              "      <div>\n",
              "<style scoped>\n",
              "    .dataframe tbody tr th:only-of-type {\n",
              "        vertical-align: middle;\n",
              "    }\n",
              "\n",
              "    .dataframe tbody tr th {\n",
              "        vertical-align: top;\n",
              "    }\n",
              "\n",
              "    .dataframe thead th {\n",
              "        text-align: right;\n",
              "    }\n",
              "</style>\n",
              "<table border=\"1\" class=\"dataframe\">\n",
              "  <thead>\n",
              "    <tr style=\"text-align: right;\">\n",
              "      <th></th>\n",
              "      <th>tweet_id</th>\n",
              "      <th>airline_sentiment</th>\n",
              "      <th>airline_sentiment_confidence</th>\n",
              "      <th>negativereason</th>\n",
              "      <th>negativereason_confidence</th>\n",
              "      <th>airline</th>\n",
              "      <th>airline_sentiment_gold</th>\n",
              "      <th>name</th>\n",
              "      <th>negativereason_gold</th>\n",
              "      <th>retweetcount</th>\n",
              "      <th>text</th>\n",
              "      <th>tweet_coord</th>\n",
              "      <th>tweet_created</th>\n",
              "      <th>tweet_location</th>\n",
              "      <th>user_timezone</th>\n",
              "    </tr>\n",
              "  </thead>\n",
              "  <tbody>\n",
              "    <tr>\n",
              "      <th>0</th>\n",
              "      <td>570306133677760513</td>\n",
              "      <td>neutral</td>\n",
              "      <td>1.0</td>\n",
              "      <td>None</td>\n",
              "      <td>None</td>\n",
              "      <td>Virgin America</td>\n",
              "      <td>None</td>\n",
              "      <td>cairdin</td>\n",
              "      <td>None</td>\n",
              "      <td>0</td>\n",
              "      <td>@VirginAmerica What @dhepburn said.</td>\n",
              "      <td>None</td>\n",
              "      <td>2015-02-24 11:35:52 -0800</td>\n",
              "      <td>None</td>\n",
              "      <td>Eastern Time (US &amp; Canada)</td>\n",
              "    </tr>\n",
              "    <tr>\n",
              "      <th>1</th>\n",
              "      <td>570301130888122368</td>\n",
              "      <td>positive</td>\n",
              "      <td>0.3486</td>\n",
              "      <td>None</td>\n",
              "      <td>0.0</td>\n",
              "      <td>Virgin America</td>\n",
              "      <td>None</td>\n",
              "      <td>jnardino</td>\n",
              "      <td>None</td>\n",
              "      <td>0</td>\n",
              "      <td>@VirginAmerica plus you've added commercials t...</td>\n",
              "      <td>None</td>\n",
              "      <td>2015-02-24 11:15:59 -0800</td>\n",
              "      <td>None</td>\n",
              "      <td>Pacific Time (US &amp; Canada)</td>\n",
              "    </tr>\n",
              "    <tr>\n",
              "      <th>2</th>\n",
              "      <td>570301083672813571</td>\n",
              "      <td>neutral</td>\n",
              "      <td>0.6837</td>\n",
              "      <td>None</td>\n",
              "      <td>None</td>\n",
              "      <td>Virgin America</td>\n",
              "      <td>None</td>\n",
              "      <td>yvonnalynn</td>\n",
              "      <td>None</td>\n",
              "      <td>0</td>\n",
              "      <td>@VirginAmerica I didn't today... Must mean I n...</td>\n",
              "      <td>None</td>\n",
              "      <td>2015-02-24 11:15:48 -0800</td>\n",
              "      <td>Lets Play</td>\n",
              "      <td>Central Time (US &amp; Canada)</td>\n",
              "    </tr>\n",
              "    <tr>\n",
              "      <th>3</th>\n",
              "      <td>570301031407624196</td>\n",
              "      <td>negative</td>\n",
              "      <td>1.0</td>\n",
              "      <td>Bad Flight</td>\n",
              "      <td>0.7033</td>\n",
              "      <td>Virgin America</td>\n",
              "      <td>None</td>\n",
              "      <td>jnardino</td>\n",
              "      <td>None</td>\n",
              "      <td>0</td>\n",
              "      <td>@VirginAmerica it's really aggressive to blast...</td>\n",
              "      <td>None</td>\n",
              "      <td>2015-02-24 11:15:36 -0800</td>\n",
              "      <td>None</td>\n",
              "      <td>Pacific Time (US &amp; Canada)</td>\n",
              "    </tr>\n",
              "    <tr>\n",
              "      <th>4</th>\n",
              "      <td>570300817074462722</td>\n",
              "      <td>negative</td>\n",
              "      <td>1.0</td>\n",
              "      <td>Can't Tell</td>\n",
              "      <td>1.0</td>\n",
              "      <td>Virgin America</td>\n",
              "      <td>None</td>\n",
              "      <td>jnardino</td>\n",
              "      <td>None</td>\n",
              "      <td>0</td>\n",
              "      <td>@VirginAmerica and it's a really big bad thing...</td>\n",
              "      <td>None</td>\n",
              "      <td>2015-02-24 11:14:45 -0800</td>\n",
              "      <td>None</td>\n",
              "      <td>Pacific Time (US &amp; Canada)</td>\n",
              "    </tr>\n",
              "  </tbody>\n",
              "</table>\n",
              "</div>\n",
              "      <button class=\"colab-df-convert\" onclick=\"convertToInteractive('df-415368e7-f2d0-4d89-866a-1d073277a3d0')\"\n",
              "              title=\"Convert this dataframe to an interactive table.\"\n",
              "              style=\"display:none;\">\n",
              "        \n",
              "  <svg xmlns=\"http://www.w3.org/2000/svg\" height=\"24px\"viewBox=\"0 0 24 24\"\n",
              "       width=\"24px\">\n",
              "    <path d=\"M0 0h24v24H0V0z\" fill=\"none\"/>\n",
              "    <path d=\"M18.56 5.44l.94 2.06.94-2.06 2.06-.94-2.06-.94-.94-2.06-.94 2.06-2.06.94zm-11 1L8.5 8.5l.94-2.06 2.06-.94-2.06-.94L8.5 2.5l-.94 2.06-2.06.94zm10 10l.94 2.06.94-2.06 2.06-.94-2.06-.94-.94-2.06-.94 2.06-2.06.94z\"/><path d=\"M17.41 7.96l-1.37-1.37c-.4-.4-.92-.59-1.43-.59-.52 0-1.04.2-1.43.59L10.3 9.45l-7.72 7.72c-.78.78-.78 2.05 0 2.83L4 21.41c.39.39.9.59 1.41.59.51 0 1.02-.2 1.41-.59l7.78-7.78 2.81-2.81c.8-.78.8-2.07 0-2.86zM5.41 20L4 18.59l7.72-7.72 1.47 1.35L5.41 20z\"/>\n",
              "  </svg>\n",
              "      </button>\n",
              "      \n",
              "  <style>\n",
              "    .colab-df-container {\n",
              "      display:flex;\n",
              "      flex-wrap:wrap;\n",
              "      gap: 12px;\n",
              "    }\n",
              "\n",
              "    .colab-df-convert {\n",
              "      background-color: #E8F0FE;\n",
              "      border: none;\n",
              "      border-radius: 50%;\n",
              "      cursor: pointer;\n",
              "      display: none;\n",
              "      fill: #1967D2;\n",
              "      height: 32px;\n",
              "      padding: 0 0 0 0;\n",
              "      width: 32px;\n",
              "    }\n",
              "\n",
              "    .colab-df-convert:hover {\n",
              "      background-color: #E2EBFA;\n",
              "      box-shadow: 0px 1px 2px rgba(60, 64, 67, 0.3), 0px 1px 3px 1px rgba(60, 64, 67, 0.15);\n",
              "      fill: #174EA6;\n",
              "    }\n",
              "\n",
              "    [theme=dark] .colab-df-convert {\n",
              "      background-color: #3B4455;\n",
              "      fill: #D2E3FC;\n",
              "    }\n",
              "\n",
              "    [theme=dark] .colab-df-convert:hover {\n",
              "      background-color: #434B5C;\n",
              "      box-shadow: 0px 1px 3px 1px rgba(0, 0, 0, 0.15);\n",
              "      filter: drop-shadow(0px 1px 2px rgba(0, 0, 0, 0.3));\n",
              "      fill: #FFFFFF;\n",
              "    }\n",
              "  </style>\n",
              "\n",
              "      <script>\n",
              "        const buttonEl =\n",
              "          document.querySelector('#df-415368e7-f2d0-4d89-866a-1d073277a3d0 button.colab-df-convert');\n",
              "        buttonEl.style.display =\n",
              "          google.colab.kernel.accessAllowed ? 'block' : 'none';\n",
              "\n",
              "        async function convertToInteractive(key) {\n",
              "          const element = document.querySelector('#df-415368e7-f2d0-4d89-866a-1d073277a3d0');\n",
              "          const dataTable =\n",
              "            await google.colab.kernel.invokeFunction('convertToInteractive',\n",
              "                                                     [key], {});\n",
              "          if (!dataTable) return;\n",
              "\n",
              "          const docLinkHtml = 'Like what you see? Visit the ' +\n",
              "            '<a target=\"_blank\" href=https://colab.research.google.com/notebooks/data_table.ipynb>data table notebook</a>'\n",
              "            + ' to learn more about interactive tables.';\n",
              "          element.innerHTML = '';\n",
              "          dataTable['output_type'] = 'display_data';\n",
              "          await google.colab.output.renderOutput(dataTable, element);\n",
              "          const docLink = document.createElement('div');\n",
              "          docLink.innerHTML = docLinkHtml;\n",
              "          element.appendChild(docLink);\n",
              "        }\n",
              "      </script>\n",
              "    </div>\n",
              "  </div>\n",
              "  "
            ]
          },
          "metadata": {},
          "execution_count": 35
        }
      ],
      "source": [
        "path = '/content/drive/MyDrive/Colab Notebooks/Sentiment.db'\n",
        "con = sq3.Connection(path)\n",
        "query = \"\"\"\n",
        "SELECT *\n",
        "FROM airline;\n",
        "\"\"\"\n",
        "dataset = pd.read_sql(query, con)\n",
        "dataset.columns = ['tweet_id','airline_sentiment','airline_sentiment_confidence','negativereason','negativereason_confidence','airline', 'airline_sentiment_gold', 'name', 'negativereason_gold', 'retweetcount', 'text', 'tweet_coord', 'tweet_created', 'tweet_location', 'user_timezone']\n",
        "dataset = dataset.iloc[1:]\n",
        "dataset.index = range(len(dataset))\n",
        "dataset.head()"
      ]
    },
    {
      "cell_type": "markdown",
      "source": [
        "EXPLORATORY DATA ANALYSIS"
      ],
      "metadata": {
        "id": "K6KASdXgdh-y"
      }
    },
    {
      "cell_type": "code",
      "source": [
        "dataset.info()"
      ],
      "metadata": {
        "id": "QnsR1ip4lKun",
        "colab": {
          "base_uri": "https://localhost:8080/"
        },
        "outputId": "7d7aee44-6678-4b4d-d2f6-19fe1086775e"
      },
      "execution_count": 36,
      "outputs": [
        {
          "output_type": "stream",
          "name": "stdout",
          "text": [
            "<class 'pandas.core.frame.DataFrame'>\n",
            "RangeIndex: 14640 entries, 0 to 14639\n",
            "Data columns (total 15 columns):\n",
            " #   Column                        Non-Null Count  Dtype \n",
            "---  ------                        --------------  ----- \n",
            " 0   tweet_id                      14640 non-null  object\n",
            " 1   airline_sentiment             14640 non-null  object\n",
            " 2   airline_sentiment_confidence  14640 non-null  object\n",
            " 3   negativereason                9178 non-null   object\n",
            " 4   negativereason_confidence     10522 non-null  object\n",
            " 5   airline                       14640 non-null  object\n",
            " 6   airline_sentiment_gold        40 non-null     object\n",
            " 7   name                          14640 non-null  object\n",
            " 8   negativereason_gold           32 non-null     object\n",
            " 9   retweetcount                  14640 non-null  object\n",
            " 10  text                          14640 non-null  object\n",
            " 11  tweet_coord                   1019 non-null   object\n",
            " 12  tweet_created                 14640 non-null  object\n",
            " 13  tweet_location                9907 non-null   object\n",
            " 14  user_timezone                 9820 non-null   object\n",
            "dtypes: object(15)\n",
            "memory usage: 1.7+ MB\n"
          ]
        }
      ]
    },
    {
      "cell_type": "code",
      "source": [
        "print('Three types of sentiments possible: ', dataset['airline_sentiment'].unique())\n",
        "sentiment_distribution = sns.countplot(x = \"airline_sentiment\", data = dataset)"
      ],
      "metadata": {
        "colab": {
          "base_uri": "https://localhost:8080/",
          "height": 298
        },
        "id": "FILLezrCloUr",
        "outputId": "3056dd86-045b-4715-8b2c-c3ecae579260"
      },
      "execution_count": 37,
      "outputs": [
        {
          "output_type": "stream",
          "name": "stdout",
          "text": [
            "Three types of sentiments possible:  ['neutral' 'positive' 'negative']\n"
          ]
        },
        {
          "output_type": "display_data",
          "data": {
            "text/plain": [
              "<Figure size 432x288 with 1 Axes>"
            ],
            "image/png": "[encoded data removed]"
          },
          "metadata": {
            "needs_background": "light"
          }
        }
      ]
    },
    {
      "cell_type": "code",
      "source": [
        "print(\"The number of tweets concerning each airline: \")\n",
        "airline_tweet_distribution = sns.countplot(x = \"airline\", data = dataset)"
      ],
      "metadata": {
        "colab": {
          "base_uri": "https://localhost:8080/",
          "height": 301
        },
        "id": "xc1wBPibmfhx",
        "outputId": "f5f241ef-199c-40a7-bcaa-9094db62b424"
      },
      "execution_count": 38,
      "outputs": [
        {
          "output_type": "stream",
          "name": "stdout",
          "text": [
            "The number of tweets concerning each airline: \n"
          ]
        },
        {
          "output_type": "display_data",
          "data": {
            "text/plain": [
              "<Figure size 432x288 with 1 Axes>"
            ],
            "image/png": "[encoded data removed]"
          },
          "metadata": {
            "needs_background": "light"
          }
        }
      ]
    },
    {
      "cell_type": "code",
      "source": [
        "print('The main reasons for a negative tweet: ', dataset['negativereason'].unique())"
      ],
      "metadata": {
        "colab": {
          "base_uri": "https://localhost:8080/"
        },
        "id": "mntYBEtUqV4d",
        "outputId": "abffeeaa-e0ce-4a1c-faaa-6a1df274727f"
      },
      "execution_count": 39,
      "outputs": [
        {
          "output_type": "stream",
          "name": "stdout",
          "text": [
            "The main reasons for a negative tweet:  [None 'Bad Flight' \"Can't Tell\" 'Late Flight' 'Customer Service Issue'\n",
            " 'Flight Booking Problems' 'Lost Luggage' 'Flight Attendant Complaints'\n",
            " 'Cancelled Flight' 'Damaged Luggage' 'longlines']\n"
          ]
        }
      ]
    },
    {
      "cell_type": "code",
      "source": [
        "print('The count for each negative reason that led to a tweet: ', dataset.negativereason.value_counts())\n",
        "plt.figure(figsize = (30, 10))\n",
        "sns.countplot(x = 'negativereason', data = dataset)\n",
        "plt.show()"
      ],
      "metadata": {
        "colab": {
          "base_uri": "https://localhost:8080/",
          "height": 658
        },
        "id": "19EkxAzBrQiS",
        "outputId": "632a1e25-5ce5-49ff-91e3-5d33afb57ada"
      },
      "execution_count": 40,
      "outputs": [
        {
          "output_type": "stream",
          "name": "stdout",
          "text": [
            "The count for each negative reason that led to a tweet:  Customer Service Issue         2910\n",
            "Late Flight                    1665\n",
            "Can't Tell                     1190\n",
            "Cancelled Flight                847\n",
            "Lost Luggage                    724\n",
            "Bad Flight                      580\n",
            "Flight Booking Problems         529\n",
            "Flight Attendant Complaints     481\n",
            "longlines                       178\n",
            "Damaged Luggage                  74\n",
            "Name: negativereason, dtype: int64\n"
          ]
        },
        {
          "output_type": "display_data",
          "data": {
            "text/plain": [
              "<Figure size 2160x720 with 1 Axes>"
            ],
            "image/png": "[encoded data removed]"
          },
          "metadata": {
            "needs_background": "light"
          }
        }
      ]
    },
    {
      "cell_type": "markdown",
      "source": [
        "DATA PREPROCESSING"
      ],
      "metadata": {
        "id": "K--MSk8AeG9q"
      }
    },
    {
      "cell_type": "code",
      "execution_count": 41,
      "metadata": {
        "colab": {
          "base_uri": "https://localhost:8080/"
        },
        "id": "sgXvEE1p-KWw",
        "outputId": "e808345c-dde3-4ddd-9407-fea9bb080bae"
      },
      "outputs": [
        {
          "output_type": "execute_result",
          "data": {
            "text/plain": [
              "-1    9178\n",
              " 0    3099\n",
              " 1    2363\n",
              "Name: airline_sentiment, dtype: int64"
            ]
          },
          "metadata": {},
          "execution_count": 41
        }
      ],
      "source": [
        "dataset['airline_sentiment'].replace(('neutral', 'positive', 'negative'), (0, 1, -1), inplace=True)\n",
        "dataset['airline_sentiment'].value_counts()\n",
        "#dataset['text'].head()"
      ]
    },
    {
      "cell_type": "code",
      "execution_count": 42,
      "metadata": {
        "colab": {
          "base_uri": "https://localhost:8080/"
        },
        "id": "LPfa58I_-NeN",
        "outputId": "533db7da-4fc4-4bbf-e27b-fa27e7e562eb"
      },
      "outputs": [
        {
          "output_type": "execute_result",
          "data": {
            "text/plain": [
              "0                  @VirginAmerica What @dhepburn said.\n",
              "1    @VirginAmerica plus you've added commercials t...\n",
              "2    @VirginAmerica I didn't today... Must mean I n...\n",
              "3    @VirginAmerica it's really aggressive to blast...\n",
              "4    @VirginAmerica and it's a really big bad thing...\n",
              "Name: text, dtype: object"
            ]
          },
          "metadata": {},
          "execution_count": 42
        }
      ],
      "source": [
        "data_text = dataset['text']\n",
        "data_text.head()"
      ]
    },
    {
      "cell_type": "code",
      "execution_count": 43,
      "metadata": {
        "colab": {
          "base_uri": "https://localhost:8080/",
          "height": 334
        },
        "id": "K_r2PwpHkPWG",
        "outputId": "75c1d983-634b-4ef5-8bd5-7513ea47b552"
      },
      "outputs": [
        {
          "output_type": "stream",
          "name": "stderr",
          "text": [
            "/usr/local/lib/python3.7/dist-packages/seaborn/distributions.py:2619: FutureWarning: `distplot` is a deprecated function and will be removed in a future version. Please adapt your code to use either `displot` (a figure-level function with similar flexibility) or `histplot` (an axes-level function for histograms).\n",
            "  warnings.warn(msg, FutureWarning)\n"
          ]
        },
        {
          "output_type": "display_data",
          "data": {
            "text/plain": [
              "<Figure size 432x288 with 1 Axes>"
            ],
            "image/png": "[encoded data removed]"
          },
          "metadata": {
            "needs_background": "light"
          }
        }
      ],
      "source": [
        "sns.distplot(dataset.text.str.len())\n",
        "plt.show()"
      ]
    },
    {
      "cell_type": "code",
      "execution_count": 44,
      "metadata": {
        "colab": {
          "base_uri": "https://localhost:8080/"
        },
        "id": "4kVtXO71kaZr",
        "outputId": "8c3580e6-e27c-4d31-b312-8222a124ceaf"
      },
      "outputs": [
        {
          "output_type": "execute_result",
          "data": {
            "text/plain": [
              "count    14640.000000\n",
              "mean       103.822063\n",
              "std         36.277339\n",
              "min         12.000000\n",
              "25%         77.000000\n",
              "50%        114.000000\n",
              "75%        136.000000\n",
              "max        186.000000\n",
              "Name: text, dtype: float64"
            ]
          },
          "metadata": {},
          "execution_count": 44
        }
      ],
      "source": [
        "dataset.text.str.len().describe()"
      ]
    },
    {
      "cell_type": "code",
      "execution_count": 45,
      "metadata": {
        "colab": {
          "base_uri": "https://localhost:8080/"
        },
        "id": "8eqVXQfk-rPE",
        "outputId": "ddf30e22-d23a-4937-8edc-6d052b4eb022"
      },
      "outputs": [
        {
          "output_type": "execute_result",
          "data": {
            "text/plain": [
              "0                  @VirginAmerica What @dhepburn said.\n",
              "1    @VirginAmerica plus added commercials experien...\n",
              "2    @VirginAmerica I today... Must mean I need tak...\n",
              "3    @VirginAmerica really aggressive blast obnoxio...\n",
              "4                  @VirginAmerica really big bad thing\n",
              "Name: text, dtype: object"
            ]
          },
          "metadata": {},
          "execution_count": 45
        }
      ],
      "source": [
        "STOPWORDS=stopwords.words('english')\n",
        "def cleaning_stopwords(text):\n",
        "    return \" \".join([word for word in str(text).split() if word not in STOPWORDS])\n",
        "data_text = data_text.apply(lambda text: cleaning_stopwords(text))\n",
        "data_text.head()"
      ]
    },
    {
      "cell_type": "code",
      "execution_count": 46,
      "metadata": {
        "colab": {
          "base_uri": "https://localhost:8080/"
        },
        "id": "b2OqSMHL_Kfa",
        "outputId": "ef79a1b0-dc1f-4324-f63f-f1838194f3c3"
      },
      "outputs": [
        {
          "output_type": "execute_result",
          "data": {
            "text/plain": [
              "0                     VirginAmerica What dhepburn said\n",
              "1    VirginAmerica plus added commercials experienc...\n",
              "2    VirginAmerica I today Must mean I need take an...\n",
              "3    VirginAmerica really aggressive blast obnoxiou...\n",
              "4                   VirginAmerica really big bad thing\n",
              "Name: text, dtype: object"
            ]
          },
          "metadata": {},
          "execution_count": 46
        }
      ],
      "source": [
        "import string\n",
        "english_punctuations = string.punctuation\n",
        "punctuations_list = english_punctuations\n",
        "def cleaning_punctuations(text):\n",
        "    translator = str.maketrans('', '', punctuations_list)\n",
        "    return text.translate(translator)\n",
        "data_text = data_text.apply(lambda x: cleaning_punctuations(x))\n",
        "data_text.head()"
      ]
    },
    {
      "cell_type": "code",
      "execution_count": 47,
      "metadata": {
        "colab": {
          "base_uri": "https://localhost:8080/"
        },
        "id": "GxEIcNyh_OOY",
        "outputId": "90be9f33-99a6-4735-eed3-be19ab412011"
      },
      "outputs": [
        {
          "output_type": "execute_result",
          "data": {
            "text/plain": [
              "0                     VirginAmerica What dhepburn said\n",
              "1    VirginAmerica plus added commercials experienc...\n",
              "2    VirginAmerica I today Must mean I need take an...\n",
              "3    VirginAmerica really aggressive blast obnoxiou...\n",
              "4                   VirginAmerica really big bad thing\n",
              "Name: text, dtype: object"
            ]
          },
          "metadata": {},
          "execution_count": 47
        }
      ],
      "source": [
        "def cleaning_repeating_char(text):\n",
        "    return re.sub(r'(.)1+', r'1', text)\n",
        "data_text = data_text.apply(lambda x: cleaning_repeating_char(x))\n",
        "data_text.head()"
      ]
    },
    {
      "cell_type": "code",
      "execution_count": 48,
      "metadata": {
        "colab": {
          "base_uri": "https://localhost:8080/"
        },
        "id": "9m2GTswG_Qm9",
        "outputId": "7b548a9e-2d07-4ae5-b967-d616f421ab79"
      },
      "outputs": [
        {
          "output_type": "execute_result",
          "data": {
            "text/plain": [
              "0                     VirginAmerica What dhepburn said\n",
              "1    VirginAmerica plus added commercials experienc...\n",
              "2    VirginAmerica I today Must mean I need take an...\n",
              "3    VirginAmerica really aggressive blast obnoxiou...\n",
              "4                   VirginAmerica really big bad thing\n",
              "Name: text, dtype: object"
            ]
          },
          "metadata": {},
          "execution_count": 48
        }
      ],
      "source": [
        "def cleaning_URLs(data):\n",
        "    return re.sub('((www.[^s]+)|(https?://[^s]+))',' ',data)\n",
        "data_text = data_text.apply(lambda x: cleaning_URLs(x))\n",
        "data_text.head()"
      ]
    },
    {
      "cell_type": "code",
      "execution_count": 49,
      "metadata": {
        "colab": {
          "base_uri": "https://localhost:8080/"
        },
        "id": "Qpdjj96r_Sqi",
        "outputId": "b44b93c4-5019-4909-abdb-71aa19f20e19"
      },
      "outputs": [
        {
          "output_type": "execute_result",
          "data": {
            "text/plain": [
              "0                     VirginAmerica What dhepburn said\n",
              "1    VirginAmerica plus added commercials experienc...\n",
              "2    VirginAmerica I today Must mean I need take an...\n",
              "3    VirginAmerica really aggressive blast obnoxiou...\n",
              "4                   VirginAmerica really big bad thing\n",
              "Name: text, dtype: object"
            ]
          },
          "metadata": {},
          "execution_count": 49
        }
      ],
      "source": [
        "def cleaning_numbers(data):\n",
        "    return re.sub('[0-9]+', '', data)\n",
        "data_text = data_text.apply(lambda x: cleaning_numbers(x))\n",
        "data_text.head()"
      ]
    },
    {
      "cell_type": "code",
      "execution_count": 50,
      "metadata": {
        "colab": {
          "base_uri": "https://localhost:8080/"
        },
        "id": "HGRF1bgf_Wmz",
        "outputId": "a593b8f9-505b-4c0d-bba2-6cb624120e8f"
      },
      "outputs": [
        {
          "output_type": "execute_result",
          "data": {
            "text/plain": [
              "0                     VirginAmerica What dhepburn said\n",
              "1    VirginAmerica plus added commercials experienc...\n",
              "2    VirginAmerica I today Must mean I need take an...\n",
              "3    VirginAmerica really aggressive blast obnoxiou...\n",
              "4                   VirginAmerica really big bad thing\n",
              "Name: text, dtype: object"
            ]
          },
          "metadata": {},
          "execution_count": 50
        }
      ],
      "source": [
        "st = nltk.PorterStemmer()\n",
        "def stemming_on_text(data):\n",
        "    text = [st.stem(word) for word in data]\n",
        "    return data\n",
        "data_text = data_text.apply(lambda x: stemming_on_text(x))\n",
        "data_text.head()"
      ]
    },
    {
      "cell_type": "code",
      "execution_count": 51,
      "metadata": {
        "colab": {
          "base_uri": "https://localhost:8080/"
        },
        "id": "b8wSKphl_XuI",
        "outputId": "c0786909-b2f1-4457-fdf2-bd74931f9d2f"
      },
      "outputs": [
        {
          "output_type": "execute_result",
          "data": {
            "text/plain": [
              "0                     VirginAmerica What dhepburn said\n",
              "1    VirginAmerica plus added commercials experienc...\n",
              "2    VirginAmerica I today Must mean I need take an...\n",
              "3    VirginAmerica really aggressive blast obnoxiou...\n",
              "4                   VirginAmerica really big bad thing\n",
              "Name: text, dtype: object"
            ]
          },
          "metadata": {},
          "execution_count": 51
        }
      ],
      "source": [
        "lm = nltk.WordNetLemmatizer()\n",
        "def lemmatizer_on_text(data):\n",
        "    text = [lm.lemmatize(word) for word in data]\n",
        "    return data\n",
        "data_text = data_text.apply(lambda x: lemmatizer_on_text(x))\n",
        "data_text.head()"
      ]
    },
    {
      "cell_type": "code",
      "execution_count": 52,
      "metadata": {
        "colab": {
          "base_uri": "https://localhost:8080/"
        },
        "id": "teW5ZsZbp3pL",
        "outputId": "c9371fe7-6d2e-419c-8686-06b87dcc28da"
      },
      "outputs": [
        {
          "output_type": "execute_result",
          "data": {
            "text/plain": [
              "0                     VirginAmerica What dhepburn said\n",
              "1    VirginAmerica plus added commercials experienc...\n",
              "2    VirginAmerica I today Must mean I need take an...\n",
              "3    VirginAmerica really aggressive blast obnoxiou...\n",
              "4                   VirginAmerica really big bad thing\n",
              "Name: text, dtype: object"
            ]
          },
          "metadata": {},
          "execution_count": 52
        }
      ],
      "source": [
        "X_train = data_text\n",
        "X_train.head()"
      ]
    },
    {
      "cell_type": "markdown",
      "source": [
        "MACHINE LEARNING"
      ],
      "metadata": {
        "id": "CT4i44vqehLa"
      }
    },
    {
      "cell_type": "code",
      "execution_count": 53,
      "metadata": {
        "id": "zV-_U5z__m4H",
        "colab": {
          "base_uri": "https://localhost:8080/"
        },
        "outputId": "df9e965f-bd23-4494-d5ae-ee2210612be9"
      },
      "outputs": [
        {
          "output_type": "stream",
          "name": "stdout",
          "text": [
            "Number of training examples: 11712\n",
            "Number of testing examples: 2928\n"
          ]
        }
      ],
      "source": [
        "train_X, test_X, y_train, y_test = train_test_split(X_train, dataset['airline_sentiment'], test_size=0.2, \n",
        "                                                    random_state=42, shuffle=True)\n",
        "\n",
        "print(f'Number of training examples: {len(train_X)}')\n",
        "print(f'Number of testing examples: {len(test_X)}')\n",
        "\n"
      ]
    },
    {
      "cell_type": "code",
      "execution_count": 54,
      "metadata": {
        "id": "xZ-jP-1fEg74",
        "colab": {
          "base_uri": "https://localhost:8080/"
        },
        "outputId": "1f461984-3b78-4e3a-a646-f3f835405ed2"
      },
      "outputs": [
        {
          "output_type": "stream",
          "name": "stdout",
          "text": [
            "Vectoriser fitted.\n",
            "No. of feature_words:  91295\n"
          ]
        },
        {
          "output_type": "stream",
          "name": "stderr",
          "text": [
            "/usr/local/lib/python3.7/dist-packages/sklearn/utils/deprecation.py:87: FutureWarning: Function get_feature_names is deprecated; get_feature_names is deprecated in 1.0 and will be removed in 1.2. Please use get_feature_names_out instead.\n",
            "  warnings.warn(msg, category=FutureWarning)\n"
          ]
        }
      ],
      "source": [
        "vectoriser = TfidfVectorizer(ngram_range=(1,2), max_features=500000)\n",
        "vectoriser.fit(train_X)\n",
        "print(f'Vectoriser fitted.')\n",
        "print('No. of feature_words: ', len(vectoriser.get_feature_names()))"
      ]
    },
    {
      "cell_type": "code",
      "execution_count": 55,
      "metadata": {
        "id": "V7dgSClFIlJi"
      },
      "outputs": [],
      "source": [
        "from sklearn.feature_extraction.text import CountVectorizer\n",
        "c = CountVectorizer(analyzer = 'word')\n",
        "#X_c = c.fit_transform(X)"
      ]
    },
    {
      "cell_type": "code",
      "execution_count": 56,
      "metadata": {
        "id": "5X9WQagrEa5E",
        "colab": {
          "base_uri": "https://localhost:8080/"
        },
        "outputId": "2d5d0946-4177-479f-a044-4c18be04d994"
      },
      "outputs": [
        {
          "output_type": "stream",
          "name": "stdout",
          "text": [
            "Data Transformed.\n"
          ]
        }
      ],
      "source": [
        "X_train = c.fit_transform(train_X)\n",
        "X_test  = c.transform(test_X)\n",
        "print(f'Data Transformed.')"
      ]
    },
    {
      "cell_type": "code",
      "execution_count": 57,
      "metadata": {
        "id": "O5BaeTJABoif"
      },
      "outputs": [],
      "source": [
        "from sklearn.linear_model import LogisticRegression\n",
        "from sklearn.neighbors import KNeighborsClassifier\n",
        "from sklearn.svm import SVC, LinearSVC, NuSVC\n",
        "from sklearn.tree import DecisionTreeClassifier\n",
        "from sklearn.ensemble import RandomForestClassifier, AdaBoostClassifier, GradientBoostingClassifier\n",
        "from sklearn.naive_bayes import GaussianNB\n",
        "from sklearn.discriminant_analysis import LinearDiscriminantAnalysis\n",
        "from sklearn.discriminant_analysis import QuadraticDiscriminantAnalysis\n",
        "from sklearn.metrics import accuracy_score\n",
        "from sklearn.naive_bayes import MultinomialNB\n",
        "from sklearn.naive_bayes import (\n",
        "    BernoulliNB,\n",
        "    ComplementNB,\n",
        "    MultinomialNB,\n",
        ")\n",
        "from sklearn.neighbors import KNeighborsClassifier\n",
        "from sklearn.tree import DecisionTreeClassifier\n",
        "from sklearn.ensemble import RandomForestClassifier, AdaBoostClassifier\n",
        "from sklearn.linear_model import LogisticRegression\n",
        "from sklearn.neural_network import MLPClassifier\n",
        "from sklearn.discriminant_analysis import QuadraticDiscriminantAnalysis\n",
        "from xgboost import XGBClassifier\n",
        "from sklearn.ensemble import GradientBoostingClassifier"
      ]
    },
    {
      "cell_type": "code",
      "execution_count": 58,
      "metadata": {
        "id": "xmDyRAqHBk7R"
      },
      "outputs": [],
      "source": [
        "model_params = {'random_state':50}\n",
        "LR =  LogisticRegression(**model_params,solver='liblinear')\n",
        "KN = KNeighborsClassifier()\n",
        "SVC = SVC(**model_params)\n",
        "Tree = DecisionTreeClassifier()\n",
        "Forest = RandomForestClassifier(**model_params)\n",
        "Ada = AdaBoostClassifier(**model_params)\n",
        "Gau = GaussianNB()\n",
        "BNB = BernoulliNB(alpha=2)\n",
        "MNB = MultinomialNB()\n",
        "CNB = ComplementNB()\n",
        "MLP = MLPClassifier(**model_params)\n",
        "xgb = XGBClassifier(**model_params)"
      ]
    },
    {
      "cell_type": "code",
      "execution_count": 59,
      "metadata": {
        "id": "sQCSqbOmBrZV"
      },
      "outputs": [],
      "source": [
        "a = BNB.fit(X_train, y_train)\n",
        "b = LR.fit(X_train, y_train)\n",
        "#c = KN.fit(X_train, y_train)\n",
        "#d = SVC.fit(X_train, y_train)\n",
        "#e = Tree.fit(X_train, y_train)\n",
        "#f = Forest.fit(X_train, y_train)\n",
        "#g = Ada.fit(X_train, y_train)\n",
        "j = MNB.fit(X_train, y_train)\n",
        "h = CNB.fit(X_train, y_train)\n",
        "#i = MLP.fit(X_train, y_train)\n",
        "#l = xgb.fit(X_train,y_train)"
      ]
    },
    {
      "cell_type": "code",
      "execution_count": 60,
      "metadata": {
        "id": "47QiNlx_Keye",
        "colab": {
          "base_uri": "https://localhost:8080/"
        },
        "outputId": "624a57b0-84a6-44be-cd4e-4b4fa3f6cef4"
      },
      "outputs": [
        {
          "output_type": "stream",
          "name": "stdout",
          "text": [
            "Train Accuracy using BernoulliNB:  0.7098702185792349\n",
            "Test Accuracy using BernoulliNB:  0.682035519125683\n",
            "Train Accuracy using Logistic Regression:  0.9236680327868853\n",
            "Accuracy using Logistic Regression:  0.8155737704918032\n",
            "Train Accuracy using MultimonialNB:  0.8505806010928961\n",
            "Accuracy using MultinomialNB:  0.780396174863388\n",
            "Train Accuracy using ComplementNB:  0.8769637978142076\n",
            "Accuracy using ComplementNB:  0.7937158469945356\n"
          ]
        }
      ],
      "source": [
        "print(\"Train Accuracy using BernoulliNB: \", BNB.score(X_train, y_train))\n",
        "pred_BNB = a.predict(X_test)\n",
        "accuracy = accuracy_score(y_test, pred_BNB)\n",
        "print(\"Test Accuracy using BernoulliNB: \", accuracy)\n",
        "\n",
        "print(\"Train Accuracy using Logistic Regression: \", LR.score(X_train, y_train))\n",
        "pred_LR = b.predict(X_test)\n",
        "accuracy = accuracy_score(pred_LR, y_test)\n",
        "print(\"Accuracy using Logistic Regression: \", accuracy)\n",
        "\n",
        "#print(KN.score(X_train, y_train))\n",
        "#pred = c.predict(X_test)\n",
        "#accuracy = accuracy_score(pred, y_test)\n",
        "#print(\"Accuracy using KNeighbors: \", accuracy)\n",
        "\n",
        "#print(SVC.score(X_train, y_train))\n",
        "#pred = d.predict(X_test)\n",
        "#accuracy = accuracy_score(pred, y_test)\n",
        "#print(\"Accuracy using Support Vector Classifier: \", accuracy)\n",
        "\n",
        "#print(Tree.score(X_train, y_train))\n",
        "#pred = e.predict(X_test)\n",
        "#accuracy = accuracy_score(pred, y_test)\n",
        "#print(\"Accuracy using Decision Tree: \", accuracy)\n",
        "\n",
        "#print(Forest.score(X_train, y_train))\n",
        "#pred = f.predict(X_test)\n",
        "#accuracy = accuracy_score(pred, y_test)\n",
        "#print(\"Accuracy using Random Forest: \", accuracy)\n",
        "\n",
        "#print(Ada.score(X_train, y_train))\n",
        "#pred = g.predict(X_test)\n",
        "#accuracy = accuracy_score(pred, y_test)\n",
        "#print(\"Accuracy using AdaBoost: \", accuracy)\n",
        "\n",
        "print(\"Train Accuracy using MultimonialNB: \", MNB.score(X_train, y_train))\n",
        "pred_MNB = j.predict(X_test)\n",
        "accuracy = accuracy_score(pred_MNB, y_test)\n",
        "print(\"Accuracy using MultinomialNB: \", accuracy)\n",
        "\n",
        "print(\"Train Accuracy using ComplementNB: \", CNB.score(X_train, y_train))\n",
        "pred_CNB = h.predict(X_test)\n",
        "accuracy = accuracy_score(pred_CNB, y_test)\n",
        "print(\"Accuracy using ComplementNB: \", accuracy)\n",
        "\n",
        "#print(MLP.score(X_train, y_train))\n",
        "#pred = i.predict(X_test)\n",
        "#accuracy = accuracy_score(pred, y_test)\n",
        "#print(\"Accuracy using MLP Classifier: \", accuracy)\n",
        "\n",
        "#print(xgb.score(X_train, y_train))\n",
        "#pred = l.predict(X_test)\n",
        "#accuracy = accuracy_score(pred, y_test)\n",
        "#print(\"Accuracy using XGBClassifier: \", accuracy)"
      ]
    },
    {
      "cell_type": "code",
      "source": [
        "cr = classification_report(y_test, pred_LR)\n",
        "\n",
        "print(\"Classification Report:\\n----------------------\\n\", cr)\n",
        "\n",
        "cm = confusion_matrix(y_test,pred_LR)\n",
        "\n",
        "\n",
        "# plot confusion matrix \n",
        "plt.figure(figsize=(8,6))\n",
        "sentiment_classes = ['Negative', 'Neutral', 'Positive']\n",
        "sns.heatmap(cm, cmap=plt.cm.Blues, annot=True, fmt='d', \n",
        "            xticklabels=sentiment_classes,\n",
        "            yticklabels=sentiment_classes)\n",
        "plt.title('Confusion matrix', fontsize=16)\n",
        "plt.xlabel('Actual label', fontsize=12)\n",
        "plt.ylabel('Predicted label', fontsize=12)\n",
        "plt.show()\n"
      ],
      "metadata": {
        "colab": {
          "base_uri": "https://localhost:8080/",
          "height": 621
        },
        "id": "MjgooyQER9Wt",
        "outputId": "3b6e91da-c0b2-45b7-cc91-6274db125c7c"
      },
      "execution_count": 61,
      "outputs": [
        {
          "output_type": "stream",
          "name": "stdout",
          "text": [
            "Classification Report:\n",
            "----------------------\n",
            "               precision    recall  f1-score   support\n",
            "\n",
            "          -1       0.86      0.92      0.89      1889\n",
            "           0       0.67      0.58      0.62       580\n",
            "           1       0.77      0.69      0.73       459\n",
            "\n",
            "    accuracy                           0.82      2928\n",
            "   macro avg       0.77      0.73      0.75      2928\n",
            "weighted avg       0.81      0.82      0.81      2928\n",
            "\n"
          ]
        },
        {
          "output_type": "display_data",
          "data": {
            "text/plain": [
              "<Figure size 576x432 with 2 Axes>"
            ],
            "image/png": "[encoded data removed]"
          },
          "metadata": {
            "needs_background": "light"
          }
        }
      ]
    },
    {
      "cell_type": "markdown",
      "source": [
        "LEXICON VADER"
      ],
      "metadata": {
        "id": "dwHsNFneetuB"
      }
    },
    {
      "cell_type": "code",
      "source": [
        "import nltk\n",
        "nltk.download('vader_lexicon')\n",
        "from nltk.sentiment.vader import SentimentIntensityAnalyzer"
      ],
      "metadata": {
        "colab": {
          "base_uri": "https://localhost:8080/"
        },
        "id": "j1qyV0EH2afZ",
        "outputId": "09335b24-eb9d-49be-cc1e-57fa6c625acd"
      },
      "execution_count": 62,
      "outputs": [
        {
          "output_type": "stream",
          "name": "stdout",
          "text": [
            "[nltk_data] Downloading package vader_lexicon to /root/nltk_data...\n",
            "[nltk_data]   Package vader_lexicon is already up-to-date!\n"
          ]
        }
      ]
    },
    {
      "cell_type": "code",
      "source": [
        "analyzer = SentimentIntensityAnalyzer()\n",
        "scores = [analyzer.polarity_scores(tweet)['compound'] for tweet in dataset['text'].values.tolist()]\n",
        "#len(scores) = len(dataset)\n",
        "dataset['sentiment'] = scores"
      ],
      "metadata": {
        "id": "oU5zPLSH2hFP"
      },
      "execution_count": 63,
      "outputs": []
    },
    {
      "cell_type": "code",
      "source": [
        "dataset.loc[dataset['sentiment'] == 0, 'final_sentiment'] = 0\n",
        "dataset.loc[dataset['sentiment'] > 0, 'final_sentiment'] = 1\n",
        "dataset.loc[dataset['sentiment'] < 0, 'final_sentiment'] = -1\n",
        "dataset.head()\n"
      ],
      "metadata": {
        "colab": {
          "base_uri": "https://localhost:8080/",
          "height": 496
        },
        "id": "QEPnRe4I5AZ7",
        "outputId": "db9f469b-8706-496b-ebfb-bc0d4e53a8e9"
      },
      "execution_count": 64,
      "outputs": [
        {
          "output_type": "execute_result",
          "data": {
            "text/plain": [
              "             tweet_id  airline_sentiment airline_sentiment_confidence  \\\n",
              "0  570306133677760513                  0                          1.0   \n",
              "1  570301130888122368                  1                       0.3486   \n",
              "2  570301083672813571                  0                       0.6837   \n",
              "3  570301031407624196                 -1                          1.0   \n",
              "4  570300817074462722                 -1                          1.0   \n",
              "\n",
              "  negativereason negativereason_confidence         airline  \\\n",
              "0           None                      None  Virgin America   \n",
              "1           None                       0.0  Virgin America   \n",
              "2           None                      None  Virgin America   \n",
              "3     Bad Flight                    0.7033  Virgin America   \n",
              "4     Can't Tell                       1.0  Virgin America   \n",
              "\n",
              "  airline_sentiment_gold        name negativereason_gold retweetcount  \\\n",
              "0                   None     cairdin                None            0   \n",
              "1                   None    jnardino                None            0   \n",
              "2                   None  yvonnalynn                None            0   \n",
              "3                   None    jnardino                None            0   \n",
              "4                   None    jnardino                None            0   \n",
              "\n",
              "                                                text tweet_coord  \\\n",
              "0                @VirginAmerica What @dhepburn said.        None   \n",
              "1  @VirginAmerica plus you've added commercials t...        None   \n",
              "2  @VirginAmerica I didn't today... Must mean I n...        None   \n",
              "3  @VirginAmerica it's really aggressive to blast...        None   \n",
              "4  @VirginAmerica and it's a really big bad thing...        None   \n",
              "\n",
              "               tweet_created tweet_location               user_timezone  \\\n",
              "0  2015-02-24 11:35:52 -0800           None  Eastern Time (US & Canada)   \n",
              "1  2015-02-24 11:15:59 -0800           None  Pacific Time (US & Canada)   \n",
              "2  2015-02-24 11:15:48 -0800      Lets Play  Central Time (US & Canada)   \n",
              "3  2015-02-24 11:15:36 -0800           None  Pacific Time (US & Canada)   \n",
              "4  2015-02-24 11:14:45 -0800           None  Pacific Time (US & Canada)   \n",
              "\n",
              "   sentiment  final_sentiment  \n",
              "0     0.0000              0.0  \n",
              "1     0.0000              0.0  \n",
              "2     0.0000              0.0  \n",
              "3    -0.5984             -1.0  \n",
              "4    -0.5829             -1.0  "
            ],
            "text/html": [
              "\n",
              "  <div id=\"df-ef113d5b-5e78-4dd0-af18-e5ea9259c8de\">\n",
              "    <div class=\"colab-df-container\">\n",
              "      <div>\n",
              "<style scoped>\n",
              "    .dataframe tbody tr th:only-of-type {\n",
              "        vertical-align: middle;\n",
              "    }\n",
              "\n",
              "    .dataframe tbody tr th {\n",
              "        vertical-align: top;\n",
              "    }\n",
              "\n",
              "    .dataframe thead th {\n",
              "        text-align: right;\n",
              "    }\n",
              "</style>\n",
              "<table border=\"1\" class=\"dataframe\">\n",
              "  <thead>\n",
              "    <tr style=\"text-align: right;\">\n",
              "      <th></th>\n",
              "      <th>tweet_id</th>\n",
              "      <th>airline_sentiment</th>\n",
              "      <th>airline_sentiment_confidence</th>\n",
              "      <th>negativereason</th>\n",
              "      <th>negativereason_confidence</th>\n",
              "      <th>airline</th>\n",
              "      <th>airline_sentiment_gold</th>\n",
              "      <th>name</th>\n",
              "      <th>negativereason_gold</th>\n",
              "      <th>retweetcount</th>\n",
              "      <th>text</th>\n",
              "      <th>tweet_coord</th>\n",
              "      <th>tweet_created</th>\n",
              "      <th>tweet_location</th>\n",
              "      <th>user_timezone</th>\n",
              "      <th>sentiment</th>\n",
              "      <th>final_sentiment</th>\n",
              "    </tr>\n",
              "  </thead>\n",
              "  <tbody>\n",
              "    <tr>\n",
              "      <th>0</th>\n",
              "      <td>570306133677760513</td>\n",
              "      <td>0</td>\n",
              "      <td>1.0</td>\n",
              "      <td>None</td>\n",
              "      <td>None</td>\n",
              "      <td>Virgin America</td>\n",
              "      <td>None</td>\n",
              "      <td>cairdin</td>\n",
              "      <td>None</td>\n",
              "      <td>0</td>\n",
              "      <td>@VirginAmerica What @dhepburn said.</td>\n",
              "      <td>None</td>\n",
              "      <td>2015-02-24 11:35:52 -0800</td>\n",
              "      <td>None</td>\n",
              "      <td>Eastern Time (US &amp; Canada)</td>\n",
              "      <td>0.0000</td>\n",
              "      <td>0.0</td>\n",
              "    </tr>\n",
              "    <tr>\n",
              "      <th>1</th>\n",
              "      <td>570301130888122368</td>\n",
              "      <td>1</td>\n",
              "      <td>0.3486</td>\n",
              "      <td>None</td>\n",
              "      <td>0.0</td>\n",
              "      <td>Virgin America</td>\n",
              "      <td>None</td>\n",
              "      <td>jnardino</td>\n",
              "      <td>None</td>\n",
              "      <td>0</td>\n",
              "      <td>@VirginAmerica plus you've added commercials t...</td>\n",
              "      <td>None</td>\n",
              "      <td>2015-02-24 11:15:59 -0800</td>\n",
              "      <td>None</td>\n",
              "      <td>Pacific Time (US &amp; Canada)</td>\n",
              "      <td>0.0000</td>\n",
              "      <td>0.0</td>\n",
              "    </tr>\n",
              "    <tr>\n",
              "      <th>2</th>\n",
              "      <td>570301083672813571</td>\n",
              "      <td>0</td>\n",
              "      <td>0.6837</td>\n",
              "      <td>None</td>\n",
              "      <td>None</td>\n",
              "      <td>Virgin America</td>\n",
              "      <td>None</td>\n",
              "      <td>yvonnalynn</td>\n",
              "      <td>None</td>\n",
              "      <td>0</td>\n",
              "      <td>@VirginAmerica I didn't today... Must mean I n...</td>\n",
              "      <td>None</td>\n",
              "      <td>2015-02-24 11:15:48 -0800</td>\n",
              "      <td>Lets Play</td>\n",
              "      <td>Central Time (US &amp; Canada)</td>\n",
              "      <td>0.0000</td>\n",
              "      <td>0.0</td>\n",
              "    </tr>\n",
              "    <tr>\n",
              "      <th>3</th>\n",
              "      <td>570301031407624196</td>\n",
              "      <td>-1</td>\n",
              "      <td>1.0</td>\n",
              "      <td>Bad Flight</td>\n",
              "      <td>0.7033</td>\n",
              "      <td>Virgin America</td>\n",
              "      <td>None</td>\n",
              "      <td>jnardino</td>\n",
              "      <td>None</td>\n",
              "      <td>0</td>\n",
              "      <td>@VirginAmerica it's really aggressive to blast...</td>\n",
              "      <td>None</td>\n",
              "      <td>2015-02-24 11:15:36 -0800</td>\n",
              "      <td>None</td>\n",
              "      <td>Pacific Time (US &amp; Canada)</td>\n",
              "      <td>-0.5984</td>\n",
              "      <td>-1.0</td>\n",
              "    </tr>\n",
              "    <tr>\n",
              "      <th>4</th>\n",
              "      <td>570300817074462722</td>\n",
              "      <td>-1</td>\n",
              "      <td>1.0</td>\n",
              "      <td>Can't Tell</td>\n",
              "      <td>1.0</td>\n",
              "      <td>Virgin America</td>\n",
              "      <td>None</td>\n",
              "      <td>jnardino</td>\n",
              "      <td>None</td>\n",
              "      <td>0</td>\n",
              "      <td>@VirginAmerica and it's a really big bad thing...</td>\n",
              "      <td>None</td>\n",
              "      <td>2015-02-24 11:14:45 -0800</td>\n",
              "      <td>None</td>\n",
              "      <td>Pacific Time (US &amp; Canada)</td>\n",
              "      <td>-0.5829</td>\n",
              "      <td>-1.0</td>\n",
              "    </tr>\n",
              "  </tbody>\n",
              "</table>\n",
              "</div>\n",
              "      <button class=\"colab-df-convert\" onclick=\"convertToInteractive('df-ef113d5b-5e78-4dd0-af18-e5ea9259c8de')\"\n",
              "              title=\"Convert this dataframe to an interactive table.\"\n",
              "              style=\"display:none;\">\n",
              "        \n",
              "  <svg xmlns=\"http://www.w3.org/2000/svg\" height=\"24px\"viewBox=\"0 0 24 24\"\n",
              "       width=\"24px\">\n",
              "    <path d=\"M0 0h24v24H0V0z\" fill=\"none\"/>\n",
              "    <path d=\"M18.56 5.44l.94 2.06.94-2.06 2.06-.94-2.06-.94-.94-2.06-.94 2.06-2.06.94zm-11 1L8.5 8.5l.94-2.06 2.06-.94-2.06-.94L8.5 2.5l-.94 2.06-2.06.94zm10 10l.94 2.06.94-2.06 2.06-.94-2.06-.94-.94-2.06-.94 2.06-2.06.94z\"/><path d=\"M17.41 7.96l-1.37-1.37c-.4-.4-.92-.59-1.43-.59-.52 0-1.04.2-1.43.59L10.3 9.45l-7.72 7.72c-.78.78-.78 2.05 0 2.83L4 21.41c.39.39.9.59 1.41.59.51 0 1.02-.2 1.41-.59l7.78-7.78 2.81-2.81c.8-.78.8-2.07 0-2.86zM5.41 20L4 18.59l7.72-7.72 1.47 1.35L5.41 20z\"/>\n",
              "  </svg>\n",
              "      </button>\n",
              "      \n",
              "  <style>\n",
              "    .colab-df-container {\n",
              "      display:flex;\n",
              "      flex-wrap:wrap;\n",
              "      gap: 12px;\n",
              "    }\n",
              "\n",
              "    .colab-df-convert {\n",
              "      background-color: #E8F0FE;\n",
              "      border: none;\n",
              "      border-radius: 50%;\n",
              "      cursor: pointer;\n",
              "      display: none;\n",
              "      fill: #1967D2;\n",
              "      height: 32px;\n",
              "      padding: 0 0 0 0;\n",
              "      width: 32px;\n",
              "    }\n",
              "\n",
              "    .colab-df-convert:hover {\n",
              "      background-color: #E2EBFA;\n",
              "      box-shadow: 0px 1px 2px rgba(60, 64, 67, 0.3), 0px 1px 3px 1px rgba(60, 64, 67, 0.15);\n",
              "      fill: #174EA6;\n",
              "    }\n",
              "\n",
              "    [theme=dark] .colab-df-convert {\n",
              "      background-color: #3B4455;\n",
              "      fill: #D2E3FC;\n",
              "    }\n",
              "\n",
              "    [theme=dark] .colab-df-convert:hover {\n",
              "      background-color: #434B5C;\n",
              "      box-shadow: 0px 1px 3px 1px rgba(0, 0, 0, 0.15);\n",
              "      filter: drop-shadow(0px 1px 2px rgba(0, 0, 0, 0.3));\n",
              "      fill: #FFFFFF;\n",
              "    }\n",
              "  </style>\n",
              "\n",
              "      <script>\n",
              "        const buttonEl =\n",
              "          document.querySelector('#df-ef113d5b-5e78-4dd0-af18-e5ea9259c8de button.colab-df-convert');\n",
              "        buttonEl.style.display =\n",
              "          google.colab.kernel.accessAllowed ? 'block' : 'none';\n",
              "\n",
              "        async function convertToInteractive(key) {\n",
              "          const element = document.querySelector('#df-ef113d5b-5e78-4dd0-af18-e5ea9259c8de');\n",
              "          const dataTable =\n",
              "            await google.colab.kernel.invokeFunction('convertToInteractive',\n",
              "                                                     [key], {});\n",
              "          if (!dataTable) return;\n",
              "\n",
              "          const docLinkHtml = 'Like what you see? Visit the ' +\n",
              "            '<a target=\"_blank\" href=https://colab.research.google.com/notebooks/data_table.ipynb>data table notebook</a>'\n",
              "            + ' to learn more about interactive tables.';\n",
              "          element.innerHTML = '';\n",
              "          dataTable['output_type'] = 'display_data';\n",
              "          await google.colab.output.renderOutput(dataTable, element);\n",
              "          const docLink = document.createElement('div');\n",
              "          docLink.innerHTML = docLinkHtml;\n",
              "          element.appendChild(docLink);\n",
              "        }\n",
              "      </script>\n",
              "    </div>\n",
              "  </div>\n",
              "  "
            ]
          },
          "metadata": {},
          "execution_count": 64
        }
      ]
    },
    {
      "cell_type": "code",
      "source": [
        "from sklearn.metrics import accuracy_score\n",
        "\n",
        "y_act = dataset['airline_sentiment'].values\n",
        "y_pred = dataset['final_sentiment'].values\n",
        "\n",
        "accuracy_score(y_act, y_pred)"
      ],
      "metadata": {
        "colab": {
          "base_uri": "https://localhost:8080/"
        },
        "id": "_BGFs4hSWdH3",
        "outputId": "02d36abe-8466-4b86-cb92-e61b525ccbe9"
      },
      "execution_count": 65,
      "outputs": [
        {
          "output_type": "execute_result",
          "data": {
            "text/plain": [
              "0.5465163934426229"
            ]
          },
          "metadata": {},
          "execution_count": 65
        }
      ]
    },
    {
      "cell_type": "code",
      "source": [
        "cr = classification_report(y_act, y_pred)\n",
        "\n",
        "print(\"Classification Report:\\n----------------------\\n\", cr)\n",
        "\n",
        "cm = confusion_matrix(y_test,pred_LR)\n",
        "\n",
        "plt.figure(figsize=(8,6))\n",
        "sentiment_classes = ['Negative', 'Neutral', 'Positive', 'News']\n",
        "sns.heatmap(cm, cmap=plt.cm.Blues, annot=True, fmt='d', \n",
        "            xticklabels=sentiment_classes,\n",
        "            yticklabels=sentiment_classes)\n",
        "plt.title('Confusion matrix', fontsize=16)\n",
        "plt.xlabel('Actual label', fontsize=12)\n",
        "plt.ylabel('Predicted label', fontsize=12)\n",
        "plt.show()\n"
      ],
      "metadata": {
        "colab": {
          "base_uri": "https://localhost:8080/",
          "height": 621
        },
        "id": "dwAmvlTRzENo",
        "outputId": "ceb256d1-e6da-4578-dd31-290698b32b6f"
      },
      "execution_count": 66,
      "outputs": [
        {
          "output_type": "stream",
          "name": "stdout",
          "text": [
            "Classification Report:\n",
            "----------------------\n",
            "               precision    recall  f1-score   support\n",
            "\n",
            "          -1       0.90      0.50      0.65      9178\n",
            "           0       0.40      0.42      0.41      3099\n",
            "           1       0.33      0.87      0.48      2363\n",
            "\n",
            "    accuracy                           0.55     14640\n",
            "   macro avg       0.54      0.60      0.51     14640\n",
            "weighted avg       0.70      0.55      0.57     14640\n",
            "\n"
          ]
        },
        {
          "output_type": "display_data",
          "data": {
            "text/plain": [
              "<Figure size 576x432 with 2 Axes>"
            ],
            "image/png": "[encoded data removed]"
          },
          "metadata": {
            "needs_background": "light"
          }
        }
      ]
    }
  ],
  "metadata": {
    "colab": {
      "collapsed_sections": [],
      "name": "US Airlines_Economical.ipynb",
      "provenance": []
    },
    "kernelspec": {
      "display_name": "Python 3",
      "name": "python3"
    },
    "language_info": {
      "name": "python"
    }
  },
  "nbformat": 4,
  "nbformat_minor": 0
}