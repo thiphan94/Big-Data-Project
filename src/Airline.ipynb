{
 "cells": [
  {
   "cell_type": "markdown",
   "id": "159f2a87-395c-410b-bea2-b31bd3a88ee8",
   "metadata": {},
   "source": [
    "### **Dataset:** \n",
    "Sentiment140 : discover the sentiment of a brand, product, or topic on Twitter.: http://help.sentiment140.com/for-students\n",
    "    "
   ]
  },
  {
   "cell_type": "markdown",
   "id": "c87edc2b-8131-4556-8be6-dda103c2430f",
   "metadata": {},
   "source": [
    "### **Read data** "
   ]
  },
  {
   "cell_type": "markdown",
   "id": "a7b7e3c4-e47e-446b-8d18-7ebb7e086f04",
   "metadata": {},
   "source": [
    "#### Import librairies"
   ]
  },
  {
   "cell_type": "code",
   "execution_count": 1,
   "id": "229ea746-1e84-4556-94b9-1b124102c8ee",
   "metadata": {},
   "outputs": [],
   "source": [
    "# utilities\n",
    "import re\n",
    "import numpy as np\n",
    "import pandas as pd\n",
    "# plotting\n",
    "import seaborn as sns\n",
    "from wordcloud import WordCloud\n",
    "import matplotlib.pyplot as plt\n",
    "# nltk\n",
    "from nltk.stem import WordNetLemmatizer\n",
    "# sklearn\n",
    "from sklearn.svm import LinearSVC\n",
    "from sklearn.naive_bayes import BernoulliNB\n",
    "from sklearn.linear_model import LogisticRegression\n",
    "from sklearn.model_selection import train_test_split\n",
    "from sklearn.feature_extraction.text import TfidfVectorizer\n",
    "from sklearn.metrics import confusion_matrix, classification_report\n",
    "import pandas as pd\n",
    "from termcolor import colored"
   ]
  },
  {
   "cell_type": "markdown",
   "id": "b1513e07-c314-4545-86d4-2b0512be7c4a",
   "metadata": {},
   "source": [
    "#### Load data"
   ]
  },
  {
   "cell_type": "code",
   "execution_count": 4,
   "id": "6c085c07-773c-4026-a27e-59e4763e6b8b",
   "metadata": {},
   "outputs": [
    {
     "data": {
      "text/html": [
       "<div>\n",
       "<style scoped>\n",
       "    .dataframe tbody tr th:only-of-type {\n",
       "        vertical-align: middle;\n",
       "    }\n",
       "\n",
       "    .dataframe tbody tr th {\n",
       "        vertical-align: top;\n",
       "    }\n",
       "\n",
       "    .dataframe thead th {\n",
       "        text-align: right;\n",
       "    }\n",
       "</style>\n",
       "<table border=\"1\" class=\"dataframe\">\n",
       "  <thead>\n",
       "    <tr style=\"text-align: right;\">\n",
       "      <th></th>\n",
       "      <th>tweet_id</th>\n",
       "      <th>airline_sentiment</th>\n",
       "      <th>airline_sentiment_confidence</th>\n",
       "      <th>negativereason</th>\n",
       "      <th>negativereason_confidence</th>\n",
       "      <th>airline</th>\n",
       "      <th>airline_sentiment_gold</th>\n",
       "      <th>name</th>\n",
       "      <th>negativereason_gold</th>\n",
       "      <th>retweet_count</th>\n",
       "      <th>text</th>\n",
       "      <th>tweet_coord</th>\n",
       "      <th>tweet_created</th>\n",
       "      <th>tweet_location</th>\n",
       "      <th>user_timezone</th>\n",
       "    </tr>\n",
       "  </thead>\n",
       "  <tbody>\n",
       "    <tr>\n",
       "      <th>145</th>\n",
       "      <td>569609971383586817</td>\n",
       "      <td>negative</td>\n",
       "      <td>1.0000</td>\n",
       "      <td>Cancelled Flight</td>\n",
       "      <td>1.0000</td>\n",
       "      <td>Virgin America</td>\n",
       "      <td>NaN</td>\n",
       "      <td>mlorenzen</td>\n",
       "      <td>NaN</td>\n",
       "      <td>0</td>\n",
       "      <td>@VirginAmerica I paid the premium to fly you a...</td>\n",
       "      <td>NaN</td>\n",
       "      <td>2015-02-22 13:29:34 -0800</td>\n",
       "      <td>iPhone: 29.741360,-90.131523</td>\n",
       "      <td>Pacific Time (US &amp; Canada)</td>\n",
       "    </tr>\n",
       "    <tr>\n",
       "      <th>5979</th>\n",
       "      <td>568448265441554432</td>\n",
       "      <td>negative</td>\n",
       "      <td>1.0000</td>\n",
       "      <td>Flight Attendant Complaints</td>\n",
       "      <td>0.6559</td>\n",
       "      <td>Southwest</td>\n",
       "      <td>NaN</td>\n",
       "      <td>erin_gilley</td>\n",
       "      <td>NaN</td>\n",
       "      <td>0</td>\n",
       "      <td>@SouthwestAir RUDE gate agent. Wholly unaccept...</td>\n",
       "      <td>NaN</td>\n",
       "      <td>2015-02-19 08:33:22 -0800</td>\n",
       "      <td>NaN</td>\n",
       "      <td>NaN</td>\n",
       "    </tr>\n",
       "    <tr>\n",
       "      <th>3345</th>\n",
       "      <td>568508151852457985</td>\n",
       "      <td>negative</td>\n",
       "      <td>0.3401</td>\n",
       "      <td>Late Flight</td>\n",
       "      <td>0.3401</td>\n",
       "      <td>United</td>\n",
       "      <td>NaN</td>\n",
       "      <td>jttorrey</td>\n",
       "      <td>NaN</td>\n",
       "      <td>0</td>\n",
       "      <td>@united As it always is. Helps to communicate ...</td>\n",
       "      <td>NaN</td>\n",
       "      <td>2015-02-19 12:31:20 -0800</td>\n",
       "      <td>NaN</td>\n",
       "      <td>Pacific Time (US &amp; Canada)</td>\n",
       "    </tr>\n",
       "    <tr>\n",
       "      <th>6878</th>\n",
       "      <td>570066859330019329</td>\n",
       "      <td>negative</td>\n",
       "      <td>0.6570</td>\n",
       "      <td>Can't Tell</td>\n",
       "      <td>0.6570</td>\n",
       "      <td>Delta</td>\n",
       "      <td>NaN</td>\n",
       "      <td>djcheros</td>\n",
       "      <td>NaN</td>\n",
       "      <td>0</td>\n",
       "      <td>@JetBlue you can do better than this. And you ...</td>\n",
       "      <td>NaN</td>\n",
       "      <td>2015-02-23 19:45:05 -0800</td>\n",
       "      <td>Portland, Maine</td>\n",
       "      <td>Eastern Time (US &amp; Canada)</td>\n",
       "    </tr>\n",
       "    <tr>\n",
       "      <th>10279</th>\n",
       "      <td>569400188491730945</td>\n",
       "      <td>negative</td>\n",
       "      <td>1.0000</td>\n",
       "      <td>Cancelled Flight</td>\n",
       "      <td>0.6201</td>\n",
       "      <td>US Airways</td>\n",
       "      <td>NaN</td>\n",
       "      <td>JabbarLewis</td>\n",
       "      <td>NaN</td>\n",
       "      <td>0</td>\n",
       "      <td>@USAirways my flight is Cancelled Flightled an...</td>\n",
       "      <td>NaN</td>\n",
       "      <td>2015-02-21 23:35:58 -0800</td>\n",
       "      <td>Little Falls, NJ</td>\n",
       "      <td>Central Time (US &amp; Canada)</td>\n",
       "    </tr>\n",
       "  </tbody>\n",
       "</table>\n",
       "</div>"
      ],
      "text/plain": [
       "                 tweet_id airline_sentiment  airline_sentiment_confidence  \\\n",
       "145    569609971383586817          negative                        1.0000   \n",
       "5979   568448265441554432          negative                        1.0000   \n",
       "3345   568508151852457985          negative                        0.3401   \n",
       "6878   570066859330019329          negative                        0.6570   \n",
       "10279  569400188491730945          negative                        1.0000   \n",
       "\n",
       "                    negativereason  negativereason_confidence         airline  \\\n",
       "145               Cancelled Flight                     1.0000  Virgin America   \n",
       "5979   Flight Attendant Complaints                     0.6559       Southwest   \n",
       "3345                   Late Flight                     0.3401          United   \n",
       "6878                    Can't Tell                     0.6570           Delta   \n",
       "10279             Cancelled Flight                     0.6201      US Airways   \n",
       "\n",
       "      airline_sentiment_gold         name negativereason_gold  retweet_count  \\\n",
       "145                      NaN    mlorenzen                 NaN              0   \n",
       "5979                     NaN  erin_gilley                 NaN              0   \n",
       "3345                     NaN     jttorrey                 NaN              0   \n",
       "6878                     NaN     djcheros                 NaN              0   \n",
       "10279                    NaN  JabbarLewis                 NaN              0   \n",
       "\n",
       "                                                    text tweet_coord  \\\n",
       "145    @VirginAmerica I paid the premium to fly you a...         NaN   \n",
       "5979   @SouthwestAir RUDE gate agent. Wholly unaccept...         NaN   \n",
       "3345   @united As it always is. Helps to communicate ...         NaN   \n",
       "6878   @JetBlue you can do better than this. And you ...         NaN   \n",
       "10279  @USAirways my flight is Cancelled Flightled an...         NaN   \n",
       "\n",
       "                   tweet_created                tweet_location  \\\n",
       "145    2015-02-22 13:29:34 -0800  iPhone: 29.741360,-90.131523   \n",
       "5979   2015-02-19 08:33:22 -0800                           NaN   \n",
       "3345   2015-02-19 12:31:20 -0800                           NaN   \n",
       "6878   2015-02-23 19:45:05 -0800               Portland, Maine   \n",
       "10279  2015-02-21 23:35:58 -0800              Little Falls, NJ   \n",
       "\n",
       "                    user_timezone  \n",
       "145    Pacific Time (US & Canada)  \n",
       "5979                          NaN  \n",
       "3345   Pacific Time (US & Canada)  \n",
       "6878   Eastern Time (US & Canada)  \n",
       "10279  Central Time (US & Canada)  "
      ]
     },
     "execution_count": 4,
     "metadata": {},
     "output_type": "execute_result"
    }
   ],
   "source": [
    "# Read dataset\n",
    "dataset = pd.read_csv('Tweets.csv')\n",
    "dataset.sample(5)"
   ]
  },
  {
   "cell_type": "markdown",
   "id": "d109cfcd-8163-46c3-996c-254385d8620e",
   "metadata": {
    "tags": []
   },
   "source": [
    "#### Shape and information of dataset"
   ]
  },
  {
   "cell_type": "code",
   "execution_count": 5,
   "id": "f447301e-7580-4fd9-bc66-389c26ac240e",
   "metadata": {},
   "outputs": [
    {
     "data": {
      "text/plain": [
       "(14640, 15)"
      ]
     },
     "execution_count": 5,
     "metadata": {},
     "output_type": "execute_result"
    }
   ],
   "source": [
    "dataset.shape"
   ]
  },
  {
   "cell_type": "code",
   "execution_count": 6,
   "id": "95d57216-0006-4c85-9b8e-29bd41ef688d",
   "metadata": {},
   "outputs": [
    {
     "data": {
      "text/plain": [
       "<bound method DataFrame.info of                  tweet_id airline_sentiment  airline_sentiment_confidence  \\\n",
       "0      570306133677760513           neutral                        1.0000   \n",
       "1      570301130888122368          positive                        0.3486   \n",
       "2      570301083672813571           neutral                        0.6837   \n",
       "3      570301031407624196          negative                        1.0000   \n",
       "4      570300817074462722          negative                        1.0000   \n",
       "...                   ...               ...                           ...   \n",
       "14635  569587686496825344          positive                        0.3487   \n",
       "14636  569587371693355008          negative                        1.0000   \n",
       "14637  569587242672398336           neutral                        1.0000   \n",
       "14638  569587188687634433          negative                        1.0000   \n",
       "14639  569587140490866689           neutral                        0.6771   \n",
       "\n",
       "               negativereason  negativereason_confidence         airline  \\\n",
       "0                         NaN                        NaN  Virgin America   \n",
       "1                         NaN                     0.0000  Virgin America   \n",
       "2                         NaN                        NaN  Virgin America   \n",
       "3                  Bad Flight                     0.7033  Virgin America   \n",
       "4                  Can't Tell                     1.0000  Virgin America   \n",
       "...                       ...                        ...             ...   \n",
       "14635                     NaN                     0.0000        American   \n",
       "14636  Customer Service Issue                     1.0000        American   \n",
       "14637                     NaN                        NaN        American   \n",
       "14638  Customer Service Issue                     0.6659        American   \n",
       "14639                     NaN                     0.0000        American   \n",
       "\n",
       "      airline_sentiment_gold             name negativereason_gold  \\\n",
       "0                        NaN          cairdin                 NaN   \n",
       "1                        NaN         jnardino                 NaN   \n",
       "2                        NaN       yvonnalynn                 NaN   \n",
       "3                        NaN         jnardino                 NaN   \n",
       "4                        NaN         jnardino                 NaN   \n",
       "...                      ...              ...                 ...   \n",
       "14635                    NaN  KristenReenders                 NaN   \n",
       "14636                    NaN         itsropes                 NaN   \n",
       "14637                    NaN         sanyabun                 NaN   \n",
       "14638                    NaN       SraJackson                 NaN   \n",
       "14639                    NaN        daviddtwu                 NaN   \n",
       "\n",
       "       retweet_count                                               text  \\\n",
       "0                  0                @VirginAmerica What @dhepburn said.   \n",
       "1                  0  @VirginAmerica plus you've added commercials t...   \n",
       "2                  0  @VirginAmerica I didn't today... Must mean I n...   \n",
       "3                  0  @VirginAmerica it's really aggressive to blast...   \n",
       "4                  0  @VirginAmerica and it's a really big bad thing...   \n",
       "...              ...                                                ...   \n",
       "14635              0  @AmericanAir thank you we got on a different f...   \n",
       "14636              0  @AmericanAir leaving over 20 minutes Late Flig...   \n",
       "14637              0  @AmericanAir Please bring American Airlines to...   \n",
       "14638              0  @AmericanAir you have my money, you change my ...   \n",
       "14639              0  @AmericanAir we have 8 ppl so we need 2 know h...   \n",
       "\n",
       "      tweet_coord              tweet_created tweet_location  \\\n",
       "0             NaN  2015-02-24 11:35:52 -0800            NaN   \n",
       "1             NaN  2015-02-24 11:15:59 -0800            NaN   \n",
       "2             NaN  2015-02-24 11:15:48 -0800      Lets Play   \n",
       "3             NaN  2015-02-24 11:15:36 -0800            NaN   \n",
       "4             NaN  2015-02-24 11:14:45 -0800            NaN   \n",
       "...           ...                        ...            ...   \n",
       "14635         NaN  2015-02-22 12:01:01 -0800            NaN   \n",
       "14636         NaN  2015-02-22 11:59:46 -0800          Texas   \n",
       "14637         NaN  2015-02-22 11:59:15 -0800  Nigeria,lagos   \n",
       "14638         NaN  2015-02-22 11:59:02 -0800     New Jersey   \n",
       "14639         NaN  2015-02-22 11:58:51 -0800     dallas, TX   \n",
       "\n",
       "                    user_timezone  \n",
       "0      Eastern Time (US & Canada)  \n",
       "1      Pacific Time (US & Canada)  \n",
       "2      Central Time (US & Canada)  \n",
       "3      Pacific Time (US & Canada)  \n",
       "4      Pacific Time (US & Canada)  \n",
       "...                           ...  \n",
       "14635                         NaN  \n",
       "14636                         NaN  \n",
       "14637                         NaN  \n",
       "14638  Eastern Time (US & Canada)  \n",
       "14639                         NaN  \n",
       "\n",
       "[14640 rows x 15 columns]>"
      ]
     },
     "execution_count": 6,
     "metadata": {},
     "output_type": "execute_result"
    }
   ],
   "source": [
    "dataset.info"
   ]
  },
  {
   "cell_type": "code",
   "execution_count": 7,
   "id": "4de6796a-76bd-4a7b-9a6d-3e0788f16f82",
   "metadata": {},
   "outputs": [
    {
     "data": {
      "text/plain": [
       "tweet_id                          int64\n",
       "airline_sentiment                object\n",
       "airline_sentiment_confidence    float64\n",
       "negativereason                   object\n",
       "negativereason_confidence       float64\n",
       "airline                          object\n",
       "airline_sentiment_gold           object\n",
       "name                             object\n",
       "negativereason_gold              object\n",
       "retweet_count                     int64\n",
       "text                             object\n",
       "tweet_coord                      object\n",
       "tweet_created                    object\n",
       "tweet_location                   object\n",
       "user_timezone                    object\n",
       "dtype: object"
      ]
     },
     "execution_count": 7,
     "metadata": {},
     "output_type": "execute_result"
    }
   ],
   "source": [
    "dataset.dtypes"
   ]
  },
  {
   "cell_type": "code",
   "execution_count": 8,
   "id": "2811998c-08bb-4b80-9c74-525ab538abd2",
   "metadata": {},
   "outputs": [
    {
     "data": {
      "text/plain": [
       "tweet_id                            0\n",
       "airline_sentiment                   0\n",
       "airline_sentiment_confidence        0\n",
       "negativereason                   5462\n",
       "negativereason_confidence        4118\n",
       "airline                             0\n",
       "airline_sentiment_gold          14600\n",
       "name                                0\n",
       "negativereason_gold             14608\n",
       "retweet_count                       0\n",
       "text                                0\n",
       "tweet_coord                     13621\n",
       "tweet_created                       0\n",
       "tweet_location                   4733\n",
       "user_timezone                    4820\n",
       "dtype: int64"
      ]
     },
     "execution_count": 8,
     "metadata": {},
     "output_type": "execute_result"
    }
   ],
   "source": [
    "dataset.isnull().sum()"
   ]
  },
  {
   "cell_type": "code",
   "execution_count": 9,
   "id": "45d2686a-8e5d-43b5-b016-3e4844517659",
   "metadata": {},
   "outputs": [
    {
     "data": {
      "text/plain": [
       "array(['neutral', 'positive', 'negative'], dtype=object)"
      ]
     },
     "execution_count": 9,
     "metadata": {},
     "output_type": "execute_result"
    }
   ],
   "source": [
    "dataset['airline_sentiment'].unique()"
   ]
  },
  {
   "cell_type": "code",
   "execution_count": null,
   "id": "90030c4e-37ea-43c2-bac2-3bcd396828b9",
   "metadata": {},
   "outputs": [],
   "source": []
  },
  {
   "cell_type": "markdown",
   "id": "d1a86470-4dcb-4b3b-9fe5-ab8dc4ad6a20",
   "metadata": {},
   "source": [
    "#### Plot data"
   ]
  },
  {
   "cell_type": "code",
   "execution_count": 10,
   "id": "10536195-0835-4ec1-bd0b-aac8f2219279",
   "metadata": {},
   "outputs": [
    {
     "data": {
      "image/png": "[encoded data removed]",
      "text/plain": [
       "<Figure size 432x288 with 1 Axes>"
      ]
     },
     "metadata": {
      "needs_background": "light"
     },
     "output_type": "display_data"
    }
   ],
   "source": [
    "sns.countplot(data = dataset, x =\"airline\", hue = \"airline_sentiment\");"
   ]
  },
  {
   "cell_type": "code",
   "execution_count": null,
   "id": "104c2a84-4fa1-4d5c-af2b-0b6968d89c17",
   "metadata": {},
   "outputs": [],
   "source": []
  },
  {
   "cell_type": "markdown",
   "id": "8a3eab9a-6d54-4728-b93a-73a0dfbd8b1c",
   "metadata": {},
   "source": [
    "### **Data processing**"
   ]
  },
  {
   "cell_type": "markdown",
   "id": "9fa43bf3-ace8-445a-aded-37ff7e8097bd",
   "metadata": {},
   "source": [
    "The values in the target data are categorical and are 'neutral', 'positive' & 'negative'. For the easy computation, we are replacing the 'neutral', 'positive' & 'negative' with 0, 1 & -1 values respectively."
   ]
  },
  {
   "cell_type": "code",
   "execution_count": 11,
   "id": "3e908d5b-a506-4497-9443-f7693a970f4a",
   "metadata": {},
   "outputs": [
    {
     "data": {
      "text/plain": [
       "-1    9178\n",
       " 0    3099\n",
       " 1    2363\n",
       "Name: airline_sentiment, dtype: int64"
      ]
     },
     "execution_count": 11,
     "metadata": {},
     "output_type": "execute_result"
    }
   ],
   "source": [
    "dataset['airline_sentiment'].replace(('neutral', 'positive', 'negative'), (0, 1, -1), inplace=True)\n",
    "dataset['airline_sentiment'].value_counts()"
   ]
  },
  {
   "cell_type": "code",
   "execution_count": 12,
   "id": "997f69a0-33cc-4101-9548-352b2139cad0",
   "metadata": {},
   "outputs": [
    {
     "data": {
      "text/plain": [
       "0                  @VirginAmerica What @dhepburn said.\n",
       "1    @VirginAmerica plus you've added commercials t...\n",
       "2    @VirginAmerica I didn't today... Must mean I n...\n",
       "3    @VirginAmerica it's really aggressive to blast...\n",
       "4    @VirginAmerica and it's a really big bad thing...\n",
       "Name: text, dtype: object"
      ]
     },
     "execution_count": 12,
     "metadata": {},
     "output_type": "execute_result"
    }
   ],
   "source": [
    "data_text = dataset['text']\n",
    "data_text.head()"
   ]
  },
  {
   "cell_type": "code",
   "execution_count": 13,
   "id": "e994af31-81d9-4f5b-8c9a-65e62bfc6a2e",
   "metadata": {},
   "outputs": [
    {
     "data": {
      "text/plain": [
       "0    0\n",
       "1    1\n",
       "2    0\n",
       "3   -1\n",
       "4   -1\n",
       "Name: airline_sentiment, dtype: int64"
      ]
     },
     "execution_count": 13,
     "metadata": {},
     "output_type": "execute_result"
    }
   ],
   "source": [
    "data_target = dataset['airline_sentiment']\n",
    "data_target.head()"
   ]
  },
  {
   "cell_type": "code",
   "execution_count": 14,
   "id": "d2fb3149-f020-4dbc-a6e4-d71c1e4c605c",
   "metadata": {},
   "outputs": [
    {
     "data": {
      "text/plain": [
       "['i', 'me', 'my', 'myself', 'we']"
      ]
     },
     "execution_count": 14,
     "metadata": {},
     "output_type": "execute_result"
    }
   ],
   "source": [
    "from nltk.corpus import stopwords\n",
    "STOPWORDS=stopwords.words('english')\n",
    "STOPWORDS[:5]"
   ]
  },
  {
   "cell_type": "code",
   "execution_count": 15,
   "id": "690ff8b4-315c-43c9-80d5-f2aaaaedd534",
   "metadata": {},
   "outputs": [
    {
     "data": {
      "text/plain": [
       "14035    @AmericanAir checking flight website easy aski...\n",
       "514      @united flying gla-mco weeks. How long airport...\n",
       "1433         @united How I get @TSA finally board UA 1534?\n",
       "1792     @united - changed depart 1:45 2:00pm &amp; 1:4...\n",
       "10055    @USAirways @JosephTReis Dont bother. They dont...\n",
       "Name: text, dtype: object"
      ]
     },
     "execution_count": 15,
     "metadata": {},
     "output_type": "execute_result"
    }
   ],
   "source": [
    "def cleaning_stopwords(text):\n",
    "    return \" \".join([word for word in str(text).split() if word not in STOPWORDS])\n",
    "data_text = data_text.apply(lambda text: cleaning_stopwords(text))\n",
    "data_text.sample(5)"
   ]
  },
  {
   "cell_type": "code",
   "execution_count": 17,
   "id": "275b9f3d-b50d-4e92-93eb-f6d5d31cf386",
   "metadata": {},
   "outputs": [
    {
     "data": {
      "text/plain": [
       "6394     SouthwestAir  total win Happy 7th bday interco...\n",
       "13577    AmericanAir Hey whats happening AA65 Zurich  J...\n",
       "4058     united amazing flying 25000 miles UnitedAirlin...\n",
       "4633     SouthwestAir LUV new Luv Television Commercial...\n",
       "14478    AmericanAir Nicest people ever flight ChicagoT...\n",
       "Name: text, dtype: object"
      ]
     },
     "execution_count": 17,
     "metadata": {},
     "output_type": "execute_result"
    }
   ],
   "source": [
    "import string\n",
    "english_punctuations = string.punctuation\n",
    "punctuations_list = english_punctuations\n",
    "def cleaning_punctuations(text):\n",
    "    translator = str.maketrans('', '', punctuations_list)\n",
    "    return text.translate(translator)\n",
    "data_text = data_text.apply(lambda x: cleaning_punctuations(x))\n",
    "data_text.sample(5)"
   ]
  },
  {
   "cell_type": "code",
   "execution_count": 22,
   "id": "a7ec03da-6763-4ae2-9dbb-ba9462b3878d",
   "metadata": {},
   "outputs": [
    {
     "data": {
      "text/plain": [
       "0                     VirginAmerica What dhepburn said\n",
       "1    VirginAmerica plus added commercials experienc...\n",
       "2    VirginAmerica I today Must mean I need take an...\n",
       "3    VirginAmerica really aggressive blast obnoxiou...\n",
       "4                   VirginAmerica really big bad thing\n",
       "Name: text, dtype: object"
      ]
     },
     "execution_count": 22,
     "metadata": {},
     "output_type": "execute_result"
    }
   ],
   "source": [
    "def cleaning_repeating_char(text):\n",
    "    return re.sub(r'(.)1+', r'1', text)\n",
    "data_text = data_text.apply(lambda x: cleaning_repeating_char(x))\n",
    "data_text.head()"
   ]
  },
  {
   "cell_type": "code",
   "execution_count": 23,
   "id": "1f3da8c2-3293-47d8-8f01-3b61872ddd11",
   "metadata": {},
   "outputs": [
    {
     "data": {
      "text/plain": [
       "0                     VirginAmerica What dhepburn said\n",
       "1    VirginAmerica plus added commercials experienc...\n",
       "2    VirginAmerica I today Must mean I need take an...\n",
       "3    VirginAmerica really aggressive blast obnoxiou...\n",
       "4                   VirginAmerica really big bad thing\n",
       "Name: text, dtype: object"
      ]
     },
     "execution_count": 23,
     "metadata": {},
     "output_type": "execute_result"
    }
   ],
   "source": [
    "def cleaning_URLs(data):\n",
    "    return re.sub('((www.[^s]+)|(https?://[^s]+))',' ',data)\n",
    "data_text = data_text.apply(lambda x: cleaning_URLs(x))\n",
    "data_text.head()\n"
   ]
  },
  {
   "cell_type": "code",
   "execution_count": 24,
   "id": "a3cb3f29-4ca3-48ce-abef-1fa9a0cfe7b3",
   "metadata": {},
   "outputs": [
    {
     "data": {
      "text/plain": [
       "0                     VirginAmerica What dhepburn said\n",
       "1    VirginAmerica plus added commercials experienc...\n",
       "2    VirginAmerica I today Must mean I need take an...\n",
       "3    VirginAmerica really aggressive blast obnoxiou...\n",
       "4                   VirginAmerica really big bad thing\n",
       "Name: text, dtype: object"
      ]
     },
     "execution_count": 24,
     "metadata": {},
     "output_type": "execute_result"
    }
   ],
   "source": [
    "def cleaning_numbers(data):\n",
    "    return re.sub('[0-9]+', '', data)\n",
    "data_text = data_text.apply(lambda x: cleaning_numbers(x))\n",
    "data_text.head()"
   ]
  },
  {
   "cell_type": "code",
   "execution_count": 25,
   "id": "21dbf63b-c8bf-46c9-8285-09d17a4b6b46",
   "metadata": {},
   "outputs": [
    {
     "data": {
      "text/plain": [
       "0                     VirginAmerica What dhepburn said\n",
       "1    VirginAmerica plus added commercials experienc...\n",
       "2    VirginAmerica I today Must mean I need take an...\n",
       "3    VirginAmerica really aggressive blast obnoxiou...\n",
       "4                   VirginAmerica really big bad thing\n",
       "Name: text, dtype: object"
      ]
     },
     "execution_count": 25,
     "metadata": {},
     "output_type": "execute_result"
    }
   ],
   "source": [
    "import nltk\n",
    "st = nltk.PorterStemmer()\n",
    "def stemming_on_text(data):\n",
    "    text = [st.stem(word) for word in data]\n",
    "    return data\n",
    "data_text = data_text.apply(lambda x: stemming_on_text(x))\n",
    "data_text.head()"
   ]
  },
  {
   "cell_type": "code",
   "execution_count": 29,
   "id": "80143e2d-6f90-4b14-8b33-272c064835be",
   "metadata": {},
   "outputs": [
    {
     "name": "stderr",
     "output_type": "stream",
     "text": [
      "[nltk_data] Downloading package wordnet to /home/thi/nltk_data...\n",
      "[nltk_data]   Package wordnet is already up-to-date!\n",
      "[nltk_data] Downloading package omw-1.4 to /home/thi/nltk_data...\n",
      "[nltk_data]   Package omw-1.4 is already up-to-date!\n"
     ]
    },
    {
     "data": {
      "text/plain": [
       "True"
      ]
     },
     "execution_count": 29,
     "metadata": {},
     "output_type": "execute_result"
    }
   ],
   "source": [
    "import nltk\n",
    "nltk.download('wordnet')\n",
    "nltk.download('omw-1.4')\n"
   ]
  },
  {
   "cell_type": "code",
   "execution_count": 33,
   "id": "e3d6f4d0-c2e7-4adf-a44f-96777e024666",
   "metadata": {},
   "outputs": [
    {
     "data": {
      "text/plain": [
       "0                     VirginAmerica What dhepburn said\n",
       "1    VirginAmerica plus added commercials experienc...\n",
       "2    VirginAmerica I today Must mean I need take an...\n",
       "3    VirginAmerica really aggressive blast obnoxiou...\n",
       "4                   VirginAmerica really big bad thing\n",
       "Name: text, dtype: object"
      ]
     },
     "execution_count": 33,
     "metadata": {},
     "output_type": "execute_result"
    }
   ],
   "source": [
    "lm = nltk.WordNetLemmatizer()\n",
    "def lemmatizer_on_text(data):\n",
    "    text = [lm.lemmatize(word) for word in data]\n",
    "    return data\n",
    "data_text = data_text.apply(lambda x: lemmatizer_on_text(x))\n",
    "data_text.head()\n"
   ]
  },
  {
   "cell_type": "code",
   "execution_count": 34,
   "id": "db982791-6a04-42b2-aac3-0bc3d72c8341",
   "metadata": {},
   "outputs": [
    {
     "data": {
      "text/plain": [
       "8794     JetBlue TV Wifi spotty Its nice feature X coun...\n",
       "7945     JetBlue saved day Expedia lost costumer jetblu...\n",
       "13291    AmericanAir airline united Ive spent three ext...\n",
       "4722     SouthwestAir thank great customer service Tryi...\n",
       "14041    AmericanAir food served AA vile grossThe entir...\n",
       "Name: text, dtype: object"
      ]
     },
     "execution_count": 34,
     "metadata": {},
     "output_type": "execute_result"
    }
   ],
   "source": [
    "X=data_text\n",
    "X.sample(5)\n"
   ]
  },
  {
   "cell_type": "code",
   "execution_count": null,
   "id": "784d6a97-9d5b-4e9b-af38-a93e39f47a14",
   "metadata": {},
   "outputs": [],
   "source": []
  }
 ],
 "metadata": {
  "kernelspec": {
   "display_name": "Python 3 (ipykernel)",
   "language": "python",
   "name": "python3"
  },
  "language_info": {
   "codemirror_mode": {
    "name": "ipython",
    "version": 3
   },
   "file_extension": ".py",
   "mimetype": "text/x-python",
   "name": "python",
   "nbconvert_exporter": "python",
   "pygments_lexer": "ipython3",
   "version": "3.8.12"
  }
 },
 "nbformat": 4,
 "nbformat_minor": 5
}
