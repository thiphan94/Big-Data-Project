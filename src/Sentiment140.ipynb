{
 "cells": [
  {
   "cell_type": "markdown",
   "id": "159f2a87-395c-410b-bea2-b31bd3a88ee8",
   "metadata": {},
   "source": [
    "### **Dataset:** \n",
    "Sentiment140 : discover the sentiment of a brand, product, or topic on Twitter.: http://help.sentiment140.com/for-students\n",
    "\n",
    "This dataset has two file csv, one is trainingset \"training.1600000.processed.noemoticon.csv\" and one is for test \"testdata.manual.2009.06.14.csv\"\n",
    "    \""
   ]
  },
  {
   "cell_type": "markdown",
   "id": "c87edc2b-8131-4556-8be6-dda103c2430f",
   "metadata": {},
   "source": [
    "### **Read data from SQLite** "
   ]
  },
  {
   "cell_type": "markdown",
   "id": "a7b7e3c4-e47e-446b-8d18-7ebb7e086f04",
   "metadata": {},
   "source": [
    "#### Import librairies"
   ]
  },
  {
   "cell_type": "code",
   "execution_count": 1,
   "id": "229ea746-1e84-4556-94b9-1b124102c8ee",
   "metadata": {},
   "outputs": [],
   "source": [
    "# utilities\n",
    "import re\n",
    "import numpy as np\n",
    "import pandas as pd\n",
    "# plotting\n",
    "import seaborn as sns\n",
    "from wordcloud import WordCloud\n",
    "import matplotlib.pyplot as plt\n",
    "# nltk\n",
    "from nltk.stem import WordNetLemmatizer\n",
    "# sklearn\n",
    "from sklearn.svm import LinearSVC\n",
    "from sklearn.naive_bayes import BernoulliNB\n",
    "from sklearn.linear_model import LogisticRegression\n",
    "from sklearn.model_selection import train_test_split\n",
    "from sklearn.feature_extraction.text import TfidfVectorizer\n",
    "from sklearn.metrics import confusion_matrix, classification_report\n",
    "import pandas as pd\n",
    "from termcolor import colored"
   ]
  },
  {
   "cell_type": "markdown",
   "id": "b1513e07-c314-4545-86d4-2b0512be7c4a",
   "metadata": {},
   "source": [
    "#### Load data"
   ]
  },
  {
   "cell_type": "code",
   "execution_count": 2,
   "id": "ba8b4633-1b5b-4bc0-9aa8-1d9e0b00b9bc",
   "metadata": {},
   "outputs": [],
   "source": [
    "import sqlite3\n",
    "import pandas as pd\n",
    "# Create your connection.\n",
    "cnx = sqlite3.connect('TwitterDB.db') # name of database qui store file sentiment140.csv\n",
    "\n",
    "df = pd.read_sql_query(\"SELECT * FROM sentiment140\", cnx) #sentiment140 is name of table qui store file sentiment140.csv\n",
    "df.columns = ['target','id','date','flag','user','text']"
   ]
  },
  {
   "cell_type": "code",
   "execution_count": 3,
   "id": "2e36bac0-8630-46eb-8bd2-30cc57f6b8fb",
   "metadata": {},
   "outputs": [
    {
     "data": {
      "text/html": [
       "<div>\n",
       "<style scoped>\n",
       "    .dataframe tbody tr th:only-of-type {\n",
       "        vertical-align: middle;\n",
       "    }\n",
       "\n",
       "    .dataframe tbody tr th {\n",
       "        vertical-align: top;\n",
       "    }\n",
       "\n",
       "    .dataframe thead th {\n",
       "        text-align: right;\n",
       "    }\n",
       "</style>\n",
       "<table border=\"1\" class=\"dataframe\">\n",
       "  <thead>\n",
       "    <tr style=\"text-align: right;\">\n",
       "      <th></th>\n",
       "      <th>target</th>\n",
       "      <th>id</th>\n",
       "      <th>date</th>\n",
       "      <th>flag</th>\n",
       "      <th>user</th>\n",
       "      <th>text</th>\n",
       "    </tr>\n",
       "  </thead>\n",
       "  <tbody>\n",
       "    <tr>\n",
       "      <th>0</th>\n",
       "      <td>0</td>\n",
       "      <td>1467810369</td>\n",
       "      <td>Mon Apr 06 22:19:45 PDT 2009</td>\n",
       "      <td>NO_QUERY</td>\n",
       "      <td>_TheSpecialOne_</td>\n",
       "      <td>@switchfoot http://twitpic.com/2y1zl - Awww, t...</td>\n",
       "    </tr>\n",
       "    <tr>\n",
       "      <th>1</th>\n",
       "      <td>0</td>\n",
       "      <td>1467810672</td>\n",
       "      <td>Mon Apr 06 22:19:49 PDT 2009</td>\n",
       "      <td>NO_QUERY</td>\n",
       "      <td>scotthamilton</td>\n",
       "      <td>is upset that he can't update his Facebook by ...</td>\n",
       "    </tr>\n",
       "    <tr>\n",
       "      <th>2</th>\n",
       "      <td>0</td>\n",
       "      <td>1467810917</td>\n",
       "      <td>Mon Apr 06 22:19:53 PDT 2009</td>\n",
       "      <td>NO_QUERY</td>\n",
       "      <td>mattycus</td>\n",
       "      <td>@Kenichan I dived many times for the ball. Man...</td>\n",
       "    </tr>\n",
       "    <tr>\n",
       "      <th>3</th>\n",
       "      <td>0</td>\n",
       "      <td>1467811184</td>\n",
       "      <td>Mon Apr 06 22:19:57 PDT 2009</td>\n",
       "      <td>NO_QUERY</td>\n",
       "      <td>ElleCTF</td>\n",
       "      <td>my whole body feels itchy and like its on fire</td>\n",
       "    </tr>\n",
       "    <tr>\n",
       "      <th>4</th>\n",
       "      <td>0</td>\n",
       "      <td>1467811193</td>\n",
       "      <td>Mon Apr 06 22:19:57 PDT 2009</td>\n",
       "      <td>NO_QUERY</td>\n",
       "      <td>Karoli</td>\n",
       "      <td>@nationwideclass no, it's not behaving at all....</td>\n",
       "    </tr>\n",
       "  </tbody>\n",
       "</table>\n",
       "</div>"
      ],
      "text/plain": [
       "   target          id                          date      flag  \\\n",
       "0       0  1467810369  Mon Apr 06 22:19:45 PDT 2009  NO_QUERY   \n",
       "1       0  1467810672  Mon Apr 06 22:19:49 PDT 2009  NO_QUERY   \n",
       "2       0  1467810917  Mon Apr 06 22:19:53 PDT 2009  NO_QUERY   \n",
       "3       0  1467811184  Mon Apr 06 22:19:57 PDT 2009  NO_QUERY   \n",
       "4       0  1467811193  Mon Apr 06 22:19:57 PDT 2009  NO_QUERY   \n",
       "\n",
       "              user                                               text  \n",
       "0  _TheSpecialOne_  @switchfoot http://twitpic.com/2y1zl - Awww, t...  \n",
       "1    scotthamilton  is upset that he can't update his Facebook by ...  \n",
       "2         mattycus  @Kenichan I dived many times for the ball. Man...  \n",
       "3          ElleCTF     my whole body feels itchy and like its on fire  \n",
       "4           Karoli  @nationwideclass no, it's not behaving at all....  "
      ]
     },
     "execution_count": 3,
     "metadata": {},
     "output_type": "execute_result"
    }
   ],
   "source": [
    "df.head()"
   ]
  },
  {
   "cell_type": "markdown",
   "id": "d109cfcd-8163-46c3-996c-254385d8620e",
   "metadata": {
    "tags": []
   },
   "source": [
    "#### Shape and information of dataset"
   ]
  },
  {
   "cell_type": "markdown",
   "id": "87a7d7da-3fda-4fc1-854a-c31bca47d41d",
   "metadata": {},
   "source": [
    "This dataset has 6 columns and 1600000 tweets"
   ]
  },
  {
   "cell_type": "code",
   "execution_count": 4,
   "id": "f447301e-7580-4fd9-bc66-389c26ac240e",
   "metadata": {},
   "outputs": [
    {
     "data": {
      "text/plain": [
       "(1600000, 6)"
      ]
     },
     "execution_count": 4,
     "metadata": {},
     "output_type": "execute_result"
    }
   ],
   "source": [
    "df.shape"
   ]
  },
  {
   "cell_type": "code",
   "execution_count": 5,
   "id": "95d57216-0006-4c85-9b8e-29bd41ef688d",
   "metadata": {},
   "outputs": [
    {
     "data": {
      "text/plain": [
       "<bound method DataFrame.info of          target          id                          date      flag  \\\n",
       "0             0  1467810369  Mon Apr 06 22:19:45 PDT 2009  NO_QUERY   \n",
       "1             0  1467810672  Mon Apr 06 22:19:49 PDT 2009  NO_QUERY   \n",
       "2             0  1467810917  Mon Apr 06 22:19:53 PDT 2009  NO_QUERY   \n",
       "3             0  1467811184  Mon Apr 06 22:19:57 PDT 2009  NO_QUERY   \n",
       "4             0  1467811193  Mon Apr 06 22:19:57 PDT 2009  NO_QUERY   \n",
       "...         ...         ...                           ...       ...   \n",
       "1599995       4  2193601966  Tue Jun 16 08:40:49 PDT 2009  NO_QUERY   \n",
       "1599996       4  2193601969  Tue Jun 16 08:40:49 PDT 2009  NO_QUERY   \n",
       "1599997       4  2193601991  Tue Jun 16 08:40:49 PDT 2009  NO_QUERY   \n",
       "1599998       4  2193602064  Tue Jun 16 08:40:49 PDT 2009  NO_QUERY   \n",
       "1599999       4  2193602129  Tue Jun 16 08:40:50 PDT 2009  NO_QUERY   \n",
       "\n",
       "                    user                                               text  \n",
       "0        _TheSpecialOne_  @switchfoot http://twitpic.com/2y1zl - Awww, t...  \n",
       "1          scotthamilton  is upset that he can't update his Facebook by ...  \n",
       "2               mattycus  @Kenichan I dived many times for the ball. Man...  \n",
       "3                ElleCTF     my whole body feels itchy and like its on fire  \n",
       "4                 Karoli  @nationwideclass no, it's not behaving at all....  \n",
       "...                  ...                                                ...  \n",
       "1599995  AmandaMarie1028  Just woke up. Having no school is the best fee...  \n",
       "1599996      TheWDBoards  TheWDB.com - Very cool to hear old Walt interv...  \n",
       "1599997           bpbabe  Are you ready for your MoJo Makeover? Ask me f...  \n",
       "1599998     tinydiamondz  Happy 38th Birthday to my boo of alll time!!! ...  \n",
       "1599999   RyanTrevMorris  happy #charitytuesday @theNSPCC @SparksCharity...  \n",
       "\n",
       "[1600000 rows x 6 columns]>"
      ]
     },
     "execution_count": 5,
     "metadata": {},
     "output_type": "execute_result"
    }
   ],
   "source": [
    "df.info"
   ]
  },
  {
   "cell_type": "markdown",
   "id": "0516ff0a-becd-458e-93b1-2bdd9ec248a3",
   "metadata": {},
   "source": [
    "Types of each columns"
   ]
  },
  {
   "cell_type": "code",
   "execution_count": 6,
   "id": "4de6796a-76bd-4a7b-9a6d-3e0788f16f82",
   "metadata": {},
   "outputs": [
    {
     "data": {
      "text/plain": [
       "target     int64\n",
       "id         int64\n",
       "date      object\n",
       "flag      object\n",
       "user      object\n",
       "text      object\n",
       "dtype: object"
      ]
     },
     "execution_count": 6,
     "metadata": {},
     "output_type": "execute_result"
    }
   ],
   "source": [
    "df.dtypes"
   ]
  },
  {
   "cell_type": "code",
   "execution_count": 7,
   "id": "45d2686a-8e5d-43b5-b016-3e4844517659",
   "metadata": {},
   "outputs": [
    {
     "data": {
      "text/plain": [
       "array([0, 4])"
      ]
     },
     "execution_count": 7,
     "metadata": {},
     "output_type": "execute_result"
    }
   ],
   "source": [
    "df['target'].unique() #target in dataset"
   ]
  },
  {
   "cell_type": "markdown",
   "id": "cefa407e-23bd-485d-81b0-b7334c6d2fbc",
   "metadata": {},
   "source": [
    "Although the description of dataset( target: the polarity of the tweet (0 = negative, 2 = neutral, 4 = positive), we don't have tweets with target \"2\". So we can replace target from [0,4] by [0,1]"
   ]
  },
  {
   "cell_type": "code",
   "execution_count": 8,
   "id": "c65134d8-dc03-4ae2-a13c-0c4f2638e33b",
   "metadata": {},
   "outputs": [],
   "source": [
    "df['target'] = df.iloc[:, 0].replace(4,1)\n"
   ]
  },
  {
   "cell_type": "code",
   "execution_count": 9,
   "id": "e4f4f32b-5927-4ca4-8a79-84398479f013",
   "metadata": {},
   "outputs": [
    {
     "data": {
      "text/plain": [
       "array([0, 1])"
      ]
     },
     "execution_count": 9,
     "metadata": {},
     "output_type": "execute_result"
    }
   ],
   "source": [
    "df['target'].unique() #target in dataset, 0=negative, 4=positive"
   ]
  },
  {
   "cell_type": "markdown",
   "id": "d1a86470-4dcb-4b3b-9fe5-ab8dc4ad6a20",
   "metadata": {},
   "source": [
    "### **Plot data** "
   ]
  },
  {
   "cell_type": "code",
   "execution_count": 10,
   "id": "b596a494-b91a-4665-ae17-3f82b1fc6980",
   "metadata": {},
   "outputs": [
    {
     "data": {
      "image/png": "[encoded data removed]",
      "text/plain": [
       "<Figure size 720x360 with 1 Axes>"
      ]
     },
     "metadata": {
      "needs_background": "light"
     },
     "output_type": "display_data"
    }
   ],
   "source": [
    "import seaborn as sns\n",
    "plt.figure(figsize = (10,5))\n",
    "ax=sns.countplot(x='target', data=df)\n",
    "for p in ax.patches:\n",
    "    ax.annotate(str(p.get_height()), (p.get_x() * 1.01 , p.get_height() * 1.01))"
   ]
  },
  {
   "cell_type": "markdown",
   "id": "b240481a-18c4-4489-b647-3cc2015d9278",
   "metadata": {},
   "source": [
    "### **Data processing**"
   ]
  },
  {
   "cell_type": "markdown",
   "id": "0fdde7c6-79e1-4d1d-82a2-c4ee816987eb",
   "metadata": {},
   "source": [
    "We need text of tweets and target. \n",
    "\n",
    "Spliting data to features and target\n"
   ]
  },
  {
   "cell_type": "code",
   "execution_count": 11,
   "id": "9e545c52-100d-4f45-966b-05dddcb0098b",
   "metadata": {},
   "outputs": [
    {
     "data": {
      "text/plain": [
       "0    @switchfoot http://twitpic.com/2y1zl - Awww, t...\n",
       "1    is upset that he can't update his Facebook by ...\n",
       "2    @Kenichan I dived many times for the ball. Man...\n",
       "3       my whole body feels itchy and like its on fire\n",
       "4    @nationwideclass no, it's not behaving at all....\n",
       "Name: text, dtype: object"
      ]
     },
     "execution_count": 11,
     "metadata": {},
     "output_type": "execute_result"
    }
   ],
   "source": [
    "X = df['text']\n",
    "X.head()"
   ]
  },
  {
   "cell_type": "code",
   "execution_count": 12,
   "id": "de9c0ff8-d11d-49da-bd1a-bfa739eece86",
   "metadata": {},
   "outputs": [
    {
     "data": {
      "text/plain": [
       "0    0\n",
       "1    0\n",
       "2    0\n",
       "3    0\n",
       "4    0\n",
       "Name: target, dtype: int64"
      ]
     },
     "execution_count": 12,
     "metadata": {},
     "output_type": "execute_result"
    }
   ],
   "source": [
    "y = df['target']\n",
    "y.head()"
   ]
  },
  {
   "cell_type": "code",
   "execution_count": 13,
   "id": "d2fb3149-f020-4dbc-a6e4-d71c1e4c605c",
   "metadata": {},
   "outputs": [
    {
     "data": {
      "text/plain": [
       "['i', 'me', 'my', 'myself', 'we']"
      ]
     },
     "execution_count": 13,
     "metadata": {},
     "output_type": "execute_result"
    }
   ],
   "source": [
    "from nltk.corpus import stopwords\n",
    "STOPWORDS=stopwords.words('english')\n",
    "STOPWORDS[:5]"
   ]
  },
  {
   "cell_type": "code",
   "execution_count": 14,
   "id": "690ff8b4-315c-43c9-80d5-f2aaaaedd534",
   "metadata": {},
   "outputs": [
    {
     "data": {
      "text/plain": [
       "0    @switchfoot http://twitpic.com/2y1zl - Awww, t...\n",
       "1    upset can't update Facebook texting it... migh...\n",
       "2    @Kenichan I dived many times ball. Managed sav...\n",
       "3                     whole body feels itchy like fire\n",
       "4    @nationwideclass no, behaving all. i'm mad. he...\n",
       "Name: text, dtype: object"
      ]
     },
     "execution_count": 14,
     "metadata": {},
     "output_type": "execute_result"
    }
   ],
   "source": [
    "def cleaning_stopwords(text):\n",
    "    return \" \".join([word for word in str(text).split() if word not in STOPWORDS])\n",
    "X = X.apply(lambda text: cleaning_stopwords(text))\n",
    "X.head()"
   ]
  },
  {
   "cell_type": "code",
   "execution_count": 18,
   "id": "275b9f3d-b50d-4e92-93eb-f6d5d31cf386",
   "metadata": {},
   "outputs": [
    {
     "data": {
      "text/plain": [
       "0    switchfoot httptwitpiccom2y1zl  Awww thats bum...\n",
       "1    upset cant update Facebook texting it might cr...\n",
       "2    Kenichan I dived many times ball Managed save ...\n",
       "3                     whole body feels itchy like fire\n",
       "4    nationwideclass no behaving all im mad here I ...\n",
       "Name: text, dtype: object"
      ]
     },
     "execution_count": 18,
     "metadata": {},
     "output_type": "execute_result"
    }
   ],
   "source": [
    "import string\n",
    "english_punctuations = string.punctuation\n",
    "punctuations_list = english_punctuations\n",
    "#!\"#$%&'()*+,-./:;<=>?@[\\]^_`{|}~\n",
    "def cleaning_punctuations(text):\n",
    "    translator = str.maketrans('', '', punctuations_list)\n",
    "    return text.translate(translator)\n",
    "X= X.apply(lambda x: cleaning_punctuations(x))\n",
    "X.head()"
   ]
  },
  {
   "cell_type": "code",
   "execution_count": 19,
   "id": "1f3da8c2-3293-47d8-8f01-3b61872ddd11",
   "metadata": {},
   "outputs": [
    {
     "data": {
      "text/plain": [
       "0    switchfoot httptwitpiccom21zl  Awww thats bumm...\n",
       "1    upset cant update Facebook texting it might cr...\n",
       "2    Kenichan I dived many times ball Managed save ...\n",
       "3                     whole body feels itchy like fire\n",
       "4    nationwideclass no behaving all im mad here I ...\n",
       "Name: text, dtype: object"
      ]
     },
     "execution_count": 19,
     "metadata": {},
     "output_type": "execute_result"
    }
   ],
   "source": [
    "def cleaning_repeating_char(text):\n",
    "    return re.sub(r'(.)1+', r'1', text)\n",
    "X= X.apply(lambda x: cleaning_repeating_char(x))\n",
    "X.head()"
   ]
  },
  {
   "cell_type": "code",
   "execution_count": 21,
   "id": "a3cb3f29-4ca3-48ce-abef-1fa9a0cfe7b3",
   "metadata": {},
   "outputs": [
    {
     "data": {
      "text/plain": [
       "0    switchfoot httptwitpiccom21zl  A s bummer You ...\n",
       "1    upset cant update Facebook texting it might cr...\n",
       "2    Kenichan I dived many times ball Managed save ...\n",
       "3                     whole body feels itchy like fire\n",
       "4    nationwideclass no behaving all im mad here I ...\n",
       "Name: text, dtype: object"
      ]
     },
     "execution_count": 21,
     "metadata": {},
     "output_type": "execute_result"
    }
   ],
   "source": [
    "def cleaning_URLs(data):\n",
    "    return re.sub('((www.[^s]+)|(https?://[^s]+))',' ',data)\n",
    "X= X.apply(lambda x: cleaning_URLs(x))\n",
    "X.head()\n"
   ]
  },
  {
   "cell_type": "code",
   "execution_count": 22,
   "id": "21dbf63b-c8bf-46c9-8285-09d17a4b6b46",
   "metadata": {},
   "outputs": [
    {
     "data": {
      "text/plain": [
       "0    switchfoot httptwitpiccomzl  A s bummer You sh...\n",
       "1    upset cant update Facebook texting it might cr...\n",
       "2    Kenichan I dived many times ball Managed save ...\n",
       "3                     whole body feels itchy like fire\n",
       "4    nationwideclass no behaving all im mad here I ...\n",
       "Name: text, dtype: object"
      ]
     },
     "execution_count": 22,
     "metadata": {},
     "output_type": "execute_result"
    }
   ],
   "source": [
    "def cleaning_numbers(data):\n",
    "    return re.sub('[0-9]+', '', data)\n",
    "X= X.apply(lambda x: cleaning_numbers(x))\n",
    "X.head()"
   ]
  },
  {
   "cell_type": "code",
   "execution_count": 23,
   "id": "80143e2d-6f90-4b14-8b33-272c064835be",
   "metadata": {},
   "outputs": [
    {
     "data": {
      "text/plain": [
       "0    switchfoot httptwitpiccomzl  A s bummer You sh...\n",
       "1    upset cant update Facebook texting it might cr...\n",
       "2    Kenichan I dived many times ball Managed save ...\n",
       "3                     whole body feels itchy like fire\n",
       "4    nationwideclass no behaving all im mad here I ...\n",
       "Name: text, dtype: object"
      ]
     },
     "execution_count": 23,
     "metadata": {},
     "output_type": "execute_result"
    }
   ],
   "source": [
    "import nltk\n",
    "st = nltk.PorterStemmer()\n",
    "def stemming_on_text(data):\n",
    "    text = [st.stem(word) for word in data]\n",
    "    return data\n",
    "X= X.apply(lambda x: stemming_on_text(x))\n",
    "X.head()"
   ]
  },
  {
   "cell_type": "code",
   "execution_count": 26,
   "id": "db982791-6a04-42b2-aac3-0bc3d72c8341",
   "metadata": {},
   "outputs": [
    {
     "name": "stderr",
     "output_type": "stream",
     "text": [
      "[nltk_data] Downloading package wordnet to /home/thi/nltk_data...\n",
      "[nltk_data]   Package wordnet is already up-to-date!\n",
      "[nltk_data] Downloading package omw-1.4 to /home/thi/nltk_data...\n",
      "[nltk_data]   Package omw-1.4 is already up-to-date!\n"
     ]
    },
    {
     "data": {
      "text/plain": [
       "True"
      ]
     },
     "execution_count": 26,
     "metadata": {},
     "output_type": "execute_result"
    }
   ],
   "source": [
    "import nltk\n",
    "nltk.download('wordnet')\n",
    "nltk.download('omw-1.4')\n"
   ]
  },
  {
   "cell_type": "code",
   "execution_count": 29,
   "id": "658f082b-d0ca-4a6e-89c1-000d7079acc3",
   "metadata": {},
   "outputs": [
    {
     "data": {
      "text/plain": [
       "0    switchfoot httptwitpiccomzl  A s bummer You sh...\n",
       "1    upset cant update Facebook texting it might cr...\n",
       "2    Kenichan I dived many times ball Managed save ...\n",
       "3                     whole body feels itchy like fire\n",
       "4    nationwideclass no behaving all im mad here I ...\n",
       "Name: text, dtype: object"
      ]
     },
     "execution_count": 29,
     "metadata": {},
     "output_type": "execute_result"
    }
   ],
   "source": [
    "lm = nltk.WordNetLemmatizer()\n",
    "def lemmatizer_on_text(data):\n",
    "    text = [lm.lemmatize(word) for word in data]\n",
    "    return data\n",
    "X= X.apply(lambda x: lemmatizer_on_text(x))\n",
    "X.head()\n"
   ]
  },
  {
   "cell_type": "code",
   "execution_count": null,
   "id": "435e087e-5a45-4a73-bca2-b6004580a867",
   "metadata": {},
   "outputs": [],
   "source": []
  },
  {
   "cell_type": "markdown",
   "id": "2c6a4f81-63ec-47dc-81c0-6e21ba699964",
   "metadata": {},
   "source": [
    "### **Splitting the data for Classification**"
   ]
  },
  {
   "cell_type": "code",
   "execution_count": 30,
   "id": "ef12563a-9519-4762-9b76-1287aadb1348",
   "metadata": {},
   "outputs": [
    {
     "name": "stdout",
     "output_type": "stream",
     "text": [
      "Number of training examples: 1280000\n",
      "Number of testing examples: 320000\n"
     ]
    }
   ],
   "source": [
    "#ratio 80:20 for trainingset and testingset\n",
    "train_X, test_X, y_train, y_test = train_test_split(X, y, test_size=0.2, \n",
    "                                                    random_state=42, shuffle=True)\n",
    "\n",
    "print(f'Number of training examples: {len(train_X)}')\n",
    "print(f'Number of testing examples: {len(test_X)}')"
   ]
  },
  {
   "cell_type": "code",
   "execution_count": null,
   "id": "e2c31c68-1994-4846-9067-2dbdc1038c71",
   "metadata": {},
   "outputs": [],
   "source": []
  },
  {
   "cell_type": "code",
   "execution_count": null,
   "id": "56d30b40-b43d-44b1-9e31-f694bb578c51",
   "metadata": {},
   "outputs": [],
   "source": []
  },
  {
   "cell_type": "code",
   "execution_count": null,
   "id": "77936f8c-392f-480a-b4a7-a6065a10ee40",
   "metadata": {},
   "outputs": [],
   "source": []
  },
  {
   "cell_type": "code",
   "execution_count": null,
   "id": "4a735c71-c92a-4bfc-9549-28eaac6cd8a1",
   "metadata": {},
   "outputs": [],
   "source": []
  }
 ],
 "metadata": {
  "kernelspec": {
   "display_name": "Python 3 (ipykernel)",
   "language": "python",
   "name": "python3"
  },
  "language_info": {
   "codemirror_mode": {
    "name": "ipython",
    "version": 3
   },
   "file_extension": ".py",
   "mimetype": "text/x-python",
   "name": "python",
   "nbconvert_exporter": "python",
   "pygments_lexer": "ipython3",
   "version": "3.8.12"
  }
 },
 "nbformat": 4,
 "nbformat_minor": 5
}
