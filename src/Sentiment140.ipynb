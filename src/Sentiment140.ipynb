{
 "cells": [
  {
   "cell_type": "markdown",
   "id": "159f2a87-395c-410b-bea2-b31bd3a88ee8",
   "metadata": {},
   "source": [
    "### **Dataset:** \n",
    "Sentiment140 : discover the sentiment of a brand, product, or topic on Twitter.: http://help.sentiment140.com/for-students\n",
    "    "
   ]
  },
  {
   "cell_type": "markdown",
   "id": "c87edc2b-8131-4556-8be6-dda103c2430f",
   "metadata": {},
   "source": [
    "### **Read data** "
   ]
  },
  {
   "cell_type": "markdown",
   "id": "a7b7e3c4-e47e-446b-8d18-7ebb7e086f04",
   "metadata": {},
   "source": [
    "#### Import librairies"
   ]
  },
  {
   "cell_type": "code",
   "execution_count": 3,
   "id": "229ea746-1e84-4556-94b9-1b124102c8ee",
   "metadata": {},
   "outputs": [],
   "source": [
    "# utilities\n",
    "import re\n",
    "import numpy as np\n",
    "import pandas as pd\n",
    "# plotting\n",
    "import seaborn as sns\n",
    "from wordcloud import WordCloud\n",
    "import matplotlib.pyplot as plt\n",
    "# nltk\n",
    "from nltk.stem import WordNetLemmatizer\n",
    "# sklearn\n",
    "from sklearn.svm import LinearSVC\n",
    "from sklearn.naive_bayes import BernoulliNB\n",
    "from sklearn.linear_model import LogisticRegression\n",
    "from sklearn.model_selection import train_test_split\n",
    "from sklearn.feature_extraction.text import TfidfVectorizer\n",
    "from sklearn.metrics import confusion_matrix, classification_report\n",
    "import pandas as pd\n",
    "from termcolor import colored"
   ]
  },
  {
   "cell_type": "markdown",
   "id": "b1513e07-c314-4545-86d4-2b0512be7c4a",
   "metadata": {},
   "source": [
    "#### Load data"
   ]
  },
  {
   "cell_type": "code",
   "execution_count": 7,
   "id": "14f7dc7c-3ed1-4287-8efb-3170dcf2612d",
   "metadata": {},
   "outputs": [
    {
     "data": {
      "text/plain": [
       "4                                                                                                                   int64\n",
       "3                                                                                                                   int64\n",
       "Mon May 11 03:17:40 UTC 2009                                                                                       object\n",
       "kindle2                                                                                                            object\n",
       "tpryan                                                                                                             object\n",
       "@stellargirl I loooooooovvvvvveee my Kindle2. Not that the DX is cool, but the 2 is fantastic in its own right.    object\n",
       "dtype: object"
      ]
     },
     "execution_count": 7,
     "metadata": {},
     "output_type": "execute_result"
    }
   ],
   "source": [
    "dataset.dtypes"
   ]
  },
  {
   "cell_type": "code",
   "execution_count": null,
   "id": "b54c3e88-a621-4c16-a33c-c5e92466bdfe",
   "metadata": {},
   "outputs": [],
   "source": []
  },
  {
   "cell_type": "code",
   "execution_count": null,
   "id": "2cf8e603-bad1-4a66-ae26-1ba0a6f55712",
   "metadata": {},
   "outputs": [],
   "source": [
    "import sqlite3\n",
    "import csv\n",
    "\n",
    "class csvrd(object):\n",
    "    def csvFile(self):\n",
    "\n",
    "        self.readFile('student_info.csv')\n",
    "\n",
    "    def readFile(self, filename):\n",
    "        conn = sqlite3.connect('TwitterDB.db')\n",
    "        cur = conn.cursor() \n",
    "        #cur.execute('create table student(name varchar2(10), age int);')\n",
    "        filename.encode('utf-8')\n",
    "        #print (\"test1\")\n",
    "        with open(filename) as f:\n",
    "            reader = csv.reader(f)\n",
    "            for field in reader:\n",
    "                cur.execute(\"insert into student (name, age) VALUES (?, ?);\", field)\n",
    "\n",
    "        conn.commit()\n",
    "        conn.close()\n",
    "\n",
    "c = csvrd().csvFile()\n"
   ]
  },
  {
   "cell_type": "code",
   "execution_count": 3,
   "id": "e6e24255-61f6-445e-a501-d64260b512e8",
   "metadata": {},
   "outputs": [
    {
     "ename": "AttributeError",
     "evalue": "'DataFrame' object has no attribute 'execute'",
     "output_type": "error",
     "traceback": [
      "\u001b[0;31m---------------------------------------------------------------------------\u001b[0m",
      "\u001b[0;31mAttributeError\u001b[0m                            Traceback (most recent call last)",
      "\u001b[0;32m/tmp/ipykernel_127052/3119576935.py\u001b[0m in \u001b[0;36m<module>\u001b[0;34m\u001b[0m\n\u001b[1;32m     16\u001b[0m \u001b[0;31m#datatwitter1.to_sql('datatwitter1', conn, if_exists='append', index = False) # write to sqlite table\u001b[0m\u001b[0;34m\u001b[0m\u001b[0;34m\u001b[0m\u001b[0;34m\u001b[0m\u001b[0m\n\u001b[1;32m     17\u001b[0m \u001b[0;34m\u001b[0m\u001b[0m\n\u001b[0;32m---> 18\u001b[0;31m \u001b[0mdatatwitter1\u001b[0m\u001b[0;34m.\u001b[0m\u001b[0mexecute\u001b[0m\u001b[0;34m(\u001b[0m\u001b[0;34m\"insert into datatwitter1 (target, id, date, flag, user, text) VALUES (?, ?, ?, ?, ?, ?);\"\u001b[0m\u001b[0;34m,\u001b[0m\u001b[0;34m(\u001b[0m\u001b[0mfield\u001b[0m\u001b[0;34m,\u001b[0m \u001b[0;34m)\u001b[0m \u001b[0;34m)\u001b[0m\u001b[0;34m\u001b[0m\u001b[0;34m\u001b[0m\u001b[0m\n\u001b[0m\u001b[1;32m     19\u001b[0m \u001b[0;34m\u001b[0m\u001b[0m\n\u001b[1;32m     20\u001b[0m \u001b[0mconn\u001b[0m\u001b[0;34m.\u001b[0m\u001b[0mcommit\u001b[0m\u001b[0;34m(\u001b[0m\u001b[0;34m)\u001b[0m\u001b[0;34m\u001b[0m\u001b[0;34m\u001b[0m\u001b[0m\n",
      "\u001b[0;32m~/anaconda3/lib/python3.8/site-packages/pandas/core/generic.py\u001b[0m in \u001b[0;36m__getattr__\u001b[0;34m(self, name)\u001b[0m\n\u001b[1;32m   5581\u001b[0m         ):\n\u001b[1;32m   5582\u001b[0m             \u001b[0;32mreturn\u001b[0m \u001b[0mself\u001b[0m\u001b[0;34m[\u001b[0m\u001b[0mname\u001b[0m\u001b[0;34m]\u001b[0m\u001b[0;34m\u001b[0m\u001b[0;34m\u001b[0m\u001b[0m\n\u001b[0;32m-> 5583\u001b[0;31m         \u001b[0;32mreturn\u001b[0m \u001b[0mobject\u001b[0m\u001b[0;34m.\u001b[0m\u001b[0m__getattribute__\u001b[0m\u001b[0;34m(\u001b[0m\u001b[0mself\u001b[0m\u001b[0;34m,\u001b[0m \u001b[0mname\u001b[0m\u001b[0;34m)\u001b[0m\u001b[0;34m\u001b[0m\u001b[0;34m\u001b[0m\u001b[0m\n\u001b[0m\u001b[1;32m   5584\u001b[0m \u001b[0;34m\u001b[0m\u001b[0m\n\u001b[1;32m   5585\u001b[0m     \u001b[0;32mdef\u001b[0m \u001b[0m__setattr__\u001b[0m\u001b[0;34m(\u001b[0m\u001b[0mself\u001b[0m\u001b[0;34m,\u001b[0m \u001b[0mname\u001b[0m\u001b[0;34m:\u001b[0m \u001b[0mstr\u001b[0m\u001b[0;34m,\u001b[0m \u001b[0mvalue\u001b[0m\u001b[0;34m)\u001b[0m \u001b[0;34m->\u001b[0m \u001b[0;32mNone\u001b[0m\u001b[0;34m:\u001b[0m\u001b[0;34m\u001b[0m\u001b[0;34m\u001b[0m\u001b[0m\n",
      "\u001b[0;31mAttributeError\u001b[0m: 'DataFrame' object has no attribute 'execute'"
     ]
    }
   ],
   "source": [
    "import pandas as pd\n",
    "\n",
    "import sqlite3\n",
    "\n",
    "conn = sqlite3.connect('TwitterDB.db')\n",
    "c = conn.cursor()\n",
    "# load the data into a Pandas DataFrame\n",
    "#users = pd.read_csv('sentiment140.csv')\n",
    "# write the data to a sqlite table\n",
    "#users.to_sql('users', conn, if_exists='append', index = False)\n",
    "\n",
    "\n",
    "#cur.execute('create table datatwitter1(target int, id int, date text, flag text, user text, text text);')\n",
    "#c.execute('''CREATE TABLE orders (order_id int, user_id int, item_name text)''')\n",
    "datatwitter1 = pd.read_csv('sentiment140.csv',encoding='latin-1')\n",
    "#datatwitter1.to_sql('datatwitter1', conn, if_exists='append', index = False) # write to sqlite table\n",
    "    \n",
    "datatwitter1.execute(\"insert into datatwitter1 (target, id, date, flag, user, text) VALUES (?, ?, ?, ?, ?, ?);\",(field, ) )\n",
    "\n",
    "conn.commit()\n",
    "conn.close()\n",
    "\n"
   ]
  },
  {
   "cell_type": "code",
   "execution_count": 11,
   "id": "ba8b4633-1b5b-4bc0-9aa8-1d9e0b00b9bc",
   "metadata": {},
   "outputs": [],
   "source": [
    "import sqlite3\n",
    "import pandas as pd\n",
    "# Create your connection.\n",
    "cnx = sqlite3.connect('TwitterDB.db') # name of database qui store file sentiment140.csv\n",
    "\n",
    "df = pd.read_sql_query(\"SELECT * FROM sentiment140\", cnx) #sentiment140 is name of table qui store file sentiment140.csv"
   ]
  },
  {
   "cell_type": "code",
   "execution_count": 12,
   "id": "2e36bac0-8630-46eb-8bd2-30cc57f6b8fb",
   "metadata": {},
   "outputs": [
    {
     "data": {
      "text/html": [
       "<div>\n",
       "<style scoped>\n",
       "    .dataframe tbody tr th:only-of-type {\n",
       "        vertical-align: middle;\n",
       "    }\n",
       "\n",
       "    .dataframe tbody tr th {\n",
       "        vertical-align: top;\n",
       "    }\n",
       "\n",
       "    .dataframe thead th {\n",
       "        text-align: right;\n",
       "    }\n",
       "</style>\n",
       "<table border=\"1\" class=\"dataframe\">\n",
       "  <thead>\n",
       "    <tr style=\"text-align: right;\">\n",
       "      <th></th>\n",
       "      <th>field1</th>\n",
       "      <th>field2</th>\n",
       "      <th>field3</th>\n",
       "      <th>field4</th>\n",
       "      <th>field5</th>\n",
       "      <th>field6</th>\n",
       "    </tr>\n",
       "  </thead>\n",
       "  <tbody>\n",
       "    <tr>\n",
       "      <th>0</th>\n",
       "      <td>0</td>\n",
       "      <td>1467810369</td>\n",
       "      <td>Mon Apr 06 22:19:45 PDT 2009</td>\n",
       "      <td>NO_QUERY</td>\n",
       "      <td>_TheSpecialOne_</td>\n",
       "      <td>@switchfoot http://twitpic.com/2y1zl - Awww, t...</td>\n",
       "    </tr>\n",
       "    <tr>\n",
       "      <th>1</th>\n",
       "      <td>0</td>\n",
       "      <td>1467810672</td>\n",
       "      <td>Mon Apr 06 22:19:49 PDT 2009</td>\n",
       "      <td>NO_QUERY</td>\n",
       "      <td>scotthamilton</td>\n",
       "      <td>is upset that he can't update his Facebook by ...</td>\n",
       "    </tr>\n",
       "    <tr>\n",
       "      <th>2</th>\n",
       "      <td>0</td>\n",
       "      <td>1467810917</td>\n",
       "      <td>Mon Apr 06 22:19:53 PDT 2009</td>\n",
       "      <td>NO_QUERY</td>\n",
       "      <td>mattycus</td>\n",
       "      <td>@Kenichan I dived many times for the ball. Man...</td>\n",
       "    </tr>\n",
       "    <tr>\n",
       "      <th>3</th>\n",
       "      <td>0</td>\n",
       "      <td>1467811184</td>\n",
       "      <td>Mon Apr 06 22:19:57 PDT 2009</td>\n",
       "      <td>NO_QUERY</td>\n",
       "      <td>ElleCTF</td>\n",
       "      <td>my whole body feels itchy and like its on fire</td>\n",
       "    </tr>\n",
       "    <tr>\n",
       "      <th>4</th>\n",
       "      <td>0</td>\n",
       "      <td>1467811193</td>\n",
       "      <td>Mon Apr 06 22:19:57 PDT 2009</td>\n",
       "      <td>NO_QUERY</td>\n",
       "      <td>Karoli</td>\n",
       "      <td>@nationwideclass no, it's not behaving at all....</td>\n",
       "    </tr>\n",
       "  </tbody>\n",
       "</table>\n",
       "</div>"
      ],
      "text/plain": [
       "   field1      field2                        field3    field4  \\\n",
       "0       0  1467810369  Mon Apr 06 22:19:45 PDT 2009  NO_QUERY   \n",
       "1       0  1467810672  Mon Apr 06 22:19:49 PDT 2009  NO_QUERY   \n",
       "2       0  1467810917  Mon Apr 06 22:19:53 PDT 2009  NO_QUERY   \n",
       "3       0  1467811184  Mon Apr 06 22:19:57 PDT 2009  NO_QUERY   \n",
       "4       0  1467811193  Mon Apr 06 22:19:57 PDT 2009  NO_QUERY   \n",
       "\n",
       "            field5                                             field6  \n",
       "0  _TheSpecialOne_  @switchfoot http://twitpic.com/2y1zl - Awww, t...  \n",
       "1    scotthamilton  is upset that he can't update his Facebook by ...  \n",
       "2         mattycus  @Kenichan I dived many times for the ball. Man...  \n",
       "3          ElleCTF     my whole body feels itchy and like its on fire  \n",
       "4           Karoli  @nationwideclass no, it's not behaving at all....  "
      ]
     },
     "execution_count": 12,
     "metadata": {},
     "output_type": "execute_result"
    }
   ],
   "source": [
    "df.head()"
   ]
  },
  {
   "cell_type": "markdown",
   "id": "d109cfcd-8163-46c3-996c-254385d8620e",
   "metadata": {
    "tags": []
   },
   "source": [
    "#### Shape and information of dataset"
   ]
  },
  {
   "cell_type": "markdown",
   "id": "87a7d7da-3fda-4fc1-854a-c31bca47d41d",
   "metadata": {},
   "source": [
    "This dataset has 6 columns and 1600000 tweets"
   ]
  },
  {
   "cell_type": "code",
   "execution_count": 13,
   "id": "f447301e-7580-4fd9-bc66-389c26ac240e",
   "metadata": {},
   "outputs": [
    {
     "data": {
      "text/plain": [
       "(1600000, 6)"
      ]
     },
     "execution_count": 13,
     "metadata": {},
     "output_type": "execute_result"
    }
   ],
   "source": [
    "df.shape"
   ]
  },
  {
   "cell_type": "code",
   "execution_count": 14,
   "id": "95d57216-0006-4c85-9b8e-29bd41ef688d",
   "metadata": {},
   "outputs": [
    {
     "data": {
      "text/plain": [
       "<bound method DataFrame.info of          field1      field2                        field3    field4  \\\n",
       "0             0  1467810369  Mon Apr 06 22:19:45 PDT 2009  NO_QUERY   \n",
       "1             0  1467810672  Mon Apr 06 22:19:49 PDT 2009  NO_QUERY   \n",
       "2             0  1467810917  Mon Apr 06 22:19:53 PDT 2009  NO_QUERY   \n",
       "3             0  1467811184  Mon Apr 06 22:19:57 PDT 2009  NO_QUERY   \n",
       "4             0  1467811193  Mon Apr 06 22:19:57 PDT 2009  NO_QUERY   \n",
       "...         ...         ...                           ...       ...   \n",
       "1599995       4  2193601966  Tue Jun 16 08:40:49 PDT 2009  NO_QUERY   \n",
       "1599996       4  2193601969  Tue Jun 16 08:40:49 PDT 2009  NO_QUERY   \n",
       "1599997       4  2193601991  Tue Jun 16 08:40:49 PDT 2009  NO_QUERY   \n",
       "1599998       4  2193602064  Tue Jun 16 08:40:49 PDT 2009  NO_QUERY   \n",
       "1599999       4  2193602129  Tue Jun 16 08:40:50 PDT 2009  NO_QUERY   \n",
       "\n",
       "                  field5                                             field6  \n",
       "0        _TheSpecialOne_  @switchfoot http://twitpic.com/2y1zl - Awww, t...  \n",
       "1          scotthamilton  is upset that he can't update his Facebook by ...  \n",
       "2               mattycus  @Kenichan I dived many times for the ball. Man...  \n",
       "3                ElleCTF     my whole body feels itchy and like its on fire  \n",
       "4                 Karoli  @nationwideclass no, it's not behaving at all....  \n",
       "...                  ...                                                ...  \n",
       "1599995  AmandaMarie1028  Just woke up. Having no school is the best fee...  \n",
       "1599996      TheWDBoards  TheWDB.com - Very cool to hear old Walt interv...  \n",
       "1599997           bpbabe  Are you ready for your MoJo Makeover? Ask me f...  \n",
       "1599998     tinydiamondz  Happy 38th Birthday to my boo of alll time!!! ...  \n",
       "1599999   RyanTrevMorris  happy #charitytuesday @theNSPCC @SparksCharity...  \n",
       "\n",
       "[1600000 rows x 6 columns]>"
      ]
     },
     "execution_count": 14,
     "metadata": {},
     "output_type": "execute_result"
    }
   ],
   "source": [
    "df.info"
   ]
  },
  {
   "cell_type": "markdown",
   "id": "0516ff0a-becd-458e-93b1-2bdd9ec248a3",
   "metadata": {},
   "source": [
    "Types of each columns"
   ]
  },
  {
   "cell_type": "code",
   "execution_count": 15,
   "id": "4de6796a-76bd-4a7b-9a6d-3e0788f16f82",
   "metadata": {},
   "outputs": [
    {
     "data": {
      "text/plain": [
       "field1     int64\n",
       "field2     int64\n",
       "field3    object\n",
       "field4    object\n",
       "field5    object\n",
       "field6    object\n",
       "dtype: object"
      ]
     },
     "execution_count": 15,
     "metadata": {},
     "output_type": "execute_result"
    }
   ],
   "source": [
    "df.dtypes"
   ]
  },
  {
   "cell_type": "code",
   "execution_count": 18,
   "id": "45d2686a-8e5d-43b5-b016-3e4844517659",
   "metadata": {},
   "outputs": [
    {
     "data": {
      "text/plain": [
       "array([0, 4])"
      ]
     },
     "execution_count": 18,
     "metadata": {},
     "output_type": "execute_result"
    }
   ],
   "source": [
    "df.iloc[:, 0].unique()"
   ]
  },
  {
   "cell_type": "markdown",
   "id": "cefa407e-23bd-485d-81b0-b7334c6d2fbc",
   "metadata": {},
   "source": [
    "Although the description of dataset, we don't have tweets with target \"2\". So we can replace target from [0,4] by [0,1]"
   ]
  },
  {
   "cell_type": "code",
   "execution_count": null,
   "id": "c65134d8-dc03-4ae2-a13c-0c4f2638e33b",
   "metadata": {},
   "outputs": [],
   "source": []
  },
  {
   "cell_type": "code",
   "execution_count": null,
   "id": "e4f4f32b-5927-4ca4-8a79-84398479f013",
   "metadata": {},
   "outputs": [],
   "source": []
  },
  {
   "cell_type": "code",
   "execution_count": null,
   "id": "d06c2f9e-f59b-4cbe-a6ed-ac503881b1c0",
   "metadata": {},
   "outputs": [],
   "source": []
  },
  {
   "cell_type": "markdown",
   "id": "d1a86470-4dcb-4b3b-9fe5-ab8dc4ad6a20",
   "metadata": {},
   "source": [
    "#### Plot data"
   ]
  },
  {
   "cell_type": "code",
   "execution_count": 49,
   "id": "10536195-0835-4ec1-bd0b-aac8f2219279",
   "metadata": {},
   "outputs": [
    {
     "data": {
      "image/png": "[encoded data removed]",
      "text/plain": [
       "<Figure size 432x288 with 1 Axes>"
      ]
     },
     "metadata": {
      "needs_background": "light"
     },
     "output_type": "display_data"
    }
   ],
   "source": [
    "sns.countplot(data = dataset, x =\"airline\", hue = \"airline_sentiment\");"
   ]
  },
  {
   "cell_type": "code",
   "execution_count": null,
   "id": "104c2a84-4fa1-4d5c-af2b-0b6968d89c17",
   "metadata": {},
   "outputs": [],
   "source": []
  },
  {
   "cell_type": "markdown",
   "id": "8a3eab9a-6d54-4728-b93a-73a0dfbd8b1c",
   "metadata": {},
   "source": [
    "### **Data processing**"
   ]
  },
  {
   "cell_type": "markdown",
   "id": "9fa43bf3-ace8-445a-aded-37ff7e8097bd",
   "metadata": {},
   "source": [
    "The values in the target data are categorical and are 'neutral', 'positive' & 'negative'. For the easy computation, we are replacing the 'neutral', 'positive' & 'negative' with 0, 1 & -1 values respectively."
   ]
  },
  {
   "cell_type": "code",
   "execution_count": 81,
   "id": "3e908d5b-a506-4497-9443-f7693a970f4a",
   "metadata": {},
   "outputs": [
    {
     "data": {
      "text/plain": [
       "-1    9178\n",
       " 0    3099\n",
       " 1    2363\n",
       "Name: airline_sentiment, dtype: int64"
      ]
     },
     "execution_count": 81,
     "metadata": {},
     "output_type": "execute_result"
    }
   ],
   "source": [
    "dataset['airline_sentiment'].replace(('neutral', 'positive', 'negative'), (0, 1, -1), inplace=True)\n",
    "dataset['airline_sentiment'].value_counts()"
   ]
  },
  {
   "cell_type": "code",
   "execution_count": 83,
   "id": "997f69a0-33cc-4101-9548-352b2139cad0",
   "metadata": {},
   "outputs": [
    {
     "data": {
      "text/plain": [
       "0                  @VirginAmerica What @dhepburn said.\n",
       "1    @VirginAmerica plus you've added commercials t...\n",
       "2    @VirginAmerica I didn't today... Must mean I n...\n",
       "3    @VirginAmerica it's really aggressive to blast...\n",
       "4    @VirginAmerica and it's a really big bad thing...\n",
       "Name: text, dtype: object"
      ]
     },
     "execution_count": 83,
     "metadata": {},
     "output_type": "execute_result"
    }
   ],
   "source": [
    "data_text = dataset['text']\n",
    "data_text.head()"
   ]
  },
  {
   "cell_type": "code",
   "execution_count": 85,
   "id": "e994af31-81d9-4f5b-8c9a-65e62bfc6a2e",
   "metadata": {},
   "outputs": [
    {
     "data": {
      "text/plain": [
       "0    0\n",
       "1    1\n",
       "2    0\n",
       "3   -1\n",
       "4   -1\n",
       "Name: airline_sentiment, dtype: int64"
      ]
     },
     "execution_count": 85,
     "metadata": {},
     "output_type": "execute_result"
    }
   ],
   "source": [
    "data_target = dataset['airline_sentiment']\n",
    "data_target.head()"
   ]
  },
  {
   "cell_type": "code",
   "execution_count": 75,
   "id": "d2fb3149-f020-4dbc-a6e4-d71c1e4c605c",
   "metadata": {},
   "outputs": [
    {
     "data": {
      "text/plain": [
       "['i', 'me', 'my', 'myself', 'we']"
      ]
     },
     "execution_count": 75,
     "metadata": {},
     "output_type": "execute_result"
    }
   ],
   "source": [
    "from nltk.corpus import stopwords\n",
    "STOPWORDS=stopwords.words('english')\n",
    "STOPWORDS[:5]"
   ]
  },
  {
   "cell_type": "code",
   "execution_count": 86,
   "id": "690ff8b4-315c-43c9-80d5-f2aaaaedd534",
   "metadata": {},
   "outputs": [
    {
     "data": {
      "text/plain": [
       "484      @VirginAmerica Grouping Virgin others now. BOS...\n",
       "9485     @USAirways great operation guys running. More ...\n",
       "6281     @SouthwestAir birthday February 24th date imag...\n",
       "14576            @AmericanAir But Eagle always Late Flight\n",
       "8963     @JetBlue CEO weighs profits, flyers - @Chronic...\n",
       "Name: text, dtype: object"
      ]
     },
     "execution_count": 86,
     "metadata": {},
     "output_type": "execute_result"
    }
   ],
   "source": [
    "def cleaning_stopwords(text):\n",
    "    return \" \".join([word for word in str(text).split() if word not in STOPWORDS])\n",
    "data_text = data_text.apply(lambda text: cleaning_stopwords(text))\n",
    "data_text.sample(5)"
   ]
  },
  {
   "cell_type": "code",
   "execution_count": null,
   "id": "275b9f3d-b50d-4e92-93eb-f6d5d31cf386",
   "metadata": {},
   "outputs": [],
   "source": [
    "import string\n",
    "english_punctuations = string.punctuation\n",
    "punctuations_list = english_punctuations\n",
    "def cleaning_punctuations(text):\n",
    "    translator = str.maketrans('', '', punctuations_list)\n",
    "    return text.translate(translator)\n",
    "dataset['text']= dataset['text'].apply(lambda x: cleaning_punctuations(x))\n",
    "dataset['text'].sample(5)"
   ]
  },
  {
   "cell_type": "code",
   "execution_count": null,
   "id": "a7ec03da-6763-4ae2-9dbb-ba9462b3878d",
   "metadata": {},
   "outputs": [],
   "source": []
  },
  {
   "cell_type": "code",
   "execution_count": null,
   "id": "1f3da8c2-3293-47d8-8f01-3b61872ddd11",
   "metadata": {},
   "outputs": [],
   "source": []
  },
  {
   "cell_type": "code",
   "execution_count": null,
   "id": "a3cb3f29-4ca3-48ce-abef-1fa9a0cfe7b3",
   "metadata": {},
   "outputs": [],
   "source": []
  },
  {
   "cell_type": "code",
   "execution_count": null,
   "id": "21dbf63b-c8bf-46c9-8285-09d17a4b6b46",
   "metadata": {},
   "outputs": [],
   "source": []
  },
  {
   "cell_type": "code",
   "execution_count": null,
   "id": "80143e2d-6f90-4b14-8b33-272c064835be",
   "metadata": {},
   "outputs": [],
   "source": []
  },
  {
   "cell_type": "code",
   "execution_count": null,
   "id": "db982791-6a04-42b2-aac3-0bc3d72c8341",
   "metadata": {},
   "outputs": [],
   "source": []
  }
 ],
 "metadata": {
  "kernelspec": {
   "display_name": "Python 3 (ipykernel)",
   "language": "python",
   "name": "python3"
  },
  "language_info": {
   "codemirror_mode": {
    "name": "ipython",
    "version": 3
   },
   "file_extension": ".py",
   "mimetype": "text/x-python",
   "name": "python",
   "nbconvert_exporter": "python",
   "pygments_lexer": "ipython3",
   "version": "3.8.12"
  }
 },
 "nbformat": 4,
 "nbformat_minor": 5
}
